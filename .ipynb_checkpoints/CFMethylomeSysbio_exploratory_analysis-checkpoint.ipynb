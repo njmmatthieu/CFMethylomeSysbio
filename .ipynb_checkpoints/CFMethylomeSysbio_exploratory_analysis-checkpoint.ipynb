{
 "cells": [
  {
   "cell_type": "code",
   "execution_count": 1,
   "id": "8ee794a5-42a0-42d0-9359-3f8229dbb784",
   "metadata": {},
   "outputs": [
    {
     "name": "stderr",
     "output_type": "stream",
     "text": [
      "\n",
      "Attaching package: ‘igraph’\n",
      "\n",
      "\n",
      "The following objects are masked from ‘package:stats’:\n",
      "\n",
      "    decompose, spectrum\n",
      "\n",
      "\n",
      "The following object is masked from ‘package:base’:\n",
      "\n",
      "    union\n",
      "\n",
      "\n",
      "\n",
      "Attaching package: ‘dplyr’\n",
      "\n",
      "\n",
      "The following objects are masked from ‘package:igraph’:\n",
      "\n",
      "    as_data_frame, groups, union\n",
      "\n",
      "\n",
      "The following objects are masked from ‘package:stats’:\n",
      "\n",
      "    filter, lag\n",
      "\n",
      "\n",
      "The following objects are masked from ‘package:base’:\n",
      "\n",
      "    intersect, setdiff, setequal, union\n",
      "\n",
      "\n",
      "\n",
      "Attaching package: ‘tibble’\n",
      "\n",
      "\n",
      "The following object is masked from ‘package:igraph’:\n",
      "\n",
      "    as_data_frame\n",
      "\n",
      "\n"
     ]
    }
   ],
   "source": [
    "library(igraph)\n",
    "library(dplyr)\n",
    "library(tibble)"
   ]
  },
  {
   "cell_type": "code",
   "execution_count": 2,
   "id": "368ff547-6bef-4955-abd4-a87af49cff0e",
   "metadata": {},
   "outputs": [
    {
     "data": {
      "text/html": [
       "'/Users/mnajm/miniconda3/envs/r_venv_conda/lib/R/library'"
      ],
      "text/latex": [
       "'/Users/mnajm/miniconda3/envs/r\\_venv\\_conda/lib/R/library'"
      ],
      "text/markdown": [
       "'/Users/mnajm/miniconda3/envs/r_venv_conda/lib/R/library'"
      ],
      "text/plain": [
       "[1] \"/Users/mnajm/miniconda3/envs/r_venv_conda/lib/R/library\""
      ]
     },
     "metadata": {},
     "output_type": "display_data"
    }
   ],
   "source": [
    ".libPaths()"
   ]
  },
  {
   "cell_type": "markdown",
   "id": "079b21fb-fbca-4a23-be8c-a9be02585cb1",
   "metadata": {},
   "source": [
    "# 1. CF network\n",
    "\n",
    "## 1.1 Loading the CF network"
   ]
  },
  {
   "cell_type": "code",
   "execution_count": 3,
   "id": "4e0ed849-2b14-4877-9e3f-4fb6586af6b9",
   "metadata": {},
   "outputs": [],
   "source": [
    "CF_PPI_network.pruned.interactions <- \n",
    "  read.table(file = \"../CFnetwork/data/kegg_diff_pathways_network/diff_kegg_pathways_with_CFTR_interactors_PPI_direct_pruned_interactions_df.txt\",\n",
    "             sep = \"\\t\",\n",
    "             header = T,\n",
    "             check.names = F)\n",
    "\n",
    "CF_PPI_network.pruned.nodes <- \n",
    "  read.table(file = \"../CFnetwork/data/kegg_diff_pathways_network/diff_kegg_pathways_with_CFTR_interactors_PPI_direct_pruned_nodes_df.txt\",\n",
    "             sep = \"\\t\",\n",
    "             header = T,\n",
    "             check.names = F)"
   ]
  },
  {
   "cell_type": "markdown",
   "id": "b00d6f9f-3277-4a52-93db-297d294a0c67",
   "metadata": {},
   "source": [
    "## 1.2 As an igraph object"
   ]
  },
  {
   "cell_type": "code",
   "execution_count": 4,
   "id": "48939928-7681-4b4e-a74f-468a51d59217",
   "metadata": {},
   "outputs": [],
   "source": [
    "source(\"../CFnetwork/scripts/pathways_to_network/network_utils.R\")"
   ]
  },
  {
   "cell_type": "code",
   "execution_count": 5,
   "id": "557bc92f-cad9-4f02-8fd1-2c3bc3b026aa",
   "metadata": {},
   "outputs": [],
   "source": [
    "CF_PPI_network.pruned <- new(\"PPI_network\",\n",
    "                             interactions=CF_PPI_network.pruned.interactions,\n",
    "                             nodes=CF_PPI_network.pruned.nodes)\n",
    "CF_PPI_network.pruned.with_CFTR <- CF_PPI_network.pruned"
   ]
  },
  {
   "cell_type": "markdown",
   "id": "be5ec02c-a35f-4fb0-b8bf-90d640ac04f0",
   "metadata": {},
   "source": [
    "## 1.3 Remove CFTR from the network and its indirect interactors"
   ]
  },
  {
   "cell_type": "code",
   "execution_count": 6,
   "id": "2cd59910-267c-4616-9429-c667ea513c60",
   "metadata": {},
   "outputs": [],
   "source": [
    "CFTR_indirect_interactors <- CF_PPI_network.pruned.nodes[which(is.na(CF_PPI_network.pruned.nodes$sum)),\n",
    "                                                         \"Symbol\"]\n",
    "\n",
    "CF_PPI_network.pruned@nodes <- CF_PPI_network.pruned@nodes[which(!CF_PPI_network.pruned@nodes$Symbol %in% c(\"CFTR\", CFTR_indirect_interactors)),]\n",
    "CF_PPI_network.pruned@interactions <- CF_PPI_network.pruned@interactions[which(!CF_PPI_network.pruned@interactions$genesymbol_source %in% c(\"CFTR\", CFTR_indirect_interactors) &\n",
    "                                                                                 !CF_PPI_network.pruned@interactions$genesymbol_target %in% c(\"CFTR\", CFTR_indirect_interactors)),]"
   ]
  },
  {
   "cell_type": "markdown",
   "id": "b312474a-51de-4749-8480-eb524fa04fc7",
   "metadata": {},
   "source": [
    "## 1.4 Binding interactions into two directed interactions in both directions"
   ]
  },
  {
   "cell_type": "code",
   "execution_count": 7,
   "id": "079d659f-a6a3-497b-924d-22dc8f1c7b30",
   "metadata": {},
   "outputs": [],
   "source": [
    "# Pb of binding interactions\n",
    "## Non binding\n",
    "CF_PPI_network.pruned.interactions.non_binding <- \n",
    "  CF_PPI_network.pruned@interactions[which(!(CF_PPI_network.pruned@interactions$effect %in% c(\"binding/association\"))),]\n",
    "CF_PPI_network.pruned.interactions.non_binding <- \n",
    "  CF_PPI_network.pruned.interactions.non_binding[,c(\"genesymbol_source\",\n",
    "                                                           \"genesymbol_target\")]\n",
    "colnames(CF_PPI_network.pruned.interactions.non_binding) <- c(\"from\", \n",
    "                                                                     \"to\")\n",
    "\n",
    "# ## Dissociation\n",
    "CF_PPI_network.pruned.interactions.binding <- \n",
    "  CF_PPI_network.pruned@interactions[which(CF_PPI_network.pruned@interactions$effect %in% c(\"binding/association\")),]\n",
    "# Both directions for binding interactions\n",
    "## one direction\n",
    "CF_PPI_network.pruned.interactions.binding.one_direction <- \n",
    "  CF_PPI_network.pruned.interactions.binding[,c(\"genesymbol_source\",\n",
    "                                                       \"genesymbol_target\")]\n",
    "colnames(CF_PPI_network.pruned.interactions.binding.one_direction) <- c(\"from\", \n",
    "                                                                               \"to\")\n",
    "## other direction\n",
    "CF_PPI_network.pruned.interactions.binding.other_direction <- \n",
    "  CF_PPI_network.pruned.interactions.binding[,c(\"genesymbol_target\", \n",
    "                                                       \"genesymbol_source\")]\n",
    "colnames(CF_PPI_network.pruned.interactions.binding.other_direction) <- c(\"from\", \n",
    "                                                                                 \"to\")\n",
    "## both directions\n",
    "CF_PPI_network.pruned.interactions.binding.both_directions <- \n",
    "  rbind(CF_PPI_network.pruned.interactions.binding.one_direction,\n",
    "        CF_PPI_network.pruned.interactions.binding.other_direction)\n",
    "CF_PPI_network.pruned.for_igraph <- rbind(CF_PPI_network.pruned.interactions.non_binding,\n",
    "                                       CF_PPI_network.pruned.interactions.binding.both_directions)"
   ]
  },
  {
   "cell_type": "code",
   "execution_count": 8,
   "id": "afdd03ea-5660-4ca4-8c03-e9dc95771079",
   "metadata": {},
   "outputs": [],
   "source": [
    "CF_PPI_network.pruned.igraph <- graph_from_data_frame(CF_PPI_network.pruned.for_igraph, \n",
    "                                                   directed=TRUE)"
   ]
  },
  {
   "cell_type": "markdown",
   "id": "6d2d8210-a245-4679-bc1d-be8c697782c0",
   "metadata": {},
   "source": [
    "## 1.5 Interesting nodes"
   ]
  },
  {
   "cell_type": "markdown",
   "id": "aac034ac-ad13-4d64-b326-4f2f28cfaf10",
   "metadata": {},
   "source": [
    "### 1.5.1 Sink nodes"
   ]
  },
  {
   "cell_type": "code",
   "execution_count": 9,
   "id": "eaf27a02-549d-461a-a62a-191ad619982e",
   "metadata": {},
   "outputs": [],
   "source": [
    "sink_nodes.final.pathways.df <- read.table(file = \"../CFnetwork/data/sink_nodes/CFnetwork_sink_nodes_to_pathways.txt\",\n",
    "                                          sep = \"\\t\",\n",
    "                                          header = T,\n",
    "                                          na.strings = \"\",\n",
    "                                          check.names = FALSE)\n",
    "sink_nodes.final.pathways.df <- sink_nodes.final.pathways.df[order(sink_nodes.final.pathways.df$Endpoint_cat),]\n",
    "sink_nodes.final.pathways.df$Symbol <- as.character(sink_nodes.final.pathways.df$Symbol)\n",
    "sink_nodes <- as.character(sink_nodes.final.pathways.df$Symbol)"
   ]
  },
  {
   "cell_type": "markdown",
   "id": "a40e338c-5466-4efc-ba1c-adaf32aeb010",
   "metadata": {},
   "source": [
    "### 1.5.2 Source nodes"
   ]
  },
  {
   "cell_type": "code",
   "execution_count": 10,
   "id": "858dbf1b-48df-406f-997c-fec4ee447600",
   "metadata": {},
   "outputs": [],
   "source": [
    "source_nodes <- c(\"TRADD\",\n",
    "                  \"PRKACA\",\n",
    "                  \"SYK\",\n",
    "                  \"CSNK2A1\",\n",
    "                  \"SRC\",\n",
    "                  \"PLCB1\",\n",
    "                  \"PLCB3\",\n",
    "                  \"EZR\")"
   ]
  },
  {
   "cell_type": "markdown",
   "id": "dd26186f-c26a-426e-849f-802ca105324e",
   "metadata": {},
   "source": [
    "# 2. Differentially methylated CpG sites between CF and NCF dataframe"
   ]
  },
  {
   "cell_type": "code",
   "execution_count": 11,
   "id": "0eacaed1-2fde-4fc5-9daf-e340d51beb19",
   "metadata": {},
   "outputs": [],
   "source": [
    "dm_CF_NCF_sup_table3_1267CpG <- \n",
    "  read.table(file = \"../CFMethylomeSysbio/dm_CpG_CF_NCF_Magalhaes_2018_sup_table_3.tsv\",\n",
    "             skip = 1,\n",
    "             quote = \"\\\"\",\n",
    "             sep = \"\\t\",\n",
    "             header = T,\n",
    "             check.names = F)\n",
    "\n",
    "dm_CF_NCF_sup_table3_1267CpG <- \n",
    "  dm_CF_NCF_sup_table3_1267CpG[order(dm_CF_NCF_sup_table3_1267CpG$`p-value`),]\n",
    "dm_CF_NCF_sup_table3_1267CpG$CpG_rank <- 1:dim(dm_CF_NCF_sup_table3_1267CpG)[1]"
   ]
  },
  {
   "cell_type": "markdown",
   "id": "417df4e7-482a-4498-a3ba-b8adc66f5ee1",
   "metadata": {},
   "source": [
    "## 2.1 Keeping only CpG sites in the body of the genes"
   ]
  },
  {
   "cell_type": "code",
   "execution_count": 12,
   "id": "deef5ee5-5a5c-4e3f-bfe8-5492f8fb01c6",
   "metadata": {},
   "outputs": [],
   "source": [
    "dm_CF_NCF_sup_table3_1267CpG_onlyGenes <- \n",
    "  dm_CF_NCF_sup_table3_1267CpG[which(dm_CF_NCF_sup_table3_1267CpG$`Genomic location`==\"Body\"),]\n",
    "\n",
    "dm_CF_NCF_sup_table3_1267CpG_onlyGenes$Gene_rank <- 1:dim(dm_CF_NCF_sup_table3_1267CpG_onlyGenes)[1]"
   ]
  },
  {
   "cell_type": "markdown",
   "id": "f27826c1-6826-4415-92d6-5f8c52941062",
   "metadata": {},
   "source": [
    "## 2.2 Searching for dm genes in the CF network"
   ]
  },
  {
   "cell_type": "code",
   "execution_count": 13,
   "id": "b1d358c5-7127-4737-9849-472597d9f532",
   "metadata": {},
   "outputs": [],
   "source": [
    "dm_CF_NCF_sup_table3_1267CpG_Genes.list <- unique(dm_CF_NCF_sup_table3_1267CpG_onlyGenes$Gene)\n",
    "\n",
    "dm_CF_NCF_Genes_in_CF_network.list <- \n",
    "  dm_CF_NCF_sup_table3_1267CpG_Genes.list[which(dm_CF_NCF_sup_table3_1267CpG_Genes.list %in% CF_PPI_network.pruned.nodes$Symbol)]\n",
    "\n",
    "dm_CF_NCF_Genes_in_CF_network.dm_CF_NCF_df <-\n",
    "  dm_CF_NCF_sup_table3_1267CpG[which(dm_CF_NCF_sup_table3_1267CpG$Gene %in% dm_CF_NCF_Genes_in_CF_network.list),]"
   ]
  },
  {
   "cell_type": "code",
   "execution_count": 14,
   "id": "7cdb85cc-dcfe-4bd7-ac21-8dc1e6192c81",
   "metadata": {},
   "outputs": [
    {
     "data": {
      "text/html": [
       "<table class=\"dataframe\">\n",
       "<caption>A data.frame: 11 × 9</caption>\n",
       "<thead>\n",
       "\t<tr><th></th><th scope=col>Probe ID</th><th scope=col>Gene</th><th scope=col>p-value</th><th scope=col>Median β CF patients</th><th scope=col>Median β Controls</th><th scope=col>Genomic location</th><th scope=col>Island status</th><th scope=col>*Enhancer</th><th scope=col>CpG_rank</th></tr>\n",
       "\t<tr><th></th><th scope=col>&lt;chr&gt;</th><th scope=col>&lt;chr&gt;</th><th scope=col>&lt;dbl&gt;</th><th scope=col>&lt;chr&gt;</th><th scope=col>&lt;chr&gt;</th><th scope=col>&lt;chr&gt;</th><th scope=col>&lt;chr&gt;</th><th scope=col>&lt;lgl&gt;</th><th scope=col>&lt;int&gt;</th></tr>\n",
       "</thead>\n",
       "<tbody>\n",
       "\t<tr><th scope=row>647</th><td>cg13433729</td><td>EZR     </td><td>1.2e-06</td><td>0,61</td><td>0,49</td><td>Body</td><td>Open sea</td><td> TRUE</td><td>   2</td></tr>\n",
       "\t<tr><th scope=row>104</th><td>cg01899581</td><td>DIAPH3  </td><td>9.0e-05</td><td>0,64</td><td>0,47</td><td>Body</td><td>N_Shelf </td><td>FALSE</td><td>  53</td></tr>\n",
       "\t<tr><th scope=row>552</th><td>cg11321921</td><td>NFATC1  </td><td>5.5e-04</td><td>0,78</td><td>0,91</td><td>Body</td><td>Island  </td><td>FALSE</td><td> 240</td></tr>\n",
       "\t<tr><th scope=row>306</th><td>cg05687091</td><td>NFATC1  </td><td>6.1e-04</td><td>0,54</td><td>0,64</td><td>Body</td><td>Island  </td><td>FALSE</td><td> 257</td></tr>\n",
       "\t<tr><th scope=row>1086</th><td>cg23752651</td><td>TNFRSF1A</td><td>9.5e-04</td><td>0,58</td><td>0,70</td><td>Body</td><td>Open sea</td><td>FALSE</td><td> 374</td></tr>\n",
       "\t<tr><th scope=row>1007</th><td>cg22240998</td><td>ITPR1   </td><td>1.1e-03</td><td>0,60</td><td>0,50</td><td>Body</td><td>Open sea</td><td> TRUE</td><td> 420</td></tr>\n",
       "\t<tr><th scope=row>891</th><td>cg18984715</td><td>CBLB    </td><td>1.2e-03</td><td>0,79</td><td>0,67</td><td>Body</td><td>Open sea</td><td> TRUE</td><td> 441</td></tr>\n",
       "\t<tr><th scope=row>234</th><td>cg04221461</td><td>AKT3    </td><td>2.2e-03</td><td>0,46</td><td>0,56</td><td>Body</td><td>Open sea</td><td>FALSE</td><td> 613</td></tr>\n",
       "\t<tr><th scope=row>968</th><td>cg21070009</td><td>MAP2K1  </td><td>4.1e-03</td><td>0,48</td><td>0,35</td><td>Body</td><td>Open sea</td><td> TRUE</td><td> 852</td></tr>\n",
       "\t<tr><th scope=row>400</th><td>cg07671055</td><td>PLCG2   </td><td>5.6e-03</td><td>0,48</td><td>0,59</td><td>Body</td><td>Open sea</td><td>FALSE</td><td> 952</td></tr>\n",
       "\t<tr><th scope=row>116</th><td>cg02026049</td><td>BAIAP2  </td><td>7.9e-03</td><td>0,65</td><td>0,76</td><td>Body</td><td>N_Shelf </td><td>FALSE</td><td>1123</td></tr>\n",
       "</tbody>\n",
       "</table>\n"
      ],
      "text/latex": [
       "A data.frame: 11 × 9\n",
       "\\begin{tabular}{r|lllllllll}\n",
       "  & Probe ID & Gene & p-value & Median β CF patients & Median β Controls & Genomic location & Island status & *Enhancer & CpG\\_rank\\\\\n",
       "  & <chr> & <chr> & <dbl> & <chr> & <chr> & <chr> & <chr> & <lgl> & <int>\\\\\n",
       "\\hline\n",
       "\t647 & cg13433729 & EZR      & 1.2e-06 & 0,61 & 0,49 & Body & Open sea &  TRUE &    2\\\\\n",
       "\t104 & cg01899581 & DIAPH3   & 9.0e-05 & 0,64 & 0,47 & Body & N\\_Shelf  & FALSE &   53\\\\\n",
       "\t552 & cg11321921 & NFATC1   & 5.5e-04 & 0,78 & 0,91 & Body & Island   & FALSE &  240\\\\\n",
       "\t306 & cg05687091 & NFATC1   & 6.1e-04 & 0,54 & 0,64 & Body & Island   & FALSE &  257\\\\\n",
       "\t1086 & cg23752651 & TNFRSF1A & 9.5e-04 & 0,58 & 0,70 & Body & Open sea & FALSE &  374\\\\\n",
       "\t1007 & cg22240998 & ITPR1    & 1.1e-03 & 0,60 & 0,50 & Body & Open sea &  TRUE &  420\\\\\n",
       "\t891 & cg18984715 & CBLB     & 1.2e-03 & 0,79 & 0,67 & Body & Open sea &  TRUE &  441\\\\\n",
       "\t234 & cg04221461 & AKT3     & 2.2e-03 & 0,46 & 0,56 & Body & Open sea & FALSE &  613\\\\\n",
       "\t968 & cg21070009 & MAP2K1   & 4.1e-03 & 0,48 & 0,35 & Body & Open sea &  TRUE &  852\\\\\n",
       "\t400 & cg07671055 & PLCG2    & 5.6e-03 & 0,48 & 0,59 & Body & Open sea & FALSE &  952\\\\\n",
       "\t116 & cg02026049 & BAIAP2   & 7.9e-03 & 0,65 & 0,76 & Body & N\\_Shelf  & FALSE & 1123\\\\\n",
       "\\end{tabular}\n"
      ],
      "text/markdown": [
       "\n",
       "A data.frame: 11 × 9\n",
       "\n",
       "| <!--/--> | Probe ID &lt;chr&gt; | Gene &lt;chr&gt; | p-value &lt;dbl&gt; | Median β CF patients &lt;chr&gt; | Median β Controls &lt;chr&gt; | Genomic location &lt;chr&gt; | Island status &lt;chr&gt; | *Enhancer &lt;lgl&gt; | CpG_rank &lt;int&gt; |\n",
       "|---|---|---|---|---|---|---|---|---|---|\n",
       "| 647 | cg13433729 | EZR      | 1.2e-06 | 0,61 | 0,49 | Body | Open sea |  TRUE |    2 |\n",
       "| 104 | cg01899581 | DIAPH3   | 9.0e-05 | 0,64 | 0,47 | Body | N_Shelf  | FALSE |   53 |\n",
       "| 552 | cg11321921 | NFATC1   | 5.5e-04 | 0,78 | 0,91 | Body | Island   | FALSE |  240 |\n",
       "| 306 | cg05687091 | NFATC1   | 6.1e-04 | 0,54 | 0,64 | Body | Island   | FALSE |  257 |\n",
       "| 1086 | cg23752651 | TNFRSF1A | 9.5e-04 | 0,58 | 0,70 | Body | Open sea | FALSE |  374 |\n",
       "| 1007 | cg22240998 | ITPR1    | 1.1e-03 | 0,60 | 0,50 | Body | Open sea |  TRUE |  420 |\n",
       "| 891 | cg18984715 | CBLB     | 1.2e-03 | 0,79 | 0,67 | Body | Open sea |  TRUE |  441 |\n",
       "| 234 | cg04221461 | AKT3     | 2.2e-03 | 0,46 | 0,56 | Body | Open sea | FALSE |  613 |\n",
       "| 968 | cg21070009 | MAP2K1   | 4.1e-03 | 0,48 | 0,35 | Body | Open sea |  TRUE |  852 |\n",
       "| 400 | cg07671055 | PLCG2    | 5.6e-03 | 0,48 | 0,59 | Body | Open sea | FALSE |  952 |\n",
       "| 116 | cg02026049 | BAIAP2   | 7.9e-03 | 0,65 | 0,76 | Body | N_Shelf  | FALSE | 1123 |\n",
       "\n"
      ],
      "text/plain": [
       "     Probe ID   Gene     p-value Median β CF patients Median β Controls\n",
       "647  cg13433729 EZR      1.2e-06 0,61                 0,49             \n",
       "104  cg01899581 DIAPH3   9.0e-05 0,64                 0,47             \n",
       "552  cg11321921 NFATC1   5.5e-04 0,78                 0,91             \n",
       "306  cg05687091 NFATC1   6.1e-04 0,54                 0,64             \n",
       "1086 cg23752651 TNFRSF1A 9.5e-04 0,58                 0,70             \n",
       "1007 cg22240998 ITPR1    1.1e-03 0,60                 0,50             \n",
       "891  cg18984715 CBLB     1.2e-03 0,79                 0,67             \n",
       "234  cg04221461 AKT3     2.2e-03 0,46                 0,56             \n",
       "968  cg21070009 MAP2K1   4.1e-03 0,48                 0,35             \n",
       "400  cg07671055 PLCG2    5.6e-03 0,48                 0,59             \n",
       "116  cg02026049 BAIAP2   7.9e-03 0,65                 0,76             \n",
       "     Genomic location Island status *Enhancer CpG_rank\n",
       "647  Body             Open sea       TRUE        2    \n",
       "104  Body             N_Shelf       FALSE       53    \n",
       "552  Body             Island        FALSE      240    \n",
       "306  Body             Island        FALSE      257    \n",
       "1086 Body             Open sea      FALSE      374    \n",
       "1007 Body             Open sea       TRUE      420    \n",
       "891  Body             Open sea       TRUE      441    \n",
       "234  Body             Open sea      FALSE      613    \n",
       "968  Body             Open sea       TRUE      852    \n",
       "400  Body             Open sea      FALSE      952    \n",
       "116  Body             N_Shelf       FALSE     1123    "
      ]
     },
     "metadata": {},
     "output_type": "display_data"
    }
   ],
   "source": [
    "dm_CF_NCF_Genes_in_CF_network.dm_CF_NCF_df"
   ]
  },
  {
   "cell_type": "markdown",
   "id": "1aff9e2a-6efd-47fb-94fe-7b78174f5958",
   "metadata": {},
   "source": [
    "## 2.3 Network analysis"
   ]
  },
  {
   "cell_type": "code",
   "execution_count": 15,
   "id": "5ecd769f-ec47-4ebd-ab3a-37b9f1cf397f",
   "metadata": {},
   "outputs": [],
   "source": [
    "CF_PPI_network.pruned.dists <- distances(CF_PPI_network.pruned.igraph, mode = \"out\")"
   ]
  },
  {
   "cell_type": "markdown",
   "id": "6b6a7b9e-473c-4c54-ac23-e559e17498b9",
   "metadata": {},
   "source": [
    "### 2.3.1 Distance to sink nodes"
   ]
  },
  {
   "cell_type": "code",
   "execution_count": 16,
   "id": "b6f842fc-1b9c-4171-9665-7f98530a5b22",
   "metadata": {},
   "outputs": [],
   "source": [
    "### DM gene to sink nodes\n",
    "CF_PPI_network.pruned.dm_to_sink_nodes <- CF_PPI_network.pruned.dists[dm_CF_NCF_Genes_in_CF_network.list, sink_nodes]\n"
   ]
  },
  {
   "cell_type": "code",
   "execution_count": 17,
   "id": "026cf797-a3c6-403b-93c5-ca5db1706fd8",
   "metadata": {},
   "outputs": [
    {
     "data": {
      "text/html": [
       "<table class=\"dataframe\">\n",
       "<caption>A matrix: 10 × 35 of type dbl</caption>\n",
       "<thead>\n",
       "\t<tr><th></th><th scope=col>CASP1</th><th scope=col>CASP3</th><th scope=col>CASP7</th><th scope=col>CYBA</th><th scope=col>CYBB</th><th scope=col>DNM1L</th><th scope=col>GABARAP</th><th scope=col>ACTN4</th><th scope=col>ARPC5</th><th scope=col>CFL1</th><th scope=col>⋯</th><th scope=col>IRF5</th><th scope=col>IRF7</th><th scope=col>IRF9</th><th scope=col>JUN</th><th scope=col>NFATC1</th><th scope=col>NFKB1</th><th scope=col>NFKB2</th><th scope=col>RELA</th><th scope=col>RELB</th><th scope=col>STAT1</th></tr>\n",
       "</thead>\n",
       "<tbody>\n",
       "\t<tr><th scope=row>EZR</th><td>Inf</td><td>Inf</td><td>Inf</td><td>Inf</td><td>Inf</td><td>Inf</td><td>Inf</td><td>  7</td><td>Inf</td><td>  7</td><td>⋯</td><td>Inf</td><td>Inf</td><td>Inf</td><td>  5</td><td>Inf</td><td>  4</td><td>  5</td><td>  3</td><td>  4</td><td>Inf</td></tr>\n",
       "\t<tr><th scope=row>DIAPH3</th><td>Inf</td><td>Inf</td><td>Inf</td><td>Inf</td><td>Inf</td><td>Inf</td><td>Inf</td><td>Inf</td><td>  3</td><td>Inf</td><td>⋯</td><td>Inf</td><td>Inf</td><td>Inf</td><td>Inf</td><td>Inf</td><td>Inf</td><td>Inf</td><td>Inf</td><td>Inf</td><td>Inf</td></tr>\n",
       "\t<tr><th scope=row>NFATC1</th><td>Inf</td><td>Inf</td><td>Inf</td><td>Inf</td><td>Inf</td><td>Inf</td><td>Inf</td><td>Inf</td><td>Inf</td><td>Inf</td><td>⋯</td><td>Inf</td><td>Inf</td><td>Inf</td><td>Inf</td><td>  0</td><td>Inf</td><td>Inf</td><td>Inf</td><td>Inf</td><td>Inf</td></tr>\n",
       "\t<tr><th scope=row>TNFRSF1A</th><td>  4</td><td>  3</td><td>  4</td><td>  5</td><td>  6</td><td>  4</td><td>  9</td><td>  6</td><td>  7</td><td>  7</td><td>⋯</td><td>  4</td><td>  4</td><td>  5</td><td>  5</td><td>  5</td><td>  4</td><td>  4</td><td>  5</td><td>  5</td><td>  4</td></tr>\n",
       "\t<tr><th scope=row>ITPR1</th><td>  3</td><td>  4</td><td>  4</td><td> 10</td><td> 11</td><td>  7</td><td>  6</td><td> 10</td><td> 12</td><td> 10</td><td>⋯</td><td>  5</td><td>  5</td><td>  8</td><td>  6</td><td>  3</td><td>  4</td><td>  7</td><td>  5</td><td>  6</td><td>  7</td></tr>\n",
       "\t<tr><th scope=row>CBLB</th><td>  6</td><td>  5</td><td>  6</td><td>  5</td><td>  6</td><td>  6</td><td>  9</td><td>  6</td><td>  7</td><td>  6</td><td>⋯</td><td>  5</td><td>  5</td><td>  5</td><td>  3</td><td>  4</td><td>  4</td><td>  5</td><td>  5</td><td>  6</td><td>  4</td></tr>\n",
       "\t<tr><th scope=row>AKT3</th><td>  7</td><td>  7</td><td>  7</td><td>  9</td><td> 10</td><td>  8</td><td>  9</td><td>  6</td><td> 11</td><td>  6</td><td>⋯</td><td>  6</td><td>  2</td><td>  6</td><td>  4</td><td>  2</td><td>  3</td><td>  2</td><td>  4</td><td>  3</td><td>  5</td></tr>\n",
       "\t<tr><th scope=row>MAP2K1</th><td>Inf</td><td>Inf</td><td>Inf</td><td>Inf</td><td>Inf</td><td>Inf</td><td>Inf</td><td>  4</td><td>Inf</td><td>  4</td><td>⋯</td><td>Inf</td><td>Inf</td><td>Inf</td><td>  2</td><td>Inf</td><td>  8</td><td>  9</td><td>  7</td><td>  8</td><td>Inf</td></tr>\n",
       "\t<tr><th scope=row>PLCG2</th><td>  4</td><td>  5</td><td>  5</td><td>  6</td><td>  7</td><td>  6</td><td>  7</td><td>  5</td><td>  8</td><td>  5</td><td>⋯</td><td>  6</td><td>  5</td><td>  6</td><td>  3</td><td>  2</td><td>  4</td><td>  5</td><td>  5</td><td>  6</td><td>  5</td></tr>\n",
       "\t<tr><th scope=row>BAIAP2</th><td>Inf</td><td>Inf</td><td>Inf</td><td>Inf</td><td>Inf</td><td>Inf</td><td>Inf</td><td>Inf</td><td>  2</td><td>Inf</td><td>⋯</td><td>Inf</td><td>Inf</td><td>Inf</td><td>Inf</td><td>Inf</td><td>Inf</td><td>Inf</td><td>Inf</td><td>Inf</td><td>Inf</td></tr>\n",
       "</tbody>\n",
       "</table>\n"
      ],
      "text/latex": [
       "A matrix: 10 × 35 of type dbl\n",
       "\\begin{tabular}{r|lllllllllllllllllllll}\n",
       "  & CASP1 & CASP3 & CASP7 & CYBA & CYBB & DNM1L & GABARAP & ACTN4 & ARPC5 & CFL1 & ⋯ & IRF5 & IRF7 & IRF9 & JUN & NFATC1 & NFKB1 & NFKB2 & RELA & RELB & STAT1\\\\\n",
       "\\hline\n",
       "\tEZR & Inf & Inf & Inf & Inf & Inf & Inf & Inf &   7 & Inf &   7 & ⋯ & Inf & Inf & Inf &   5 & Inf &   4 &   5 &   3 &   4 & Inf\\\\\n",
       "\tDIAPH3 & Inf & Inf & Inf & Inf & Inf & Inf & Inf & Inf &   3 & Inf & ⋯ & Inf & Inf & Inf & Inf & Inf & Inf & Inf & Inf & Inf & Inf\\\\\n",
       "\tNFATC1 & Inf & Inf & Inf & Inf & Inf & Inf & Inf & Inf & Inf & Inf & ⋯ & Inf & Inf & Inf & Inf &   0 & Inf & Inf & Inf & Inf & Inf\\\\\n",
       "\tTNFRSF1A &   4 &   3 &   4 &   5 &   6 &   4 &   9 &   6 &   7 &   7 & ⋯ &   4 &   4 &   5 &   5 &   5 &   4 &   4 &   5 &   5 &   4\\\\\n",
       "\tITPR1 &   3 &   4 &   4 &  10 &  11 &   7 &   6 &  10 &  12 &  10 & ⋯ &   5 &   5 &   8 &   6 &   3 &   4 &   7 &   5 &   6 &   7\\\\\n",
       "\tCBLB &   6 &   5 &   6 &   5 &   6 &   6 &   9 &   6 &   7 &   6 & ⋯ &   5 &   5 &   5 &   3 &   4 &   4 &   5 &   5 &   6 &   4\\\\\n",
       "\tAKT3 &   7 &   7 &   7 &   9 &  10 &   8 &   9 &   6 &  11 &   6 & ⋯ &   6 &   2 &   6 &   4 &   2 &   3 &   2 &   4 &   3 &   5\\\\\n",
       "\tMAP2K1 & Inf & Inf & Inf & Inf & Inf & Inf & Inf &   4 & Inf &   4 & ⋯ & Inf & Inf & Inf &   2 & Inf &   8 &   9 &   7 &   8 & Inf\\\\\n",
       "\tPLCG2 &   4 &   5 &   5 &   6 &   7 &   6 &   7 &   5 &   8 &   5 & ⋯ &   6 &   5 &   6 &   3 &   2 &   4 &   5 &   5 &   6 &   5\\\\\n",
       "\tBAIAP2 & Inf & Inf & Inf & Inf & Inf & Inf & Inf & Inf &   2 & Inf & ⋯ & Inf & Inf & Inf & Inf & Inf & Inf & Inf & Inf & Inf & Inf\\\\\n",
       "\\end{tabular}\n"
      ],
      "text/markdown": [
       "\n",
       "A matrix: 10 × 35 of type dbl\n",
       "\n",
       "| <!--/--> | CASP1 | CASP3 | CASP7 | CYBA | CYBB | DNM1L | GABARAP | ACTN4 | ARPC5 | CFL1 | ⋯ | IRF5 | IRF7 | IRF9 | JUN | NFATC1 | NFKB1 | NFKB2 | RELA | RELB | STAT1 |\n",
       "|---|---|---|---|---|---|---|---|---|---|---|---|---|---|---|---|---|---|---|---|---|---|\n",
       "| EZR | Inf | Inf | Inf | Inf | Inf | Inf | Inf |   7 | Inf |   7 | ⋯ | Inf | Inf | Inf |   5 | Inf |   4 |   5 |   3 |   4 | Inf |\n",
       "| DIAPH3 | Inf | Inf | Inf | Inf | Inf | Inf | Inf | Inf |   3 | Inf | ⋯ | Inf | Inf | Inf | Inf | Inf | Inf | Inf | Inf | Inf | Inf |\n",
       "| NFATC1 | Inf | Inf | Inf | Inf | Inf | Inf | Inf | Inf | Inf | Inf | ⋯ | Inf | Inf | Inf | Inf |   0 | Inf | Inf | Inf | Inf | Inf |\n",
       "| TNFRSF1A |   4 |   3 |   4 |   5 |   6 |   4 |   9 |   6 |   7 |   7 | ⋯ |   4 |   4 |   5 |   5 |   5 |   4 |   4 |   5 |   5 |   4 |\n",
       "| ITPR1 |   3 |   4 |   4 |  10 |  11 |   7 |   6 |  10 |  12 |  10 | ⋯ |   5 |   5 |   8 |   6 |   3 |   4 |   7 |   5 |   6 |   7 |\n",
       "| CBLB |   6 |   5 |   6 |   5 |   6 |   6 |   9 |   6 |   7 |   6 | ⋯ |   5 |   5 |   5 |   3 |   4 |   4 |   5 |   5 |   6 |   4 |\n",
       "| AKT3 |   7 |   7 |   7 |   9 |  10 |   8 |   9 |   6 |  11 |   6 | ⋯ |   6 |   2 |   6 |   4 |   2 |   3 |   2 |   4 |   3 |   5 |\n",
       "| MAP2K1 | Inf | Inf | Inf | Inf | Inf | Inf | Inf |   4 | Inf |   4 | ⋯ | Inf | Inf | Inf |   2 | Inf |   8 |   9 |   7 |   8 | Inf |\n",
       "| PLCG2 |   4 |   5 |   5 |   6 |   7 |   6 |   7 |   5 |   8 |   5 | ⋯ |   6 |   5 |   6 |   3 |   2 |   4 |   5 |   5 |   6 |   5 |\n",
       "| BAIAP2 | Inf | Inf | Inf | Inf | Inf | Inf | Inf | Inf |   2 | Inf | ⋯ | Inf | Inf | Inf | Inf | Inf | Inf | Inf | Inf | Inf | Inf |\n",
       "\n"
      ],
      "text/plain": [
       "         CASP1 CASP3 CASP7 CYBA CYBB DNM1L GABARAP ACTN4 ARPC5 CFL1 ⋯ IRF5 IRF7\n",
       "EZR      Inf   Inf   Inf   Inf  Inf  Inf   Inf       7   Inf     7  ⋯ Inf  Inf \n",
       "DIAPH3   Inf   Inf   Inf   Inf  Inf  Inf   Inf     Inf     3   Inf  ⋯ Inf  Inf \n",
       "NFATC1   Inf   Inf   Inf   Inf  Inf  Inf   Inf     Inf   Inf   Inf  ⋯ Inf  Inf \n",
       "TNFRSF1A   4     3     4     5    6    4     9       6     7     7  ⋯   4    4 \n",
       "ITPR1      3     4     4    10   11    7     6      10    12    10  ⋯   5    5 \n",
       "CBLB       6     5     6     5    6    6     9       6     7     6  ⋯   5    5 \n",
       "AKT3       7     7     7     9   10    8     9       6    11     6  ⋯   6    2 \n",
       "MAP2K1   Inf   Inf   Inf   Inf  Inf  Inf   Inf       4   Inf     4  ⋯ Inf  Inf \n",
       "PLCG2      4     5     5     6    7    6     7       5     8     5  ⋯   6    5 \n",
       "BAIAP2   Inf   Inf   Inf   Inf  Inf  Inf   Inf     Inf     2   Inf  ⋯ Inf  Inf \n",
       "         IRF9 JUN NFATC1 NFKB1 NFKB2 RELA RELB STAT1\n",
       "EZR      Inf    5 Inf      4     5     3    4  Inf  \n",
       "DIAPH3   Inf  Inf Inf    Inf   Inf   Inf  Inf  Inf  \n",
       "NFATC1   Inf  Inf   0    Inf   Inf   Inf  Inf  Inf  \n",
       "TNFRSF1A   5    5   5      4     4     5    5    4  \n",
       "ITPR1      8    6   3      4     7     5    6    7  \n",
       "CBLB       5    3   4      4     5     5    6    4  \n",
       "AKT3       6    4   2      3     2     4    3    5  \n",
       "MAP2K1   Inf    2 Inf      8     9     7    8  Inf  \n",
       "PLCG2      6    3   2      4     5     5    6    5  \n",
       "BAIAP2   Inf  Inf Inf    Inf   Inf   Inf  Inf  Inf  "
      ]
     },
     "metadata": {},
     "output_type": "display_data"
    }
   ],
   "source": [
    "CF_PPI_network.pruned.dm_to_sink_nodes"
   ]
  },
  {
   "cell_type": "code",
   "execution_count": 18,
   "id": "c4db82ee-9a75-498e-8125-5a3aad774ac7",
   "metadata": {},
   "outputs": [],
   "source": [
    "sink_nodes_downstream_to_dm <- data.frame(apply(X = CF_PPI_network.pruned.dm_to_sink_nodes,\n",
    "      MARGIN = 1,\n",
    "      FUN=function(x){\n",
    "        return(sum(!is.infinite(x)))\n",
    "      }))\n",
    "colnames(sink_nodes_downstream_to_dm) <- \"dist_to_CF_network_sink_nodes\"\n",
    "sink_nodes_downstream_to_dm['Gene'] <- rownames(sink_nodes_downstream_to_dm)\n",
    "rownames(sink_nodes_downstream_to_dm) <- NULL"
   ]
  },
  {
   "cell_type": "code",
   "execution_count": 19,
   "id": "6a5eb9e8-f9b5-4986-8dfa-fe2c0724974c",
   "metadata": {},
   "outputs": [],
   "source": [
    "dm_CF_NCF_Genes_in_CF_network.dm_CF_NCF_df <- merge(dm_CF_NCF_Genes_in_CF_network.dm_CF_NCF_df,\n",
    "                                                    sink_nodes_downstream_to_dm,\n",
    "                                                    by = \"Gene\")"
   ]
  },
  {
   "cell_type": "code",
   "execution_count": 20,
   "id": "ccaef720-7921-4a25-9cb8-f197e5b8af09",
   "metadata": {},
   "outputs": [
    {
     "data": {
      "text/html": [
       "<table class=\"dataframe\">\n",
       "<caption>A data.frame: 11 × 10</caption>\n",
       "<thead>\n",
       "\t<tr><th scope=col>Gene</th><th scope=col>Probe ID</th><th scope=col>p-value</th><th scope=col>Median β CF patients</th><th scope=col>Median β Controls</th><th scope=col>Genomic location</th><th scope=col>Island status</th><th scope=col>*Enhancer</th><th scope=col>CpG_rank</th><th scope=col>dist_to_CF_network_sink_nodes</th></tr>\n",
       "\t<tr><th scope=col>&lt;chr&gt;</th><th scope=col>&lt;chr&gt;</th><th scope=col>&lt;dbl&gt;</th><th scope=col>&lt;chr&gt;</th><th scope=col>&lt;chr&gt;</th><th scope=col>&lt;chr&gt;</th><th scope=col>&lt;chr&gt;</th><th scope=col>&lt;lgl&gt;</th><th scope=col>&lt;int&gt;</th><th scope=col>&lt;int&gt;</th></tr>\n",
       "</thead>\n",
       "<tbody>\n",
       "\t<tr><td>AKT3    </td><td>cg04221461</td><td>2.2e-03</td><td>0,46</td><td>0,56</td><td>Body</td><td>Open sea</td><td>FALSE</td><td> 613</td><td>35</td></tr>\n",
       "\t<tr><td>BAIAP2  </td><td>cg02026049</td><td>7.9e-03</td><td>0,65</td><td>0,76</td><td>Body</td><td>N_Shelf </td><td>FALSE</td><td>1123</td><td> 2</td></tr>\n",
       "\t<tr><td>CBLB    </td><td>cg18984715</td><td>1.2e-03</td><td>0,79</td><td>0,67</td><td>Body</td><td>Open sea</td><td> TRUE</td><td> 441</td><td>35</td></tr>\n",
       "\t<tr><td>DIAPH3  </td><td>cg01899581</td><td>9.0e-05</td><td>0,64</td><td>0,47</td><td>Body</td><td>N_Shelf </td><td>FALSE</td><td>  53</td><td> 2</td></tr>\n",
       "\t<tr><td>EZR     </td><td>cg13433729</td><td>1.2e-06</td><td>0,61</td><td>0,49</td><td>Body</td><td>Open sea</td><td> TRUE</td><td>   2</td><td>15</td></tr>\n",
       "\t<tr><td>ITPR1   </td><td>cg22240998</td><td>1.1e-03</td><td>0,60</td><td>0,50</td><td>Body</td><td>Open sea</td><td> TRUE</td><td> 420</td><td>35</td></tr>\n",
       "\t<tr><td>MAP2K1  </td><td>cg21070009</td><td>4.1e-03</td><td>0,48</td><td>0,35</td><td>Body</td><td>Open sea</td><td> TRUE</td><td> 852</td><td>15</td></tr>\n",
       "\t<tr><td>NFATC1  </td><td>cg11321921</td><td>5.5e-04</td><td>0,78</td><td>0,91</td><td>Body</td><td>Island  </td><td>FALSE</td><td> 240</td><td> 1</td></tr>\n",
       "\t<tr><td>NFATC1  </td><td>cg05687091</td><td>6.1e-04</td><td>0,54</td><td>0,64</td><td>Body</td><td>Island  </td><td>FALSE</td><td> 257</td><td> 1</td></tr>\n",
       "\t<tr><td>PLCG2   </td><td>cg07671055</td><td>5.6e-03</td><td>0,48</td><td>0,59</td><td>Body</td><td>Open sea</td><td>FALSE</td><td> 952</td><td>35</td></tr>\n",
       "\t<tr><td>TNFRSF1A</td><td>cg23752651</td><td>9.5e-04</td><td>0,58</td><td>0,70</td><td>Body</td><td>Open sea</td><td>FALSE</td><td> 374</td><td>35</td></tr>\n",
       "</tbody>\n",
       "</table>\n"
      ],
      "text/latex": [
       "A data.frame: 11 × 10\n",
       "\\begin{tabular}{llllllllll}\n",
       " Gene & Probe ID & p-value & Median β CF patients & Median β Controls & Genomic location & Island status & *Enhancer & CpG\\_rank & dist\\_to\\_CF\\_network\\_sink\\_nodes\\\\\n",
       " <chr> & <chr> & <dbl> & <chr> & <chr> & <chr> & <chr> & <lgl> & <int> & <int>\\\\\n",
       "\\hline\n",
       "\t AKT3     & cg04221461 & 2.2e-03 & 0,46 & 0,56 & Body & Open sea & FALSE &  613 & 35\\\\\n",
       "\t BAIAP2   & cg02026049 & 7.9e-03 & 0,65 & 0,76 & Body & N\\_Shelf  & FALSE & 1123 &  2\\\\\n",
       "\t CBLB     & cg18984715 & 1.2e-03 & 0,79 & 0,67 & Body & Open sea &  TRUE &  441 & 35\\\\\n",
       "\t DIAPH3   & cg01899581 & 9.0e-05 & 0,64 & 0,47 & Body & N\\_Shelf  & FALSE &   53 &  2\\\\\n",
       "\t EZR      & cg13433729 & 1.2e-06 & 0,61 & 0,49 & Body & Open sea &  TRUE &    2 & 15\\\\\n",
       "\t ITPR1    & cg22240998 & 1.1e-03 & 0,60 & 0,50 & Body & Open sea &  TRUE &  420 & 35\\\\\n",
       "\t MAP2K1   & cg21070009 & 4.1e-03 & 0,48 & 0,35 & Body & Open sea &  TRUE &  852 & 15\\\\\n",
       "\t NFATC1   & cg11321921 & 5.5e-04 & 0,78 & 0,91 & Body & Island   & FALSE &  240 &  1\\\\\n",
       "\t NFATC1   & cg05687091 & 6.1e-04 & 0,54 & 0,64 & Body & Island   & FALSE &  257 &  1\\\\\n",
       "\t PLCG2    & cg07671055 & 5.6e-03 & 0,48 & 0,59 & Body & Open sea & FALSE &  952 & 35\\\\\n",
       "\t TNFRSF1A & cg23752651 & 9.5e-04 & 0,58 & 0,70 & Body & Open sea & FALSE &  374 & 35\\\\\n",
       "\\end{tabular}\n"
      ],
      "text/markdown": [
       "\n",
       "A data.frame: 11 × 10\n",
       "\n",
       "| Gene &lt;chr&gt; | Probe ID &lt;chr&gt; | p-value &lt;dbl&gt; | Median β CF patients &lt;chr&gt; | Median β Controls &lt;chr&gt; | Genomic location &lt;chr&gt; | Island status &lt;chr&gt; | *Enhancer &lt;lgl&gt; | CpG_rank &lt;int&gt; | dist_to_CF_network_sink_nodes &lt;int&gt; |\n",
       "|---|---|---|---|---|---|---|---|---|---|\n",
       "| AKT3     | cg04221461 | 2.2e-03 | 0,46 | 0,56 | Body | Open sea | FALSE |  613 | 35 |\n",
       "| BAIAP2   | cg02026049 | 7.9e-03 | 0,65 | 0,76 | Body | N_Shelf  | FALSE | 1123 |  2 |\n",
       "| CBLB     | cg18984715 | 1.2e-03 | 0,79 | 0,67 | Body | Open sea |  TRUE |  441 | 35 |\n",
       "| DIAPH3   | cg01899581 | 9.0e-05 | 0,64 | 0,47 | Body | N_Shelf  | FALSE |   53 |  2 |\n",
       "| EZR      | cg13433729 | 1.2e-06 | 0,61 | 0,49 | Body | Open sea |  TRUE |    2 | 15 |\n",
       "| ITPR1    | cg22240998 | 1.1e-03 | 0,60 | 0,50 | Body | Open sea |  TRUE |  420 | 35 |\n",
       "| MAP2K1   | cg21070009 | 4.1e-03 | 0,48 | 0,35 | Body | Open sea |  TRUE |  852 | 15 |\n",
       "| NFATC1   | cg11321921 | 5.5e-04 | 0,78 | 0,91 | Body | Island   | FALSE |  240 |  1 |\n",
       "| NFATC1   | cg05687091 | 6.1e-04 | 0,54 | 0,64 | Body | Island   | FALSE |  257 |  1 |\n",
       "| PLCG2    | cg07671055 | 5.6e-03 | 0,48 | 0,59 | Body | Open sea | FALSE |  952 | 35 |\n",
       "| TNFRSF1A | cg23752651 | 9.5e-04 | 0,58 | 0,70 | Body | Open sea | FALSE |  374 | 35 |\n",
       "\n"
      ],
      "text/plain": [
       "   Gene     Probe ID   p-value Median β CF patients Median β Controls\n",
       "1  AKT3     cg04221461 2.2e-03 0,46                 0,56             \n",
       "2  BAIAP2   cg02026049 7.9e-03 0,65                 0,76             \n",
       "3  CBLB     cg18984715 1.2e-03 0,79                 0,67             \n",
       "4  DIAPH3   cg01899581 9.0e-05 0,64                 0,47             \n",
       "5  EZR      cg13433729 1.2e-06 0,61                 0,49             \n",
       "6  ITPR1    cg22240998 1.1e-03 0,60                 0,50             \n",
       "7  MAP2K1   cg21070009 4.1e-03 0,48                 0,35             \n",
       "8  NFATC1   cg11321921 5.5e-04 0,78                 0,91             \n",
       "9  NFATC1   cg05687091 6.1e-04 0,54                 0,64             \n",
       "10 PLCG2    cg07671055 5.6e-03 0,48                 0,59             \n",
       "11 TNFRSF1A cg23752651 9.5e-04 0,58                 0,70             \n",
       "   Genomic location Island status *Enhancer CpG_rank\n",
       "1  Body             Open sea      FALSE      613    \n",
       "2  Body             N_Shelf       FALSE     1123    \n",
       "3  Body             Open sea       TRUE      441    \n",
       "4  Body             N_Shelf       FALSE       53    \n",
       "5  Body             Open sea       TRUE        2    \n",
       "6  Body             Open sea       TRUE      420    \n",
       "7  Body             Open sea       TRUE      852    \n",
       "8  Body             Island        FALSE      240    \n",
       "9  Body             Island        FALSE      257    \n",
       "10 Body             Open sea      FALSE      952    \n",
       "11 Body             Open sea      FALSE      374    \n",
       "   dist_to_CF_network_sink_nodes\n",
       "1  35                           \n",
       "2   2                           \n",
       "3  35                           \n",
       "4   2                           \n",
       "5  15                           \n",
       "6  35                           \n",
       "7  15                           \n",
       "8   1                           \n",
       "9   1                           \n",
       "10 35                           \n",
       "11 35                           "
      ]
     },
     "metadata": {},
     "output_type": "display_data"
    }
   ],
   "source": [
    "dm_CF_NCF_Genes_in_CF_network.dm_CF_NCF_df"
   ]
  },
  {
   "cell_type": "markdown",
   "id": "ecf310e1-4482-4def-8f90-facd34478231",
   "metadata": {},
   "source": [
    "### 2.3.2 Distance to source nodes"
   ]
  },
  {
   "cell_type": "code",
   "execution_count": 21,
   "id": "d4fb6654-c931-44ed-a473-e6efbe491ad7",
   "metadata": {},
   "outputs": [],
   "source": [
    "### Source nodes to sink nodes\n",
    "CF_PPI_network.pruned.dm_from_source_nodes <- data.frame(t(CF_PPI_network.pruned.dists[source_nodes, dm_CF_NCF_Genes_in_CF_network.list]))\n",
    "colnames(CF_PPI_network.pruned.dm_from_source_nodes) <- paste(\"from_\",\n",
    "                                                              colnames(CF_PPI_network.pruned.dm_from_source_nodes),\n",
    "                                                              sep = \"\")"
   ]
  },
  {
   "cell_type": "code",
   "execution_count": 22,
   "id": "cbb48ef6-c5f7-4a08-883e-e526c5a1a9fd",
   "metadata": {},
   "outputs": [
    {
     "data": {
      "text/html": [
       "<style>\n",
       ".list-inline {list-style: none; margin:0; padding: 0}\n",
       ".list-inline>li {display: inline-block}\n",
       ".list-inline>li:not(:last-child)::after {content: \"\\00b7\"; padding: 0 .5ex}\n",
       "</style>\n",
       "<ol class=list-inline><li>'EZR'</li><li>'DIAPH3'</li><li>'NFATC1'</li><li>'TNFRSF1A'</li><li>'ITPR1'</li><li>'CBLB'</li><li>'AKT3'</li><li>'MAP2K1'</li><li>'PLCG2'</li><li>'BAIAP2'</li></ol>\n"
      ],
      "text/latex": [
       "\\begin{enumerate*}\n",
       "\\item 'EZR'\n",
       "\\item 'DIAPH3'\n",
       "\\item 'NFATC1'\n",
       "\\item 'TNFRSF1A'\n",
       "\\item 'ITPR1'\n",
       "\\item 'CBLB'\n",
       "\\item 'AKT3'\n",
       "\\item 'MAP2K1'\n",
       "\\item 'PLCG2'\n",
       "\\item 'BAIAP2'\n",
       "\\end{enumerate*}\n"
      ],
      "text/markdown": [
       "1. 'EZR'\n",
       "2. 'DIAPH3'\n",
       "3. 'NFATC1'\n",
       "4. 'TNFRSF1A'\n",
       "5. 'ITPR1'\n",
       "6. 'CBLB'\n",
       "7. 'AKT3'\n",
       "8. 'MAP2K1'\n",
       "9. 'PLCG2'\n",
       "10. 'BAIAP2'\n",
       "\n",
       "\n"
      ],
      "text/plain": [
       " [1] \"EZR\"      \"DIAPH3\"   \"NFATC1\"   \"TNFRSF1A\" \"ITPR1\"    \"CBLB\"    \n",
       " [7] \"AKT3\"     \"MAP2K1\"   \"PLCG2\"    \"BAIAP2\"  "
      ]
     },
     "metadata": {},
     "output_type": "display_data"
    }
   ],
   "source": [
    "rownames(CF_PPI_network.pruned.dm_from_source_nodes)"
   ]
  },
  {
   "cell_type": "code",
   "execution_count": 23,
   "id": "c5689530-5779-4cbb-a0dd-09cde00e079c",
   "metadata": {},
   "outputs": [],
   "source": [
    "CF_PPI_network.pruned.dm_from_source_nodes['Gene'] <- rownames(CF_PPI_network.pruned.dm_from_source_nodes)\n",
    "rownames(CF_PPI_network.pruned.dm_from_source_nodes) <- NULL"
   ]
  },
  {
   "cell_type": "code",
   "execution_count": 24,
   "id": "1c0890ed-36cf-412c-bbdd-84ff858b617e",
   "metadata": {},
   "outputs": [
    {
     "data": {
      "text/html": [
       "<table class=\"dataframe\">\n",
       "<caption>A data.frame: 11 × 18</caption>\n",
       "<thead>\n",
       "\t<tr><th scope=col>Gene</th><th scope=col>Probe ID</th><th scope=col>p-value</th><th scope=col>Median β CF patients</th><th scope=col>Median β Controls</th><th scope=col>Genomic location</th><th scope=col>Island status</th><th scope=col>*Enhancer</th><th scope=col>CpG_rank</th><th scope=col>dist_to_CF_network_sink_nodes</th><th scope=col>from_TRADD</th><th scope=col>from_PRKACA</th><th scope=col>from_SYK</th><th scope=col>from_CSNK2A1</th><th scope=col>from_SRC</th><th scope=col>from_PLCB1</th><th scope=col>from_PLCB3</th><th scope=col>from_EZR</th></tr>\n",
       "\t<tr><th scope=col>&lt;chr&gt;</th><th scope=col>&lt;chr&gt;</th><th scope=col>&lt;dbl&gt;</th><th scope=col>&lt;chr&gt;</th><th scope=col>&lt;chr&gt;</th><th scope=col>&lt;chr&gt;</th><th scope=col>&lt;chr&gt;</th><th scope=col>&lt;lgl&gt;</th><th scope=col>&lt;int&gt;</th><th scope=col>&lt;int&gt;</th><th scope=col>&lt;dbl&gt;</th><th scope=col>&lt;dbl&gt;</th><th scope=col>&lt;dbl&gt;</th><th scope=col>&lt;dbl&gt;</th><th scope=col>&lt;dbl&gt;</th><th scope=col>&lt;dbl&gt;</th><th scope=col>&lt;dbl&gt;</th><th scope=col>&lt;dbl&gt;</th></tr>\n",
       "</thead>\n",
       "<tbody>\n",
       "\t<tr><td>AKT3    </td><td>cg04221461</td><td>2.2e-03</td><td>0,46</td><td>0,56</td><td>Body</td><td>Open sea</td><td>FALSE</td><td> 613</td><td>35</td><td>  3</td><td>Inf</td><td>  5</td><td>Inf</td><td>  2</td><td>  7</td><td>  7</td><td>Inf</td></tr>\n",
       "\t<tr><td>BAIAP2  </td><td>cg02026049</td><td>7.9e-03</td><td>0,65</td><td>0,76</td><td>Body</td><td>N_Shelf </td><td>FALSE</td><td>1123</td><td> 2</td><td>  5</td><td>Inf</td><td>  6</td><td>Inf</td><td>  4</td><td>  9</td><td>  9</td><td>Inf</td></tr>\n",
       "\t<tr><td>CBLB    </td><td>cg18984715</td><td>1.2e-03</td><td>0,79</td><td>0,67</td><td>Body</td><td>Open sea</td><td> TRUE</td><td> 441</td><td>35</td><td>Inf</td><td>Inf</td><td>Inf</td><td>Inf</td><td>Inf</td><td>Inf</td><td>Inf</td><td>Inf</td></tr>\n",
       "\t<tr><td>DIAPH3  </td><td>cg01899581</td><td>9.0e-05</td><td>0,64</td><td>0,47</td><td>Body</td><td>N_Shelf </td><td>FALSE</td><td>  53</td><td> 2</td><td>  8</td><td>Inf</td><td>  9</td><td>Inf</td><td>  7</td><td> 12</td><td> 12</td><td>Inf</td></tr>\n",
       "\t<tr><td>EZR     </td><td>cg13433729</td><td>1.2e-06</td><td>0,61</td><td>0,49</td><td>Body</td><td>Open sea</td><td> TRUE</td><td>   2</td><td>15</td><td>  7</td><td>  6</td><td>  6</td><td>Inf</td><td>  5</td><td>  5</td><td>  5</td><td>  0</td></tr>\n",
       "\t<tr><td>ITPR1   </td><td>cg22240998</td><td>1.1e-03</td><td>0,60</td><td>0,50</td><td>Body</td><td>Open sea</td><td> TRUE</td><td> 420</td><td>35</td><td>  4</td><td>Inf</td><td>  2</td><td>Inf</td><td> 10</td><td>  1</td><td>  1</td><td>Inf</td></tr>\n",
       "\t<tr><td>MAP2K1  </td><td>cg21070009</td><td>4.1e-03</td><td>0,48</td><td>0,35</td><td>Body</td><td>Open sea</td><td> TRUE</td><td> 852</td><td>15</td><td>  3</td><td>  2</td><td>  4</td><td>Inf</td><td>  2</td><td>  5</td><td>  5</td><td>  3</td></tr>\n",
       "\t<tr><td>NFATC1  </td><td>cg11321921</td><td>5.5e-04</td><td>0,78</td><td>0,91</td><td>Body</td><td>Island  </td><td>FALSE</td><td> 240</td><td> 1</td><td>  5</td><td>Inf</td><td>  3</td><td>Inf</td><td>  4</td><td>  4</td><td>  4</td><td>Inf</td></tr>\n",
       "\t<tr><td>NFATC1  </td><td>cg05687091</td><td>6.1e-04</td><td>0,54</td><td>0,64</td><td>Body</td><td>Island  </td><td>FALSE</td><td> 257</td><td> 1</td><td>  5</td><td>Inf</td><td>  3</td><td>Inf</td><td>  4</td><td>  4</td><td>  4</td><td>Inf</td></tr>\n",
       "\t<tr><td>PLCG2   </td><td>cg07671055</td><td>5.6e-03</td><td>0,48</td><td>0,59</td><td>Body</td><td>Open sea</td><td>FALSE</td><td> 952</td><td>35</td><td>  3</td><td>Inf</td><td>  1</td><td>Inf</td><td>  9</td><td>  6</td><td>  6</td><td>Inf</td></tr>\n",
       "\t<tr><td>TNFRSF1A</td><td>cg23752651</td><td>9.5e-04</td><td>0,58</td><td>0,70</td><td>Body</td><td>Open sea</td><td>FALSE</td><td> 374</td><td>35</td><td>Inf</td><td>Inf</td><td>Inf</td><td>Inf</td><td>Inf</td><td>Inf</td><td>Inf</td><td>Inf</td></tr>\n",
       "</tbody>\n",
       "</table>\n"
      ],
      "text/latex": [
       "A data.frame: 11 × 18\n",
       "\\begin{tabular}{llllllllllllllllll}\n",
       " Gene & Probe ID & p-value & Median β CF patients & Median β Controls & Genomic location & Island status & *Enhancer & CpG\\_rank & dist\\_to\\_CF\\_network\\_sink\\_nodes & from\\_TRADD & from\\_PRKACA & from\\_SYK & from\\_CSNK2A1 & from\\_SRC & from\\_PLCB1 & from\\_PLCB3 & from\\_EZR\\\\\n",
       " <chr> & <chr> & <dbl> & <chr> & <chr> & <chr> & <chr> & <lgl> & <int> & <int> & <dbl> & <dbl> & <dbl> & <dbl> & <dbl> & <dbl> & <dbl> & <dbl>\\\\\n",
       "\\hline\n",
       "\t AKT3     & cg04221461 & 2.2e-03 & 0,46 & 0,56 & Body & Open sea & FALSE &  613 & 35 &   3 & Inf &   5 & Inf &   2 &   7 &   7 & Inf\\\\\n",
       "\t BAIAP2   & cg02026049 & 7.9e-03 & 0,65 & 0,76 & Body & N\\_Shelf  & FALSE & 1123 &  2 &   5 & Inf &   6 & Inf &   4 &   9 &   9 & Inf\\\\\n",
       "\t CBLB     & cg18984715 & 1.2e-03 & 0,79 & 0,67 & Body & Open sea &  TRUE &  441 & 35 & Inf & Inf & Inf & Inf & Inf & Inf & Inf & Inf\\\\\n",
       "\t DIAPH3   & cg01899581 & 9.0e-05 & 0,64 & 0,47 & Body & N\\_Shelf  & FALSE &   53 &  2 &   8 & Inf &   9 & Inf &   7 &  12 &  12 & Inf\\\\\n",
       "\t EZR      & cg13433729 & 1.2e-06 & 0,61 & 0,49 & Body & Open sea &  TRUE &    2 & 15 &   7 &   6 &   6 & Inf &   5 &   5 &   5 &   0\\\\\n",
       "\t ITPR1    & cg22240998 & 1.1e-03 & 0,60 & 0,50 & Body & Open sea &  TRUE &  420 & 35 &   4 & Inf &   2 & Inf &  10 &   1 &   1 & Inf\\\\\n",
       "\t MAP2K1   & cg21070009 & 4.1e-03 & 0,48 & 0,35 & Body & Open sea &  TRUE &  852 & 15 &   3 &   2 &   4 & Inf &   2 &   5 &   5 &   3\\\\\n",
       "\t NFATC1   & cg11321921 & 5.5e-04 & 0,78 & 0,91 & Body & Island   & FALSE &  240 &  1 &   5 & Inf &   3 & Inf &   4 &   4 &   4 & Inf\\\\\n",
       "\t NFATC1   & cg05687091 & 6.1e-04 & 0,54 & 0,64 & Body & Island   & FALSE &  257 &  1 &   5 & Inf &   3 & Inf &   4 &   4 &   4 & Inf\\\\\n",
       "\t PLCG2    & cg07671055 & 5.6e-03 & 0,48 & 0,59 & Body & Open sea & FALSE &  952 & 35 &   3 & Inf &   1 & Inf &   9 &   6 &   6 & Inf\\\\\n",
       "\t TNFRSF1A & cg23752651 & 9.5e-04 & 0,58 & 0,70 & Body & Open sea & FALSE &  374 & 35 & Inf & Inf & Inf & Inf & Inf & Inf & Inf & Inf\\\\\n",
       "\\end{tabular}\n"
      ],
      "text/markdown": [
       "\n",
       "A data.frame: 11 × 18\n",
       "\n",
       "| Gene &lt;chr&gt; | Probe ID &lt;chr&gt; | p-value &lt;dbl&gt; | Median β CF patients &lt;chr&gt; | Median β Controls &lt;chr&gt; | Genomic location &lt;chr&gt; | Island status &lt;chr&gt; | *Enhancer &lt;lgl&gt; | CpG_rank &lt;int&gt; | dist_to_CF_network_sink_nodes &lt;int&gt; | from_TRADD &lt;dbl&gt; | from_PRKACA &lt;dbl&gt; | from_SYK &lt;dbl&gt; | from_CSNK2A1 &lt;dbl&gt; | from_SRC &lt;dbl&gt; | from_PLCB1 &lt;dbl&gt; | from_PLCB3 &lt;dbl&gt; | from_EZR &lt;dbl&gt; |\n",
       "|---|---|---|---|---|---|---|---|---|---|---|---|---|---|---|---|---|---|\n",
       "| AKT3     | cg04221461 | 2.2e-03 | 0,46 | 0,56 | Body | Open sea | FALSE |  613 | 35 |   3 | Inf |   5 | Inf |   2 |   7 |   7 | Inf |\n",
       "| BAIAP2   | cg02026049 | 7.9e-03 | 0,65 | 0,76 | Body | N_Shelf  | FALSE | 1123 |  2 |   5 | Inf |   6 | Inf |   4 |   9 |   9 | Inf |\n",
       "| CBLB     | cg18984715 | 1.2e-03 | 0,79 | 0,67 | Body | Open sea |  TRUE |  441 | 35 | Inf | Inf | Inf | Inf | Inf | Inf | Inf | Inf |\n",
       "| DIAPH3   | cg01899581 | 9.0e-05 | 0,64 | 0,47 | Body | N_Shelf  | FALSE |   53 |  2 |   8 | Inf |   9 | Inf |   7 |  12 |  12 | Inf |\n",
       "| EZR      | cg13433729 | 1.2e-06 | 0,61 | 0,49 | Body | Open sea |  TRUE |    2 | 15 |   7 |   6 |   6 | Inf |   5 |   5 |   5 |   0 |\n",
       "| ITPR1    | cg22240998 | 1.1e-03 | 0,60 | 0,50 | Body | Open sea |  TRUE |  420 | 35 |   4 | Inf |   2 | Inf |  10 |   1 |   1 | Inf |\n",
       "| MAP2K1   | cg21070009 | 4.1e-03 | 0,48 | 0,35 | Body | Open sea |  TRUE |  852 | 15 |   3 |   2 |   4 | Inf |   2 |   5 |   5 |   3 |\n",
       "| NFATC1   | cg11321921 | 5.5e-04 | 0,78 | 0,91 | Body | Island   | FALSE |  240 |  1 |   5 | Inf |   3 | Inf |   4 |   4 |   4 | Inf |\n",
       "| NFATC1   | cg05687091 | 6.1e-04 | 0,54 | 0,64 | Body | Island   | FALSE |  257 |  1 |   5 | Inf |   3 | Inf |   4 |   4 |   4 | Inf |\n",
       "| PLCG2    | cg07671055 | 5.6e-03 | 0,48 | 0,59 | Body | Open sea | FALSE |  952 | 35 |   3 | Inf |   1 | Inf |   9 |   6 |   6 | Inf |\n",
       "| TNFRSF1A | cg23752651 | 9.5e-04 | 0,58 | 0,70 | Body | Open sea | FALSE |  374 | 35 | Inf | Inf | Inf | Inf | Inf | Inf | Inf | Inf |\n",
       "\n"
      ],
      "text/plain": [
       "   Gene     Probe ID   p-value Median β CF patients Median β Controls\n",
       "1  AKT3     cg04221461 2.2e-03 0,46                 0,56             \n",
       "2  BAIAP2   cg02026049 7.9e-03 0,65                 0,76             \n",
       "3  CBLB     cg18984715 1.2e-03 0,79                 0,67             \n",
       "4  DIAPH3   cg01899581 9.0e-05 0,64                 0,47             \n",
       "5  EZR      cg13433729 1.2e-06 0,61                 0,49             \n",
       "6  ITPR1    cg22240998 1.1e-03 0,60                 0,50             \n",
       "7  MAP2K1   cg21070009 4.1e-03 0,48                 0,35             \n",
       "8  NFATC1   cg11321921 5.5e-04 0,78                 0,91             \n",
       "9  NFATC1   cg05687091 6.1e-04 0,54                 0,64             \n",
       "10 PLCG2    cg07671055 5.6e-03 0,48                 0,59             \n",
       "11 TNFRSF1A cg23752651 9.5e-04 0,58                 0,70             \n",
       "   Genomic location Island status *Enhancer CpG_rank\n",
       "1  Body             Open sea      FALSE      613    \n",
       "2  Body             N_Shelf       FALSE     1123    \n",
       "3  Body             Open sea       TRUE      441    \n",
       "4  Body             N_Shelf       FALSE       53    \n",
       "5  Body             Open sea       TRUE        2    \n",
       "6  Body             Open sea       TRUE      420    \n",
       "7  Body             Open sea       TRUE      852    \n",
       "8  Body             Island        FALSE      240    \n",
       "9  Body             Island        FALSE      257    \n",
       "10 Body             Open sea      FALSE      952    \n",
       "11 Body             Open sea      FALSE      374    \n",
       "   dist_to_CF_network_sink_nodes from_TRADD from_PRKACA from_SYK from_CSNK2A1\n",
       "1  35                              3        Inf           5      Inf         \n",
       "2   2                              5        Inf           6      Inf         \n",
       "3  35                            Inf        Inf         Inf      Inf         \n",
       "4   2                              8        Inf           9      Inf         \n",
       "5  15                              7          6           6      Inf         \n",
       "6  35                              4        Inf           2      Inf         \n",
       "7  15                              3          2           4      Inf         \n",
       "8   1                              5        Inf           3      Inf         \n",
       "9   1                              5        Inf           3      Inf         \n",
       "10 35                              3        Inf           1      Inf         \n",
       "11 35                            Inf        Inf         Inf      Inf         \n",
       "   from_SRC from_PLCB1 from_PLCB3 from_EZR\n",
       "1    2        7          7        Inf     \n",
       "2    4        9          9        Inf     \n",
       "3  Inf      Inf        Inf        Inf     \n",
       "4    7       12         12        Inf     \n",
       "5    5        5          5          0     \n",
       "6   10        1          1        Inf     \n",
       "7    2        5          5          3     \n",
       "8    4        4          4        Inf     \n",
       "9    4        4          4        Inf     \n",
       "10   9        6          6        Inf     \n",
       "11 Inf      Inf        Inf        Inf     "
      ]
     },
     "metadata": {},
     "output_type": "display_data"
    }
   ],
   "source": [
    "dm_CF_NCF_Genes_in_CF_network.dm_CF_NCF_df <- merge(dm_CF_NCF_Genes_in_CF_network.dm_CF_NCF_df,\n",
    "                                                    CF_PPI_network.pruned.dm_from_source_nodes,\n",
    "                                                    by = \"Gene\")\n",
    "dm_CF_NCF_Genes_in_CF_network.dm_CF_NCF_df"
   ]
  },
  {
   "cell_type": "markdown",
   "id": "8e6f15c7-52d7-45bb-8996-d30e42fe34b7",
   "metadata": {},
   "source": [
    "### 2.3.4 Betweenness centrality"
   ]
  },
  {
   "cell_type": "code",
   "execution_count": 25,
   "id": "d4b32d9d-c75f-4322-a18a-31334cebb5ef",
   "metadata": {},
   "outputs": [],
   "source": [
    "CF_PPI_network.bc.df <- data.frame(betweenness(CF_PPI_network.pruned.igraph))\n",
    "CF_PPI_network.bc.df$Symbol <- rownames(CF_PPI_network.bc.df)\n",
    "rownames(CF_PPI_network.bc.df) <- NULL\n",
    "colnames(CF_PPI_network.bc.df) <- c(\"BC.score\", \"Symbol\")"
   ]
  },
  {
   "cell_type": "code",
   "execution_count": 26,
   "id": "0f81e8f2-9eb6-476c-8e6a-e84117ec8dd7",
   "metadata": {},
   "outputs": [],
   "source": [
    "CF_PPI_network.bc.df.dm_CF_NCF_df <- CF_PPI_network.bc.df[which(CF_PPI_network.bc.df$Symbol %in%  dm_CF_NCF_Genes_in_CF_network.list),]"
   ]
  },
  {
   "cell_type": "code",
   "execution_count": 27,
   "id": "430a694d-1d62-4cf5-a87a-2b76ec45d19c",
   "metadata": {},
   "outputs": [
    {
     "data": {
      "text/html": [
       "<table class=\"dataframe\">\n",
       "<caption>A data.frame: 10 × 2</caption>\n",
       "<thead>\n",
       "\t<tr><th></th><th scope=col>BC.score</th><th scope=col>Symbol</th></tr>\n",
       "\t<tr><th></th><th scope=col>&lt;dbl&gt;</th><th scope=col>&lt;chr&gt;</th></tr>\n",
       "</thead>\n",
       "<tbody>\n",
       "\t<tr><th scope=row>69</th><td>3177.4806</td><td>PLCG2   </td></tr>\n",
       "\t<tr><th scope=row>73</th><td> 415.6667</td><td>TNFRSF1A</td></tr>\n",
       "\t<tr><th scope=row>120</th><td>2090.0913</td><td>MAP2K1  </td></tr>\n",
       "\t<tr><th scope=row>137</th><td>   0.0000</td><td>CBLB    </td></tr>\n",
       "\t<tr><th scope=row>149</th><td> 602.8583</td><td>ITPR1   </td></tr>\n",
       "\t<tr><th scope=row>214</th><td>  15.0000</td><td>DIAPH3  </td></tr>\n",
       "\t<tr><th scope=row>225</th><td> 661.0000</td><td>BAIAP2  </td></tr>\n",
       "\t<tr><th scope=row>227</th><td>2771.8197</td><td>AKT3    </td></tr>\n",
       "\t<tr><th scope=row>238</th><td> 271.5944</td><td>EZR     </td></tr>\n",
       "\t<tr><th scope=row>318</th><td>   0.0000</td><td>NFATC1  </td></tr>\n",
       "</tbody>\n",
       "</table>\n"
      ],
      "text/latex": [
       "A data.frame: 10 × 2\n",
       "\\begin{tabular}{r|ll}\n",
       "  & BC.score & Symbol\\\\\n",
       "  & <dbl> & <chr>\\\\\n",
       "\\hline\n",
       "\t69 & 3177.4806 & PLCG2   \\\\\n",
       "\t73 &  415.6667 & TNFRSF1A\\\\\n",
       "\t120 & 2090.0913 & MAP2K1  \\\\\n",
       "\t137 &    0.0000 & CBLB    \\\\\n",
       "\t149 &  602.8583 & ITPR1   \\\\\n",
       "\t214 &   15.0000 & DIAPH3  \\\\\n",
       "\t225 &  661.0000 & BAIAP2  \\\\\n",
       "\t227 & 2771.8197 & AKT3    \\\\\n",
       "\t238 &  271.5944 & EZR     \\\\\n",
       "\t318 &    0.0000 & NFATC1  \\\\\n",
       "\\end{tabular}\n"
      ],
      "text/markdown": [
       "\n",
       "A data.frame: 10 × 2\n",
       "\n",
       "| <!--/--> | BC.score &lt;dbl&gt; | Symbol &lt;chr&gt; |\n",
       "|---|---|---|\n",
       "| 69 | 3177.4806 | PLCG2    |\n",
       "| 73 |  415.6667 | TNFRSF1A |\n",
       "| 120 | 2090.0913 | MAP2K1   |\n",
       "| 137 |    0.0000 | CBLB     |\n",
       "| 149 |  602.8583 | ITPR1    |\n",
       "| 214 |   15.0000 | DIAPH3   |\n",
       "| 225 |  661.0000 | BAIAP2   |\n",
       "| 227 | 2771.8197 | AKT3     |\n",
       "| 238 |  271.5944 | EZR      |\n",
       "| 318 |    0.0000 | NFATC1   |\n",
       "\n"
      ],
      "text/plain": [
       "    BC.score  Symbol  \n",
       "69  3177.4806 PLCG2   \n",
       "73   415.6667 TNFRSF1A\n",
       "120 2090.0913 MAP2K1  \n",
       "137    0.0000 CBLB    \n",
       "149  602.8583 ITPR1   \n",
       "214   15.0000 DIAPH3  \n",
       "225  661.0000 BAIAP2  \n",
       "227 2771.8197 AKT3    \n",
       "238  271.5944 EZR     \n",
       "318    0.0000 NFATC1  "
      ]
     },
     "metadata": {},
     "output_type": "display_data"
    }
   ],
   "source": [
    "CF_PPI_network.bc.df.dm_CF_NCF_df"
   ]
  },
  {
   "cell_type": "code",
   "execution_count": 28,
   "id": "3f40dc4c-1fca-4f98-bf11-aeeb9106a9e2",
   "metadata": {},
   "outputs": [
    {
     "data": {
      "text/html": [
       "<table class=\"dataframe\">\n",
       "<caption>A data.frame: 11 × 19</caption>\n",
       "<thead>\n",
       "\t<tr><th scope=col>Gene</th><th scope=col>Probe ID</th><th scope=col>p-value</th><th scope=col>Median β CF patients</th><th scope=col>Median β Controls</th><th scope=col>Genomic location</th><th scope=col>Island status</th><th scope=col>*Enhancer</th><th scope=col>CpG_rank</th><th scope=col>dist_to_CF_network_sink_nodes</th><th scope=col>from_TRADD</th><th scope=col>from_PRKACA</th><th scope=col>from_SYK</th><th scope=col>from_CSNK2A1</th><th scope=col>from_SRC</th><th scope=col>from_PLCB1</th><th scope=col>from_PLCB3</th><th scope=col>from_EZR</th><th scope=col>BC.score</th></tr>\n",
       "\t<tr><th scope=col>&lt;chr&gt;</th><th scope=col>&lt;chr&gt;</th><th scope=col>&lt;dbl&gt;</th><th scope=col>&lt;chr&gt;</th><th scope=col>&lt;chr&gt;</th><th scope=col>&lt;chr&gt;</th><th scope=col>&lt;chr&gt;</th><th scope=col>&lt;lgl&gt;</th><th scope=col>&lt;int&gt;</th><th scope=col>&lt;int&gt;</th><th scope=col>&lt;dbl&gt;</th><th scope=col>&lt;dbl&gt;</th><th scope=col>&lt;dbl&gt;</th><th scope=col>&lt;dbl&gt;</th><th scope=col>&lt;dbl&gt;</th><th scope=col>&lt;dbl&gt;</th><th scope=col>&lt;dbl&gt;</th><th scope=col>&lt;dbl&gt;</th><th scope=col>&lt;dbl&gt;</th></tr>\n",
       "</thead>\n",
       "<tbody>\n",
       "\t<tr><td>AKT3    </td><td>cg04221461</td><td>2.2e-03</td><td>0,46</td><td>0,56</td><td>Body</td><td>Open sea</td><td>FALSE</td><td> 613</td><td>35</td><td>  3</td><td>Inf</td><td>  5</td><td>Inf</td><td>  2</td><td>  7</td><td>  7</td><td>Inf</td><td>2771.8197</td></tr>\n",
       "\t<tr><td>BAIAP2  </td><td>cg02026049</td><td>7.9e-03</td><td>0,65</td><td>0,76</td><td>Body</td><td>N_Shelf </td><td>FALSE</td><td>1123</td><td> 2</td><td>  5</td><td>Inf</td><td>  6</td><td>Inf</td><td>  4</td><td>  9</td><td>  9</td><td>Inf</td><td> 661.0000</td></tr>\n",
       "\t<tr><td>CBLB    </td><td>cg18984715</td><td>1.2e-03</td><td>0,79</td><td>0,67</td><td>Body</td><td>Open sea</td><td> TRUE</td><td> 441</td><td>35</td><td>Inf</td><td>Inf</td><td>Inf</td><td>Inf</td><td>Inf</td><td>Inf</td><td>Inf</td><td>Inf</td><td>   0.0000</td></tr>\n",
       "\t<tr><td>DIAPH3  </td><td>cg01899581</td><td>9.0e-05</td><td>0,64</td><td>0,47</td><td>Body</td><td>N_Shelf </td><td>FALSE</td><td>  53</td><td> 2</td><td>  8</td><td>Inf</td><td>  9</td><td>Inf</td><td>  7</td><td> 12</td><td> 12</td><td>Inf</td><td>  15.0000</td></tr>\n",
       "\t<tr><td>EZR     </td><td>cg13433729</td><td>1.2e-06</td><td>0,61</td><td>0,49</td><td>Body</td><td>Open sea</td><td> TRUE</td><td>   2</td><td>15</td><td>  7</td><td>  6</td><td>  6</td><td>Inf</td><td>  5</td><td>  5</td><td>  5</td><td>  0</td><td> 271.5944</td></tr>\n",
       "\t<tr><td>ITPR1   </td><td>cg22240998</td><td>1.1e-03</td><td>0,60</td><td>0,50</td><td>Body</td><td>Open sea</td><td> TRUE</td><td> 420</td><td>35</td><td>  4</td><td>Inf</td><td>  2</td><td>Inf</td><td> 10</td><td>  1</td><td>  1</td><td>Inf</td><td> 602.8583</td></tr>\n",
       "\t<tr><td>MAP2K1  </td><td>cg21070009</td><td>4.1e-03</td><td>0,48</td><td>0,35</td><td>Body</td><td>Open sea</td><td> TRUE</td><td> 852</td><td>15</td><td>  3</td><td>  2</td><td>  4</td><td>Inf</td><td>  2</td><td>  5</td><td>  5</td><td>  3</td><td>2090.0913</td></tr>\n",
       "\t<tr><td>NFATC1  </td><td>cg11321921</td><td>5.5e-04</td><td>0,78</td><td>0,91</td><td>Body</td><td>Island  </td><td>FALSE</td><td> 240</td><td> 1</td><td>  5</td><td>Inf</td><td>  3</td><td>Inf</td><td>  4</td><td>  4</td><td>  4</td><td>Inf</td><td>   0.0000</td></tr>\n",
       "\t<tr><td>NFATC1  </td><td>cg05687091</td><td>6.1e-04</td><td>0,54</td><td>0,64</td><td>Body</td><td>Island  </td><td>FALSE</td><td> 257</td><td> 1</td><td>  5</td><td>Inf</td><td>  3</td><td>Inf</td><td>  4</td><td>  4</td><td>  4</td><td>Inf</td><td>   0.0000</td></tr>\n",
       "\t<tr><td>PLCG2   </td><td>cg07671055</td><td>5.6e-03</td><td>0,48</td><td>0,59</td><td>Body</td><td>Open sea</td><td>FALSE</td><td> 952</td><td>35</td><td>  3</td><td>Inf</td><td>  1</td><td>Inf</td><td>  9</td><td>  6</td><td>  6</td><td>Inf</td><td>3177.4806</td></tr>\n",
       "\t<tr><td>TNFRSF1A</td><td>cg23752651</td><td>9.5e-04</td><td>0,58</td><td>0,70</td><td>Body</td><td>Open sea</td><td>FALSE</td><td> 374</td><td>35</td><td>Inf</td><td>Inf</td><td>Inf</td><td>Inf</td><td>Inf</td><td>Inf</td><td>Inf</td><td>Inf</td><td> 415.6667</td></tr>\n",
       "</tbody>\n",
       "</table>\n"
      ],
      "text/latex": [
       "A data.frame: 11 × 19\n",
       "\\begin{tabular}{lllllllllllllllllll}\n",
       " Gene & Probe ID & p-value & Median β CF patients & Median β Controls & Genomic location & Island status & *Enhancer & CpG\\_rank & dist\\_to\\_CF\\_network\\_sink\\_nodes & from\\_TRADD & from\\_PRKACA & from\\_SYK & from\\_CSNK2A1 & from\\_SRC & from\\_PLCB1 & from\\_PLCB3 & from\\_EZR & BC.score\\\\\n",
       " <chr> & <chr> & <dbl> & <chr> & <chr> & <chr> & <chr> & <lgl> & <int> & <int> & <dbl> & <dbl> & <dbl> & <dbl> & <dbl> & <dbl> & <dbl> & <dbl> & <dbl>\\\\\n",
       "\\hline\n",
       "\t AKT3     & cg04221461 & 2.2e-03 & 0,46 & 0,56 & Body & Open sea & FALSE &  613 & 35 &   3 & Inf &   5 & Inf &   2 &   7 &   7 & Inf & 2771.8197\\\\\n",
       "\t BAIAP2   & cg02026049 & 7.9e-03 & 0,65 & 0,76 & Body & N\\_Shelf  & FALSE & 1123 &  2 &   5 & Inf &   6 & Inf &   4 &   9 &   9 & Inf &  661.0000\\\\\n",
       "\t CBLB     & cg18984715 & 1.2e-03 & 0,79 & 0,67 & Body & Open sea &  TRUE &  441 & 35 & Inf & Inf & Inf & Inf & Inf & Inf & Inf & Inf &    0.0000\\\\\n",
       "\t DIAPH3   & cg01899581 & 9.0e-05 & 0,64 & 0,47 & Body & N\\_Shelf  & FALSE &   53 &  2 &   8 & Inf &   9 & Inf &   7 &  12 &  12 & Inf &   15.0000\\\\\n",
       "\t EZR      & cg13433729 & 1.2e-06 & 0,61 & 0,49 & Body & Open sea &  TRUE &    2 & 15 &   7 &   6 &   6 & Inf &   5 &   5 &   5 &   0 &  271.5944\\\\\n",
       "\t ITPR1    & cg22240998 & 1.1e-03 & 0,60 & 0,50 & Body & Open sea &  TRUE &  420 & 35 &   4 & Inf &   2 & Inf &  10 &   1 &   1 & Inf &  602.8583\\\\\n",
       "\t MAP2K1   & cg21070009 & 4.1e-03 & 0,48 & 0,35 & Body & Open sea &  TRUE &  852 & 15 &   3 &   2 &   4 & Inf &   2 &   5 &   5 &   3 & 2090.0913\\\\\n",
       "\t NFATC1   & cg11321921 & 5.5e-04 & 0,78 & 0,91 & Body & Island   & FALSE &  240 &  1 &   5 & Inf &   3 & Inf &   4 &   4 &   4 & Inf &    0.0000\\\\\n",
       "\t NFATC1   & cg05687091 & 6.1e-04 & 0,54 & 0,64 & Body & Island   & FALSE &  257 &  1 &   5 & Inf &   3 & Inf &   4 &   4 &   4 & Inf &    0.0000\\\\\n",
       "\t PLCG2    & cg07671055 & 5.6e-03 & 0,48 & 0,59 & Body & Open sea & FALSE &  952 & 35 &   3 & Inf &   1 & Inf &   9 &   6 &   6 & Inf & 3177.4806\\\\\n",
       "\t TNFRSF1A & cg23752651 & 9.5e-04 & 0,58 & 0,70 & Body & Open sea & FALSE &  374 & 35 & Inf & Inf & Inf & Inf & Inf & Inf & Inf & Inf &  415.6667\\\\\n",
       "\\end{tabular}\n"
      ],
      "text/markdown": [
       "\n",
       "A data.frame: 11 × 19\n",
       "\n",
       "| Gene &lt;chr&gt; | Probe ID &lt;chr&gt; | p-value &lt;dbl&gt; | Median β CF patients &lt;chr&gt; | Median β Controls &lt;chr&gt; | Genomic location &lt;chr&gt; | Island status &lt;chr&gt; | *Enhancer &lt;lgl&gt; | CpG_rank &lt;int&gt; | dist_to_CF_network_sink_nodes &lt;int&gt; | from_TRADD &lt;dbl&gt; | from_PRKACA &lt;dbl&gt; | from_SYK &lt;dbl&gt; | from_CSNK2A1 &lt;dbl&gt; | from_SRC &lt;dbl&gt; | from_PLCB1 &lt;dbl&gt; | from_PLCB3 &lt;dbl&gt; | from_EZR &lt;dbl&gt; | BC.score &lt;dbl&gt; |\n",
       "|---|---|---|---|---|---|---|---|---|---|---|---|---|---|---|---|---|---|---|\n",
       "| AKT3     | cg04221461 | 2.2e-03 | 0,46 | 0,56 | Body | Open sea | FALSE |  613 | 35 |   3 | Inf |   5 | Inf |   2 |   7 |   7 | Inf | 2771.8197 |\n",
       "| BAIAP2   | cg02026049 | 7.9e-03 | 0,65 | 0,76 | Body | N_Shelf  | FALSE | 1123 |  2 |   5 | Inf |   6 | Inf |   4 |   9 |   9 | Inf |  661.0000 |\n",
       "| CBLB     | cg18984715 | 1.2e-03 | 0,79 | 0,67 | Body | Open sea |  TRUE |  441 | 35 | Inf | Inf | Inf | Inf | Inf | Inf | Inf | Inf |    0.0000 |\n",
       "| DIAPH3   | cg01899581 | 9.0e-05 | 0,64 | 0,47 | Body | N_Shelf  | FALSE |   53 |  2 |   8 | Inf |   9 | Inf |   7 |  12 |  12 | Inf |   15.0000 |\n",
       "| EZR      | cg13433729 | 1.2e-06 | 0,61 | 0,49 | Body | Open sea |  TRUE |    2 | 15 |   7 |   6 |   6 | Inf |   5 |   5 |   5 |   0 |  271.5944 |\n",
       "| ITPR1    | cg22240998 | 1.1e-03 | 0,60 | 0,50 | Body | Open sea |  TRUE |  420 | 35 |   4 | Inf |   2 | Inf |  10 |   1 |   1 | Inf |  602.8583 |\n",
       "| MAP2K1   | cg21070009 | 4.1e-03 | 0,48 | 0,35 | Body | Open sea |  TRUE |  852 | 15 |   3 |   2 |   4 | Inf |   2 |   5 |   5 |   3 | 2090.0913 |\n",
       "| NFATC1   | cg11321921 | 5.5e-04 | 0,78 | 0,91 | Body | Island   | FALSE |  240 |  1 |   5 | Inf |   3 | Inf |   4 |   4 |   4 | Inf |    0.0000 |\n",
       "| NFATC1   | cg05687091 | 6.1e-04 | 0,54 | 0,64 | Body | Island   | FALSE |  257 |  1 |   5 | Inf |   3 | Inf |   4 |   4 |   4 | Inf |    0.0000 |\n",
       "| PLCG2    | cg07671055 | 5.6e-03 | 0,48 | 0,59 | Body | Open sea | FALSE |  952 | 35 |   3 | Inf |   1 | Inf |   9 |   6 |   6 | Inf | 3177.4806 |\n",
       "| TNFRSF1A | cg23752651 | 9.5e-04 | 0,58 | 0,70 | Body | Open sea | FALSE |  374 | 35 | Inf | Inf | Inf | Inf | Inf | Inf | Inf | Inf |  415.6667 |\n",
       "\n"
      ],
      "text/plain": [
       "   Gene     Probe ID   p-value Median β CF patients Median β Controls\n",
       "1  AKT3     cg04221461 2.2e-03 0,46                 0,56             \n",
       "2  BAIAP2   cg02026049 7.9e-03 0,65                 0,76             \n",
       "3  CBLB     cg18984715 1.2e-03 0,79                 0,67             \n",
       "4  DIAPH3   cg01899581 9.0e-05 0,64                 0,47             \n",
       "5  EZR      cg13433729 1.2e-06 0,61                 0,49             \n",
       "6  ITPR1    cg22240998 1.1e-03 0,60                 0,50             \n",
       "7  MAP2K1   cg21070009 4.1e-03 0,48                 0,35             \n",
       "8  NFATC1   cg11321921 5.5e-04 0,78                 0,91             \n",
       "9  NFATC1   cg05687091 6.1e-04 0,54                 0,64             \n",
       "10 PLCG2    cg07671055 5.6e-03 0,48                 0,59             \n",
       "11 TNFRSF1A cg23752651 9.5e-04 0,58                 0,70             \n",
       "   Genomic location Island status *Enhancer CpG_rank\n",
       "1  Body             Open sea      FALSE      613    \n",
       "2  Body             N_Shelf       FALSE     1123    \n",
       "3  Body             Open sea       TRUE      441    \n",
       "4  Body             N_Shelf       FALSE       53    \n",
       "5  Body             Open sea       TRUE        2    \n",
       "6  Body             Open sea       TRUE      420    \n",
       "7  Body             Open sea       TRUE      852    \n",
       "8  Body             Island        FALSE      240    \n",
       "9  Body             Island        FALSE      257    \n",
       "10 Body             Open sea      FALSE      952    \n",
       "11 Body             Open sea      FALSE      374    \n",
       "   dist_to_CF_network_sink_nodes from_TRADD from_PRKACA from_SYK from_CSNK2A1\n",
       "1  35                              3        Inf           5      Inf         \n",
       "2   2                              5        Inf           6      Inf         \n",
       "3  35                            Inf        Inf         Inf      Inf         \n",
       "4   2                              8        Inf           9      Inf         \n",
       "5  15                              7          6           6      Inf         \n",
       "6  35                              4        Inf           2      Inf         \n",
       "7  15                              3          2           4      Inf         \n",
       "8   1                              5        Inf           3      Inf         \n",
       "9   1                              5        Inf           3      Inf         \n",
       "10 35                              3        Inf           1      Inf         \n",
       "11 35                            Inf        Inf         Inf      Inf         \n",
       "   from_SRC from_PLCB1 from_PLCB3 from_EZR BC.score \n",
       "1    2        7          7        Inf      2771.8197\n",
       "2    4        9          9        Inf       661.0000\n",
       "3  Inf      Inf        Inf        Inf         0.0000\n",
       "4    7       12         12        Inf        15.0000\n",
       "5    5        5          5          0       271.5944\n",
       "6   10        1          1        Inf       602.8583\n",
       "7    2        5          5          3      2090.0913\n",
       "8    4        4          4        Inf         0.0000\n",
       "9    4        4          4        Inf         0.0000\n",
       "10   9        6          6        Inf      3177.4806\n",
       "11 Inf      Inf        Inf        Inf       415.6667"
      ]
     },
     "metadata": {},
     "output_type": "display_data"
    }
   ],
   "source": [
    "dm_CF_NCF_Genes_in_CF_network.dm_CF_NCF_df <- merge(dm_CF_NCF_Genes_in_CF_network.dm_CF_NCF_df,\n",
    "                                                    CF_PPI_network.bc.df.dm_CF_NCF_df,\n",
    "                                                    by.x = \"Gene\",\n",
    "                                                    by.y = \"Symbol\",\n",
    "                                                   all.x = T)\n",
    "dm_CF_NCF_Genes_in_CF_network.dm_CF_NCF_df"
   ]
  },
  {
   "cell_type": "markdown",
   "id": "25f8eb35-faf9-4b83-a461-17b57ed27278",
   "metadata": {},
   "source": [
    "### 2.3.5 Pathways"
   ]
  },
  {
   "cell_type": "code",
   "execution_count": 30,
   "id": "f3476696-e0b3-47bb-8c4d-7c748abdf93b",
   "metadata": {},
   "outputs": [
    {
     "data": {
      "text/html": [
       "<table class=\"dataframe\">\n",
       "<caption>A data.frame: 11 × 36</caption>\n",
       "<thead>\n",
       "\t<tr><th scope=col>Gene</th><th scope=col>Probe ID</th><th scope=col>p-value</th><th scope=col>Median β CF patients</th><th scope=col>Median β Controls</th><th scope=col>Genomic location</th><th scope=col>Island status</th><th scope=col>*Enhancer</th><th scope=col>CpG_rank</th><th scope=col>dist_to_CF_network_sink_nodes</th><th scope=col>⋯</th><th scope=col>Osteoclast differentiation</th><th scope=col>Regulation of actin cytoskeleton</th><th scope=col>RIG-I-like receptor signaling pathway</th><th scope=col>T cell receptor signaling pathway</th><th scope=col>Th17 cell differentiation</th><th scope=col>TNF signaling pathway</th><th scope=col>Toll-like receptor signaling pathway</th><th scope=col>Viral protein interaction with cytokine and cytokine receptor</th><th scope=col>sum</th><th scope=col>pathway</th></tr>\n",
       "\t<tr><th scope=col>&lt;chr&gt;</th><th scope=col>&lt;chr&gt;</th><th scope=col>&lt;dbl&gt;</th><th scope=col>&lt;chr&gt;</th><th scope=col>&lt;chr&gt;</th><th scope=col>&lt;chr&gt;</th><th scope=col>&lt;chr&gt;</th><th scope=col>&lt;lgl&gt;</th><th scope=col>&lt;int&gt;</th><th scope=col>&lt;int&gt;</th><th scope=col>⋯</th><th scope=col>&lt;int&gt;</th><th scope=col>&lt;int&gt;</th><th scope=col>&lt;int&gt;</th><th scope=col>&lt;int&gt;</th><th scope=col>&lt;int&gt;</th><th scope=col>&lt;int&gt;</th><th scope=col>&lt;int&gt;</th><th scope=col>&lt;int&gt;</th><th scope=col>&lt;int&gt;</th><th scope=col>&lt;chr&gt;</th></tr>\n",
       "</thead>\n",
       "<tbody>\n",
       "\t<tr><td>AKT3    </td><td>cg04221461</td><td>2.2e-03</td><td>0,46</td><td>0,56</td><td>Body</td><td>Open sea</td><td>FALSE</td><td> 613</td><td>35</td><td>⋯</td><td>1</td><td>0</td><td>0</td><td>1</td><td>0</td><td>1</td><td>1</td><td>0</td><td>6</td><td>NA                              </td></tr>\n",
       "\t<tr><td>BAIAP2  </td><td>cg02026049</td><td>7.9e-03</td><td>0,65</td><td>0,76</td><td>Body</td><td>N_Shelf </td><td>FALSE</td><td>1123</td><td> 2</td><td>⋯</td><td>0</td><td>1</td><td>0</td><td>0</td><td>0</td><td>0</td><td>0</td><td>0</td><td>1</td><td>Regulation of actin cytoskeleton</td></tr>\n",
       "\t<tr><td>CBLB    </td><td>cg18984715</td><td>1.2e-03</td><td>0,79</td><td>0,67</td><td>Body</td><td>Open sea</td><td> TRUE</td><td> 441</td><td>35</td><td>⋯</td><td>0</td><td>0</td><td>0</td><td>1</td><td>0</td><td>0</td><td>0</td><td>0</td><td>2</td><td>NA                              </td></tr>\n",
       "\t<tr><td>DIAPH3  </td><td>cg01899581</td><td>9.0e-05</td><td>0,64</td><td>0,47</td><td>Body</td><td>N_Shelf </td><td>FALSE</td><td>  53</td><td> 2</td><td>⋯</td><td>0</td><td>1</td><td>0</td><td>0</td><td>0</td><td>0</td><td>0</td><td>0</td><td>1</td><td>Regulation of actin cytoskeleton</td></tr>\n",
       "\t<tr><td>EZR     </td><td>cg13433729</td><td>1.2e-06</td><td>0,61</td><td>0,49</td><td>Body</td><td>Open sea</td><td> TRUE</td><td>   2</td><td>15</td><td>⋯</td><td>0</td><td>1</td><td>0</td><td>0</td><td>0</td><td>0</td><td>0</td><td>0</td><td>1</td><td>Regulation of actin cytoskeleton</td></tr>\n",
       "\t<tr><td>ITPR1   </td><td>cg22240998</td><td>1.1e-03</td><td>0,60</td><td>0,50</td><td>Body</td><td>Open sea</td><td> TRUE</td><td> 420</td><td>35</td><td>⋯</td><td>0</td><td>0</td><td>0</td><td>0</td><td>0</td><td>0</td><td>0</td><td>0</td><td>3</td><td>NA                              </td></tr>\n",
       "\t<tr><td>MAP2K1  </td><td>cg21070009</td><td>4.1e-03</td><td>0,48</td><td>0,35</td><td>Body</td><td>Open sea</td><td> TRUE</td><td> 852</td><td>15</td><td>⋯</td><td>1</td><td>1</td><td>0</td><td>1</td><td>0</td><td>1</td><td>1</td><td>0</td><td>6</td><td>NA                              </td></tr>\n",
       "\t<tr><td>NFATC1  </td><td>cg11321921</td><td>5.5e-04</td><td>0,78</td><td>0,91</td><td>Body</td><td>Island  </td><td>FALSE</td><td> 240</td><td> 1</td><td>⋯</td><td>1</td><td>0</td><td>0</td><td>1</td><td>1</td><td>0</td><td>0</td><td>0</td><td>4</td><td>NA                              </td></tr>\n",
       "\t<tr><td>NFATC1  </td><td>cg05687091</td><td>6.1e-04</td><td>0,54</td><td>0,64</td><td>Body</td><td>Island  </td><td>FALSE</td><td> 257</td><td> 1</td><td>⋯</td><td>1</td><td>0</td><td>0</td><td>1</td><td>1</td><td>0</td><td>0</td><td>0</td><td>4</td><td>NA                              </td></tr>\n",
       "\t<tr><td>PLCG2   </td><td>cg07671055</td><td>5.6e-03</td><td>0,48</td><td>0,59</td><td>Body</td><td>Open sea</td><td>FALSE</td><td> 952</td><td>35</td><td>⋯</td><td>1</td><td>0</td><td>0</td><td>0</td><td>0</td><td>0</td><td>0</td><td>0</td><td>2</td><td>NA                              </td></tr>\n",
       "\t<tr><td>TNFRSF1A</td><td>cg23752651</td><td>9.5e-04</td><td>0,58</td><td>0,70</td><td>Body</td><td>Open sea</td><td>FALSE</td><td> 374</td><td>35</td><td>⋯</td><td>1</td><td>0</td><td>0</td><td>0</td><td>0</td><td>1</td><td>0</td><td>1</td><td>5</td><td>NA                              </td></tr>\n",
       "</tbody>\n",
       "</table>\n"
      ],
      "text/latex": [
       "A data.frame: 11 × 36\n",
       "\\begin{tabular}{lllllllllllllllllllll}\n",
       " Gene & Probe ID & p-value & Median β CF patients & Median β Controls & Genomic location & Island status & *Enhancer & CpG\\_rank & dist\\_to\\_CF\\_network\\_sink\\_nodes & ⋯ & Osteoclast differentiation & Regulation of actin cytoskeleton & RIG-I-like receptor signaling pathway & T cell receptor signaling pathway & Th17 cell differentiation & TNF signaling pathway & Toll-like receptor signaling pathway & Viral protein interaction with cytokine and cytokine receptor & sum & pathway\\\\\n",
       " <chr> & <chr> & <dbl> & <chr> & <chr> & <chr> & <chr> & <lgl> & <int> & <int> & ⋯ & <int> & <int> & <int> & <int> & <int> & <int> & <int> & <int> & <int> & <chr>\\\\\n",
       "\\hline\n",
       "\t AKT3     & cg04221461 & 2.2e-03 & 0,46 & 0,56 & Body & Open sea & FALSE &  613 & 35 & ⋯ & 1 & 0 & 0 & 1 & 0 & 1 & 1 & 0 & 6 & NA                              \\\\\n",
       "\t BAIAP2   & cg02026049 & 7.9e-03 & 0,65 & 0,76 & Body & N\\_Shelf  & FALSE & 1123 &  2 & ⋯ & 0 & 1 & 0 & 0 & 0 & 0 & 0 & 0 & 1 & Regulation of actin cytoskeleton\\\\\n",
       "\t CBLB     & cg18984715 & 1.2e-03 & 0,79 & 0,67 & Body & Open sea &  TRUE &  441 & 35 & ⋯ & 0 & 0 & 0 & 1 & 0 & 0 & 0 & 0 & 2 & NA                              \\\\\n",
       "\t DIAPH3   & cg01899581 & 9.0e-05 & 0,64 & 0,47 & Body & N\\_Shelf  & FALSE &   53 &  2 & ⋯ & 0 & 1 & 0 & 0 & 0 & 0 & 0 & 0 & 1 & Regulation of actin cytoskeleton\\\\\n",
       "\t EZR      & cg13433729 & 1.2e-06 & 0,61 & 0,49 & Body & Open sea &  TRUE &    2 & 15 & ⋯ & 0 & 1 & 0 & 0 & 0 & 0 & 0 & 0 & 1 & Regulation of actin cytoskeleton\\\\\n",
       "\t ITPR1    & cg22240998 & 1.1e-03 & 0,60 & 0,50 & Body & Open sea &  TRUE &  420 & 35 & ⋯ & 0 & 0 & 0 & 0 & 0 & 0 & 0 & 0 & 3 & NA                              \\\\\n",
       "\t MAP2K1   & cg21070009 & 4.1e-03 & 0,48 & 0,35 & Body & Open sea &  TRUE &  852 & 15 & ⋯ & 1 & 1 & 0 & 1 & 0 & 1 & 1 & 0 & 6 & NA                              \\\\\n",
       "\t NFATC1   & cg11321921 & 5.5e-04 & 0,78 & 0,91 & Body & Island   & FALSE &  240 &  1 & ⋯ & 1 & 0 & 0 & 1 & 1 & 0 & 0 & 0 & 4 & NA                              \\\\\n",
       "\t NFATC1   & cg05687091 & 6.1e-04 & 0,54 & 0,64 & Body & Island   & FALSE &  257 &  1 & ⋯ & 1 & 0 & 0 & 1 & 1 & 0 & 0 & 0 & 4 & NA                              \\\\\n",
       "\t PLCG2    & cg07671055 & 5.6e-03 & 0,48 & 0,59 & Body & Open sea & FALSE &  952 & 35 & ⋯ & 1 & 0 & 0 & 0 & 0 & 0 & 0 & 0 & 2 & NA                              \\\\\n",
       "\t TNFRSF1A & cg23752651 & 9.5e-04 & 0,58 & 0,70 & Body & Open sea & FALSE &  374 & 35 & ⋯ & 1 & 0 & 0 & 0 & 0 & 1 & 0 & 1 & 5 & NA                              \\\\\n",
       "\\end{tabular}\n"
      ],
      "text/markdown": [
       "\n",
       "A data.frame: 11 × 36\n",
       "\n",
       "| Gene &lt;chr&gt; | Probe ID &lt;chr&gt; | p-value &lt;dbl&gt; | Median β CF patients &lt;chr&gt; | Median β Controls &lt;chr&gt; | Genomic location &lt;chr&gt; | Island status &lt;chr&gt; | *Enhancer &lt;lgl&gt; | CpG_rank &lt;int&gt; | dist_to_CF_network_sink_nodes &lt;int&gt; | ⋯ ⋯ | Osteoclast differentiation &lt;int&gt; | Regulation of actin cytoskeleton &lt;int&gt; | RIG-I-like receptor signaling pathway &lt;int&gt; | T cell receptor signaling pathway &lt;int&gt; | Th17 cell differentiation &lt;int&gt; | TNF signaling pathway &lt;int&gt; | Toll-like receptor signaling pathway &lt;int&gt; | Viral protein interaction with cytokine and cytokine receptor &lt;int&gt; | sum &lt;int&gt; | pathway &lt;chr&gt; |\n",
       "|---|---|---|---|---|---|---|---|---|---|---|---|---|---|---|---|---|---|---|---|---|\n",
       "| AKT3     | cg04221461 | 2.2e-03 | 0,46 | 0,56 | Body | Open sea | FALSE |  613 | 35 | ⋯ | 1 | 0 | 0 | 1 | 0 | 1 | 1 | 0 | 6 | NA                               |\n",
       "| BAIAP2   | cg02026049 | 7.9e-03 | 0,65 | 0,76 | Body | N_Shelf  | FALSE | 1123 |  2 | ⋯ | 0 | 1 | 0 | 0 | 0 | 0 | 0 | 0 | 1 | Regulation of actin cytoskeleton |\n",
       "| CBLB     | cg18984715 | 1.2e-03 | 0,79 | 0,67 | Body | Open sea |  TRUE |  441 | 35 | ⋯ | 0 | 0 | 0 | 1 | 0 | 0 | 0 | 0 | 2 | NA                               |\n",
       "| DIAPH3   | cg01899581 | 9.0e-05 | 0,64 | 0,47 | Body | N_Shelf  | FALSE |   53 |  2 | ⋯ | 0 | 1 | 0 | 0 | 0 | 0 | 0 | 0 | 1 | Regulation of actin cytoskeleton |\n",
       "| EZR      | cg13433729 | 1.2e-06 | 0,61 | 0,49 | Body | Open sea |  TRUE |    2 | 15 | ⋯ | 0 | 1 | 0 | 0 | 0 | 0 | 0 | 0 | 1 | Regulation of actin cytoskeleton |\n",
       "| ITPR1    | cg22240998 | 1.1e-03 | 0,60 | 0,50 | Body | Open sea |  TRUE |  420 | 35 | ⋯ | 0 | 0 | 0 | 0 | 0 | 0 | 0 | 0 | 3 | NA                               |\n",
       "| MAP2K1   | cg21070009 | 4.1e-03 | 0,48 | 0,35 | Body | Open sea |  TRUE |  852 | 15 | ⋯ | 1 | 1 | 0 | 1 | 0 | 1 | 1 | 0 | 6 | NA                               |\n",
       "| NFATC1   | cg11321921 | 5.5e-04 | 0,78 | 0,91 | Body | Island   | FALSE |  240 |  1 | ⋯ | 1 | 0 | 0 | 1 | 1 | 0 | 0 | 0 | 4 | NA                               |\n",
       "| NFATC1   | cg05687091 | 6.1e-04 | 0,54 | 0,64 | Body | Island   | FALSE |  257 |  1 | ⋯ | 1 | 0 | 0 | 1 | 1 | 0 | 0 | 0 | 4 | NA                               |\n",
       "| PLCG2    | cg07671055 | 5.6e-03 | 0,48 | 0,59 | Body | Open sea | FALSE |  952 | 35 | ⋯ | 1 | 0 | 0 | 0 | 0 | 0 | 0 | 0 | 2 | NA                               |\n",
       "| TNFRSF1A | cg23752651 | 9.5e-04 | 0,58 | 0,70 | Body | Open sea | FALSE |  374 | 35 | ⋯ | 1 | 0 | 0 | 0 | 0 | 1 | 0 | 1 | 5 | NA                               |\n",
       "\n"
      ],
      "text/plain": [
       "   Gene     Probe ID   p-value Median β CF patients Median β Controls\n",
       "1  AKT3     cg04221461 2.2e-03 0,46                 0,56             \n",
       "2  BAIAP2   cg02026049 7.9e-03 0,65                 0,76             \n",
       "3  CBLB     cg18984715 1.2e-03 0,79                 0,67             \n",
       "4  DIAPH3   cg01899581 9.0e-05 0,64                 0,47             \n",
       "5  EZR      cg13433729 1.2e-06 0,61                 0,49             \n",
       "6  ITPR1    cg22240998 1.1e-03 0,60                 0,50             \n",
       "7  MAP2K1   cg21070009 4.1e-03 0,48                 0,35             \n",
       "8  NFATC1   cg11321921 5.5e-04 0,78                 0,91             \n",
       "9  NFATC1   cg05687091 6.1e-04 0,54                 0,64             \n",
       "10 PLCG2    cg07671055 5.6e-03 0,48                 0,59             \n",
       "11 TNFRSF1A cg23752651 9.5e-04 0,58                 0,70             \n",
       "   Genomic location Island status *Enhancer CpG_rank\n",
       "1  Body             Open sea      FALSE      613    \n",
       "2  Body             N_Shelf       FALSE     1123    \n",
       "3  Body             Open sea       TRUE      441    \n",
       "4  Body             N_Shelf       FALSE       53    \n",
       "5  Body             Open sea       TRUE        2    \n",
       "6  Body             Open sea       TRUE      420    \n",
       "7  Body             Open sea       TRUE      852    \n",
       "8  Body             Island        FALSE      240    \n",
       "9  Body             Island        FALSE      257    \n",
       "10 Body             Open sea      FALSE      952    \n",
       "11 Body             Open sea      FALSE      374    \n",
       "   dist_to_CF_network_sink_nodes ⋯ Osteoclast differentiation\n",
       "1  35                            ⋯ 1                         \n",
       "2   2                            ⋯ 0                         \n",
       "3  35                            ⋯ 0                         \n",
       "4   2                            ⋯ 0                         \n",
       "5  15                            ⋯ 0                         \n",
       "6  35                            ⋯ 0                         \n",
       "7  15                            ⋯ 1                         \n",
       "8   1                            ⋯ 1                         \n",
       "9   1                            ⋯ 1                         \n",
       "10 35                            ⋯ 1                         \n",
       "11 35                            ⋯ 1                         \n",
       "   Regulation of actin cytoskeleton RIG-I-like receptor signaling pathway\n",
       "1  0                                0                                    \n",
       "2  1                                0                                    \n",
       "3  0                                0                                    \n",
       "4  1                                0                                    \n",
       "5  1                                0                                    \n",
       "6  0                                0                                    \n",
       "7  1                                0                                    \n",
       "8  0                                0                                    \n",
       "9  0                                0                                    \n",
       "10 0                                0                                    \n",
       "11 0                                0                                    \n",
       "   T cell receptor signaling pathway Th17 cell differentiation\n",
       "1  1                                 0                        \n",
       "2  0                                 0                        \n",
       "3  1                                 0                        \n",
       "4  0                                 0                        \n",
       "5  0                                 0                        \n",
       "6  0                                 0                        \n",
       "7  1                                 0                        \n",
       "8  1                                 1                        \n",
       "9  1                                 1                        \n",
       "10 0                                 0                        \n",
       "11 0                                 0                        \n",
       "   TNF signaling pathway Toll-like receptor signaling pathway\n",
       "1  1                     1                                   \n",
       "2  0                     0                                   \n",
       "3  0                     0                                   \n",
       "4  0                     0                                   \n",
       "5  0                     0                                   \n",
       "6  0                     0                                   \n",
       "7  1                     1                                   \n",
       "8  0                     0                                   \n",
       "9  0                     0                                   \n",
       "10 0                     0                                   \n",
       "11 1                     0                                   \n",
       "   Viral protein interaction with cytokine and cytokine receptor sum\n",
       "1  0                                                             6  \n",
       "2  0                                                             1  \n",
       "3  0                                                             2  \n",
       "4  0                                                             1  \n",
       "5  0                                                             1  \n",
       "6  0                                                             3  \n",
       "7  0                                                             6  \n",
       "8  0                                                             4  \n",
       "9  0                                                             4  \n",
       "10 0                                                             2  \n",
       "11 1                                                             5  \n",
       "   pathway                         \n",
       "1  NA                              \n",
       "2  Regulation of actin cytoskeleton\n",
       "3  NA                              \n",
       "4  Regulation of actin cytoskeleton\n",
       "5  Regulation of actin cytoskeleton\n",
       "6  NA                              \n",
       "7  NA                              \n",
       "8  NA                              \n",
       "9  NA                              \n",
       "10 NA                              \n",
       "11 NA                              "
      ]
     },
     "metadata": {},
     "output_type": "display_data"
    }
   ],
   "source": [
    "dm_CF_NCF_Genes_in_CF_network.CF_network_df <- CF_PPI_network.pruned.nodes[which(CF_PPI_network.pruned.nodes$Symbol %in% dm_CF_NCF_Genes_in_CF_network.list),]\n",
    "\n",
    "dm_CF_NCF_Genes_in_CF_network.dm_CF_NCF_df <- merge(dm_CF_NCF_Genes_in_CF_network.dm_CF_NCF_df,\n",
    "                                                    CF_PPI_network.pruned.nodes[,1:18],\n",
    "                                                    by.x = \"Gene\",\n",
    "                                                    by.y = \"Symbol\",\n",
    "                                                   all.x = T)\n",
    "dm_CF_NCF_Genes_in_CF_network.dm_CF_NCF_df"
   ]
  },
  {
   "cell_type": "code",
   "execution_count": 31,
   "id": "b24a2f5a-a829-43f6-aade-d49648f71370",
   "metadata": {},
   "outputs": [],
   "source": [
    "write.table(dm_CF_NCF_Genes_in_CF_network.dm_CF_NCF_df,\n",
    "            file = \"../CFMethylomeSysbio/dm_CpG_CF_NCF_in_CF_network_analysis_20240809.tsv\",\n",
    "            sep = \"\\t\",\n",
    "            row.names = F,\n",
    "            quote = FALSE)"
   ]
  },
  {
   "cell_type": "markdown",
   "id": "5cb6f86e-4bc6-414e-8966-359e5fcc1ba2",
   "metadata": {},
   "source": [
    "# 3. Differentially methylated CpG sites between severe and mild dataframe"
   ]
  },
  {
   "cell_type": "code",
   "execution_count": 88,
   "id": "ff68759a-31d3-4bc9-90fa-707b7b346a7d",
   "metadata": {},
   "outputs": [],
   "source": [
    "dm_severe_mild_sup_table4_189CpG <- \n",
    "  read.table(file = \"../CFMethylomeSysbio/dm_CpG_CF_severe_mild_Magalhaes_2018_sup_table_4.tsv\",\n",
    "             skip = 1,\n",
    "             quote = \"\\\"\",\n",
    "             sep = \"\\t\",\n",
    "             header = T,\n",
    "             check.names = F)\n",
    "\n",
    "dm_severe_mild_sup_table4_189CpG <- \n",
    "  dm_severe_mild_sup_table4_189CpG[order(dm_severe_mild_sup_table4_189CpG$`p-value`),]\n",
    "dm_severe_mild_sup_table4_189CpG$CpG_rank <- 1:dim(dm_severe_mild_sup_table4_189CpG)[1]"
   ]
  },
  {
   "cell_type": "markdown",
   "id": "acd4abc4-102f-410f-8bc9-9068c2e6dcbb",
   "metadata": {},
   "source": [
    "## 3.1 Keeping only CpG sites in the body of the genes"
   ]
  },
  {
   "cell_type": "code",
   "execution_count": 89,
   "id": "65cd65c7-38db-4f57-b3a6-71f3693aec19",
   "metadata": {},
   "outputs": [],
   "source": [
    "dm_severe_mild_sup_table4_189CpG_onlyGenes <- \n",
    "  dm_severe_mild_sup_table4_189CpG[which(dm_severe_mild_sup_table4_189CpG$`Genomic location`==\"Body\"),]\n",
    "\n",
    "dm_severe_mild_sup_table4_189CpG_onlyGenes$Gene_rank <- 1:dim(dm_severe_mild_sup_table4_189CpG_onlyGenes)[1]"
   ]
  },
  {
   "cell_type": "markdown",
   "id": "a181a075-454a-4510-9190-07344d028368",
   "metadata": {},
   "source": [
    "# 3.2 Searching for dm genes in the CF network"
   ]
  },
  {
   "cell_type": "code",
   "execution_count": 91,
   "id": "4cf214ad-d04e-47a0-b64d-20c56b6ce372",
   "metadata": {},
   "outputs": [
    {
     "ename": "ERROR",
     "evalue": "Error in eval(expr, envir, enclos): object 'CF_PPI_network.lcc.node_type.nodes' not found\n",
     "output_type": "error",
     "traceback": [
      "Error in eval(expr, envir, enclos): object 'CF_PPI_network.lcc.node_type.nodes' not found\nTraceback:\n"
     ]
    }
   ],
   "source": [
    "dm_severe_mild_sup_table4_189CpG_Genes.list <- unique(dm_severe_mild_sup_table4_189CpG_onlyGenes$Gene)\n",
    "\n",
    "dm_CF_NCF_Genes_in_CF_network.list <- \n",
    "  dm_severe_mild_sup_table4_189CpG_Genes.list[which(dm_severe_mild_sup_table4_189CpG_Genes.list %in% CF_PPI_network.pruned.nodes$Symbol)]\n",
    "\n",
    "dm_CF_NCF_Genes_in_CF_network.CF_network_df <- \n",
    "  CF_PPI_network.lcc.node_type.nodes[which(CF_PPI_network.pruned.nodes$Symbol %in% dm_CF_NCF_Genes_in_CF_network.list),]\n",
    "\n",
    "dm_CF_NCF_Genes_in_CF_network.dm_CF_NCF_df <-\n",
    "  dm_severe_mild_sup_table4_189CpG[which(dm_severe_mild_sup_table4_189CpG$Gene %in% dm_CF_NCF_Genes_in_CF_network.list),]"
   ]
  },
  {
   "cell_type": "code",
   "execution_count": 92,
   "id": "df94c2d4-62a4-4982-97c0-2ae4e8184ff6",
   "metadata": {},
   "outputs": [
    {
     "data": {
      "text/html": [],
      "text/latex": [],
      "text/markdown": [],
      "text/plain": [
       "character(0)"
      ]
     },
     "metadata": {},
     "output_type": "display_data"
    }
   ],
   "source": [
    "dm_CF_NCF_Genes_in_CF_network.list"
   ]
  },
  {
   "cell_type": "code",
   "execution_count": null,
   "id": "d019d501-12fa-4e3c-b1d6-dacd4c519f00",
   "metadata": {},
   "outputs": [],
   "source": []
  }
 ],
 "metadata": {
  "kernelspec": {
   "display_name": "R [conda env:r_venv_conda]",
   "language": "R",
   "name": "conda-env-r_venv_conda-r"
  },
  "language_info": {
   "codemirror_mode": "r",
   "file_extension": ".r",
   "mimetype": "text/x-r-source",
   "name": "R",
   "pygments_lexer": "r",
   "version": "4.4.1"
  }
 },
 "nbformat": 4,
 "nbformat_minor": 5
}
