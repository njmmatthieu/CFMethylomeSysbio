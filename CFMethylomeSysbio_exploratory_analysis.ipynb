{
 "cells": [
  {
   "cell_type": "code",
   "execution_count": 1,
   "id": "8ee794a5-42a0-42d0-9359-3f8229dbb784",
   "metadata": {},
   "outputs": [
    {
     "name": "stderr",
     "output_type": "stream",
     "text": [
      "\n",
      "Attaching package: ‘igraph’\n",
      "\n",
      "\n",
      "The following objects are masked from ‘package:stats’:\n",
      "\n",
      "    decompose, spectrum\n",
      "\n",
      "\n",
      "The following object is masked from ‘package:base’:\n",
      "\n",
      "    union\n",
      "\n",
      "\n",
      "\n",
      "Attaching package: ‘dplyr’\n",
      "\n",
      "\n",
      "The following objects are masked from ‘package:igraph’:\n",
      "\n",
      "    as_data_frame, groups, union\n",
      "\n",
      "\n",
      "The following objects are masked from ‘package:stats’:\n",
      "\n",
      "    filter, lag\n",
      "\n",
      "\n",
      "The following objects are masked from ‘package:base’:\n",
      "\n",
      "    intersect, setdiff, setequal, union\n",
      "\n",
      "\n",
      "\n",
      "Attaching package: ‘tibble’\n",
      "\n",
      "\n",
      "The following object is masked from ‘package:igraph’:\n",
      "\n",
      "    as_data_frame\n",
      "\n",
      "\n"
     ]
    }
   ],
   "source": [
    "library(igraph)\n",
    "library(dplyr)\n",
    "library(tibble)"
   ]
  },
  {
   "cell_type": "code",
   "execution_count": 2,
   "id": "368ff547-6bef-4955-abd4-a87af49cff0e",
   "metadata": {},
   "outputs": [
    {
     "data": {
      "text/html": [
       "'/Users/mnajm/miniconda3/envs/r_venv_conda/lib/R/library'"
      ],
      "text/latex": [
       "'/Users/mnajm/miniconda3/envs/r\\_venv\\_conda/lib/R/library'"
      ],
      "text/markdown": [
       "'/Users/mnajm/miniconda3/envs/r_venv_conda/lib/R/library'"
      ],
      "text/plain": [
       "[1] \"/Users/mnajm/miniconda3/envs/r_venv_conda/lib/R/library\""
      ]
     },
     "metadata": {},
     "output_type": "display_data"
    }
   ],
   "source": [
    ".libPaths()"
   ]
  },
  {
   "cell_type": "markdown",
   "id": "079b21fb-fbca-4a23-be8c-a9be02585cb1",
   "metadata": {},
   "source": [
    "# 1. CF network\n",
    "\n",
    "## 1.1 Loading the CF network"
   ]
  },
  {
   "cell_type": "code",
   "execution_count": 3,
   "id": "4e0ed849-2b14-4877-9e3f-4fb6586af6b9",
   "metadata": {},
   "outputs": [],
   "source": [
    "CF_PPI_network.pruned.interactions <- \n",
    "  read.table(file = \"../CFnetwork/data/kegg_diff_pathways_network/diff_kegg_pathways_with_CFTR_interactors_PPI_direct_pruned_interactions_df.txt\",\n",
    "             sep = \"\\t\",\n",
    "             header = T,\n",
    "             check.names = F)\n",
    "\n",
    "CF_PPI_network.pruned.nodes <- \n",
    "  read.table(file = \"../CFnetwork/data/kegg_diff_pathways_network/diff_kegg_pathways_with_CFTR_interactors_PPI_direct_pruned_nodes_df.txt\",\n",
    "             sep = \"\\t\",\n",
    "             header = T,\n",
    "             check.names = F)"
   ]
  },
  {
   "cell_type": "markdown",
   "id": "b00d6f9f-3277-4a52-93db-297d294a0c67",
   "metadata": {},
   "source": [
    "## 1.2 As an igraph object"
   ]
  },
  {
   "cell_type": "code",
   "execution_count": 4,
   "id": "48939928-7681-4b4e-a74f-468a51d59217",
   "metadata": {},
   "outputs": [],
   "source": [
    "source(\"../CFnetwork/scripts/pathways_to_network/network_utils.R\")"
   ]
  },
  {
   "cell_type": "code",
   "execution_count": 5,
   "id": "557bc92f-cad9-4f02-8fd1-2c3bc3b026aa",
   "metadata": {},
   "outputs": [],
   "source": [
    "CF_PPI_network.pruned <- new(\"PPI_network\",\n",
    "                             interactions=CF_PPI_network.pruned.interactions,\n",
    "                             nodes=CF_PPI_network.pruned.nodes)\n",
    "CF_PPI_network.pruned.with_CFTR <- CF_PPI_network.pruned"
   ]
  },
  {
   "cell_type": "code",
   "execution_count": 6,
   "id": "8ddc31aa-a5ab-4140-a257-5d4390d60ddb",
   "metadata": {},
   "outputs": [
    {
     "data": {
      "text/html": [
       "<style>\n",
       ".list-inline {list-style: none; margin:0; padding: 0}\n",
       ".list-inline>li {display: inline-block}\n",
       ".list-inline>li:not(:last-child)::after {content: \"\\00b7\"; padding: 0 .5ex}\n",
       "</style>\n",
       "<ol class=list-inline><li>555</li><li>28</li></ol>\n"
      ],
      "text/latex": [
       "\\begin{enumerate*}\n",
       "\\item 555\n",
       "\\item 28\n",
       "\\end{enumerate*}\n"
      ],
      "text/markdown": [
       "1. 555\n",
       "2. 28\n",
       "\n",
       "\n"
      ],
      "text/plain": [
       "[1] 555  28"
      ]
     },
     "metadata": {},
     "output_type": "display_data"
    }
   ],
   "source": [
    "dim(CF_PPI_network.pruned.with_CFTR@interactions)"
   ]
  },
  {
   "cell_type": "code",
   "execution_count": 7,
   "id": "a6a0b665-2f1b-4b57-b852-5f1678455017",
   "metadata": {},
   "outputs": [
    {
     "data": {
      "text/html": [
       "<style>\n",
       ".list-inline {list-style: none; margin:0; padding: 0}\n",
       ".list-inline>li {display: inline-block}\n",
       ".list-inline>li:not(:last-child)::after {content: \"\\00b7\"; padding: 0 .5ex}\n",
       "</style>\n",
       "<ol class=list-inline><li>339</li><li>22</li></ol>\n"
      ],
      "text/latex": [
       "\\begin{enumerate*}\n",
       "\\item 339\n",
       "\\item 22\n",
       "\\end{enumerate*}\n"
      ],
      "text/markdown": [
       "1. 339\n",
       "2. 22\n",
       "\n",
       "\n"
      ],
      "text/plain": [
       "[1] 339  22"
      ]
     },
     "metadata": {},
     "output_type": "display_data"
    }
   ],
   "source": [
    "dim(CF_PPI_network.pruned@nodes)"
   ]
  },
  {
   "cell_type": "markdown",
   "id": "be5ec02c-a35f-4fb0-b8bf-90d640ac04f0",
   "metadata": {},
   "source": [
    "## 1.3 Remove CFTR from the network and its indirect interactors"
   ]
  },
  {
   "cell_type": "code",
   "execution_count": 8,
   "id": "2cd59910-267c-4616-9429-c667ea513c60",
   "metadata": {},
   "outputs": [],
   "source": [
    "# CFTR_indirect_interactors <- CF_PPI_network.pruned.nodes[which(is.na(CF_PPI_network.pruned.nodes$sum)),\n",
    "#                                                          \"Symbol\"]\n",
    "\n",
    "# CF_PPI_network.pruned@nodes <- CF_PPI_network.pruned@nodes[which(!CF_PPI_network.pruned@nodes$Symbol %in% c(\"CFTR\", CFTR_indirect_interactors)),]\n",
    "# CF_PPI_network.pruned@interactions <- CF_PPI_network.pruned@interactions[which(!CF_PPI_network.pruned@interactions$genesymbol_source %in% c(\"CFTR\", CFTR_indirect_interactors) &\n",
    "#                                                                                  !CF_PPI_network.pruned@interactions$genesymbol_target %in% c(\"CFTR\", CFTR_indirect_interactors)),]"
   ]
  },
  {
   "cell_type": "code",
   "execution_count": 9,
   "id": "442dbc26-104f-46bb-8005-07b869361a11",
   "metadata": {},
   "outputs": [],
   "source": [
    "CF_PPI_network.pruned@nodes <- CF_PPI_network.pruned@nodes[which(CF_PPI_network.pruned@nodes$Symbol!=\"CFTR\"),]\n",
    "CF_PPI_network.pruned@interactions <- CF_PPI_network.pruned@interactions[which(CF_PPI_network.pruned@interactions$genesymbol_source!=\"CFTR\" &\n",
    "                                                                                 CF_PPI_network.pruned@interactions$genesymbol_target!=\"CFTR\"),]"
   ]
  },
  {
   "cell_type": "code",
   "execution_count": 10,
   "id": "1864ce5a-1e37-4163-8e6e-06378bb57c30",
   "metadata": {},
   "outputs": [
    {
     "data": {
      "text/html": [
       "<style>\n",
       ".list-inline {list-style: none; margin:0; padding: 0}\n",
       ".list-inline>li {display: inline-block}\n",
       ".list-inline>li:not(:last-child)::after {content: \"\\00b7\"; padding: 0 .5ex}\n",
       "</style>\n",
       "<ol class=list-inline><li>338</li><li>22</li></ol>\n"
      ],
      "text/latex": [
       "\\begin{enumerate*}\n",
       "\\item 338\n",
       "\\item 22\n",
       "\\end{enumerate*}\n"
      ],
      "text/markdown": [
       "1. 338\n",
       "2. 22\n",
       "\n",
       "\n"
      ],
      "text/plain": [
       "[1] 338  22"
      ]
     },
     "metadata": {},
     "output_type": "display_data"
    }
   ],
   "source": [
    "dim(CF_PPI_network.pruned@nodes)"
   ]
  },
  {
   "cell_type": "code",
   "execution_count": 11,
   "id": "17786d39-4168-4c58-b8bf-428ebeab163b",
   "metadata": {},
   "outputs": [
    {
     "data": {
      "text/html": [
       "<style>\n",
       ".list-inline {list-style: none; margin:0; padding: 0}\n",
       ".list-inline>li {display: inline-block}\n",
       ".list-inline>li:not(:last-child)::after {content: \"\\00b7\"; padding: 0 .5ex}\n",
       "</style>\n",
       "<ol class=list-inline><li>543</li><li>28</li></ol>\n"
      ],
      "text/latex": [
       "\\begin{enumerate*}\n",
       "\\item 543\n",
       "\\item 28\n",
       "\\end{enumerate*}\n"
      ],
      "text/markdown": [
       "1. 543\n",
       "2. 28\n",
       "\n",
       "\n"
      ],
      "text/plain": [
       "[1] 543  28"
      ]
     },
     "metadata": {},
     "output_type": "display_data"
    }
   ],
   "source": [
    "dim(CF_PPI_network.pruned@interactions)"
   ]
  },
  {
   "cell_type": "markdown",
   "id": "b312474a-51de-4749-8480-eb524fa04fc7",
   "metadata": {},
   "source": [
    "## 1.4 Binding interactions into two directed interactions in both directions"
   ]
  },
  {
   "cell_type": "code",
   "execution_count": 12,
   "id": "079d659f-a6a3-497b-924d-22dc8f1c7b30",
   "metadata": {},
   "outputs": [],
   "source": [
    "# Pb of binding interactions\n",
    "## Non binding\n",
    "CF_PPI_network.pruned.interactions.non_binding <- \n",
    "  CF_PPI_network.pruned@interactions[which(!(CF_PPI_network.pruned@interactions$effect %in% c(\"binding/association\"))),]\n",
    "CF_PPI_network.pruned.interactions.non_binding <- \n",
    "  CF_PPI_network.pruned.interactions.non_binding[,c(\"genesymbol_source\",\n",
    "                                                           \"genesymbol_target\")]\n",
    "colnames(CF_PPI_network.pruned.interactions.non_binding) <- c(\"from\", \n",
    "                                                                     \"to\")\n",
    "\n",
    "# ## Dissociation\n",
    "CF_PPI_network.pruned.interactions.binding <- \n",
    "  CF_PPI_network.pruned@interactions[which(CF_PPI_network.pruned@interactions$effect %in% c(\"binding/association\")),]\n",
    "# Both directions for binding interactions\n",
    "## one direction\n",
    "CF_PPI_network.pruned.interactions.binding.one_direction <- \n",
    "  CF_PPI_network.pruned.interactions.binding[,c(\"genesymbol_source\",\n",
    "                                                       \"genesymbol_target\")]\n",
    "colnames(CF_PPI_network.pruned.interactions.binding.one_direction) <- c(\"from\", \n",
    "                                                                               \"to\")\n",
    "## other direction\n",
    "CF_PPI_network.pruned.interactions.binding.other_direction <- \n",
    "  CF_PPI_network.pruned.interactions.binding[,c(\"genesymbol_target\", \n",
    "                                                       \"genesymbol_source\")]\n",
    "colnames(CF_PPI_network.pruned.interactions.binding.other_direction) <- c(\"from\", \n",
    "                                                                                 \"to\")\n",
    "## both directions\n",
    "CF_PPI_network.pruned.interactions.binding.both_directions <- \n",
    "  rbind(CF_PPI_network.pruned.interactions.binding.one_direction,\n",
    "        CF_PPI_network.pruned.interactions.binding.other_direction)\n",
    "CF_PPI_network.pruned.for_igraph <- rbind(CF_PPI_network.pruned.interactions.non_binding,\n",
    "                                       CF_PPI_network.pruned.interactions.binding.both_directions)"
   ]
  },
  {
   "cell_type": "code",
   "execution_count": 13,
   "id": "afdd03ea-5660-4ca4-8c03-e9dc95771079",
   "metadata": {},
   "outputs": [],
   "source": [
    "CF_PPI_network.pruned.igraph <- graph_from_data_frame(CF_PPI_network.pruned.for_igraph, \n",
    "                                                   directed=TRUE)"
   ]
  },
  {
   "cell_type": "markdown",
   "id": "6d2d8210-a245-4679-bc1d-be8c697782c0",
   "metadata": {},
   "source": [
    "## 1.5 Interesting nodes"
   ]
  },
  {
   "cell_type": "markdown",
   "id": "aac034ac-ad13-4d64-b326-4f2f28cfaf10",
   "metadata": {},
   "source": [
    "### 1.5.1 Sink nodes"
   ]
  },
  {
   "cell_type": "code",
   "execution_count": 14,
   "id": "eaf27a02-549d-461a-a62a-191ad619982e",
   "metadata": {},
   "outputs": [],
   "source": [
    "sink_nodes.final.pathways.df <- read.table(file = \"../CFnetwork/data/sink_nodes/CFnetwork_sink_nodes_to_pathways.txt\",\n",
    "                                          sep = \"\\t\",\n",
    "                                          header = T,\n",
    "                                          na.strings = \"\",\n",
    "                                          check.names = FALSE)\n",
    "sink_nodes.final.pathways.df <- sink_nodes.final.pathways.df[order(sink_nodes.final.pathways.df$Endpoint_cat),]\n",
    "sink_nodes.final.pathways.df$Symbol <- as.character(sink_nodes.final.pathways.df$Symbol)\n",
    "sink_nodes <- as.character(sink_nodes.final.pathways.df$Symbol)"
   ]
  },
  {
   "cell_type": "markdown",
   "id": "a40e338c-5466-4efc-ba1c-adaf32aeb010",
   "metadata": {},
   "source": [
    "### 1.5.2 Source nodes"
   ]
  },
  {
   "cell_type": "code",
   "execution_count": 15,
   "id": "858dbf1b-48df-406f-997c-fec4ee447600",
   "metadata": {},
   "outputs": [],
   "source": [
    "source_nodes <- c(\"TRADD\",\n",
    "                  \"PRKACA\",\n",
    "                  \"SYK\",\n",
    "                  \"CSNK2A1\",\n",
    "                  \"SRC\",\n",
    "                  \"PLCB1\",\n",
    "                  \"PLCB3\",\n",
    "                  \"EZR\")"
   ]
  },
  {
   "cell_type": "markdown",
   "id": "620ce1e1-568a-4c46-a579-300d976f5a24",
   "metadata": {},
   "source": [
    "### 1.5.3 CFTR interactors"
   ]
  },
  {
   "cell_type": "code",
   "execution_count": 16,
   "id": "d64b2bc6-e2d0-4f02-bba6-83ad09012b2b",
   "metadata": {},
   "outputs": [],
   "source": [
    "CFTR_interactors = CF_PPI_network.pruned.nodes[which(CF_PPI_network.pruned.nodes$CFTR_interactor),\"Symbol\"]"
   ]
  },
  {
   "cell_type": "code",
   "execution_count": 17,
   "id": "39974e27-a7aa-4a9e-9971-81e3e9fec5bc",
   "metadata": {},
   "outputs": [
    {
     "data": {
      "text/html": [
       "<style>\n",
       ".list-inline {list-style: none; margin:0; padding: 0}\n",
       ".list-inline>li {display: inline-block}\n",
       ".list-inline>li:not(:last-child)::after {content: \"\\00b7\"; padding: 0 .5ex}\n",
       "</style>\n",
       "<ol class=list-inline><li>TRUE</li><li>TRUE</li><li>TRUE</li><li>TRUE</li><li>TRUE</li><li>TRUE</li><li>TRUE</li><li>TRUE</li><li>TRUE</li><li>TRUE</li><li>TRUE</li><li>TRUE</li></ol>\n"
      ],
      "text/latex": [
       "\\begin{enumerate*}\n",
       "\\item TRUE\n",
       "\\item TRUE\n",
       "\\item TRUE\n",
       "\\item TRUE\n",
       "\\item TRUE\n",
       "\\item TRUE\n",
       "\\item TRUE\n",
       "\\item TRUE\n",
       "\\item TRUE\n",
       "\\item TRUE\n",
       "\\item TRUE\n",
       "\\item TRUE\n",
       "\\end{enumerate*}\n"
      ],
      "text/markdown": [
       "1. TRUE\n",
       "2. TRUE\n",
       "3. TRUE\n",
       "4. TRUE\n",
       "5. TRUE\n",
       "6. TRUE\n",
       "7. TRUE\n",
       "8. TRUE\n",
       "9. TRUE\n",
       "10. TRUE\n",
       "11. TRUE\n",
       "12. TRUE\n",
       "\n",
       "\n"
      ],
      "text/plain": [
       " [1] TRUE TRUE TRUE TRUE TRUE TRUE TRUE TRUE TRUE TRUE TRUE TRUE"
      ]
     },
     "metadata": {},
     "output_type": "display_data"
    }
   ],
   "source": [
    "CFTR_interactors %in% CF_PPI_network.pruned@nodes$Symbol"
   ]
  },
  {
   "cell_type": "markdown",
   "id": "dd26186f-c26a-426e-849f-802ca105324e",
   "metadata": {},
   "source": [
    "# 2. Differentially methylated CpG sites between CF and NCF dataframe"
   ]
  },
  {
   "cell_type": "code",
   "execution_count": 18,
   "id": "fa076d4e-f6d5-4e77-a1ee-9c3638800c9c",
   "metadata": {},
   "outputs": [
    {
     "name": "stderr",
     "output_type": "stream",
     "text": [
      "── \u001b[1mAttaching core tidyverse packages\u001b[22m ──────────────────────── tidyverse 2.0.0 ──\n",
      "\u001b[32m✔\u001b[39m \u001b[34mforcats  \u001b[39m 1.0.0     \u001b[32m✔\u001b[39m \u001b[34mreadr    \u001b[39m 2.1.5\n",
      "\u001b[32m✔\u001b[39m \u001b[34mggplot2  \u001b[39m 3.5.1     \u001b[32m✔\u001b[39m \u001b[34mstringr  \u001b[39m 1.5.1\n",
      "\u001b[32m✔\u001b[39m \u001b[34mlubridate\u001b[39m 1.9.3     \u001b[32m✔\u001b[39m \u001b[34mtidyr    \u001b[39m 1.3.1\n",
      "\u001b[32m✔\u001b[39m \u001b[34mpurrr    \u001b[39m 1.0.2     \n",
      "── \u001b[1mConflicts\u001b[22m ────────────────────────────────────────── tidyverse_conflicts() ──\n",
      "\u001b[31m✖\u001b[39m \u001b[34mlubridate\u001b[39m::\u001b[32m%--%()\u001b[39m       masks \u001b[34migraph\u001b[39m::%--%()\n",
      "\u001b[31m✖\u001b[39m \u001b[34mtibble\u001b[39m::\u001b[32mas_data_frame()\u001b[39m masks \u001b[34mdplyr\u001b[39m::as_data_frame(), \u001b[34migraph\u001b[39m::as_data_frame()\n",
      "\u001b[31m✖\u001b[39m \u001b[34mpurrr\u001b[39m::\u001b[32mcompose()\u001b[39m        masks \u001b[34migraph\u001b[39m::compose()\n",
      "\u001b[31m✖\u001b[39m \u001b[34mtidyr\u001b[39m::\u001b[32mcrossing()\u001b[39m       masks \u001b[34migraph\u001b[39m::crossing()\n",
      "\u001b[31m✖\u001b[39m \u001b[34mdplyr\u001b[39m::\u001b[32mfilter()\u001b[39m         masks \u001b[34mstats\u001b[39m::filter()\n",
      "\u001b[31m✖\u001b[39m \u001b[34mdplyr\u001b[39m::\u001b[32mlag()\u001b[39m            masks \u001b[34mstats\u001b[39m::lag()\n",
      "\u001b[31m✖\u001b[39m \u001b[34mpurrr\u001b[39m::\u001b[32msimplify()\u001b[39m       masks \u001b[34migraph\u001b[39m::simplify()\n",
      "\u001b[36mℹ\u001b[39m Use the conflicted package (\u001b[3m\u001b[34m<http://conflicted.r-lib.org/>\u001b[39m\u001b[23m) to force all conflicts to become errors\n"
     ]
    }
   ],
   "source": [
    "library(tidyverse)"
   ]
  },
  {
   "cell_type": "code",
   "execution_count": 19,
   "id": "0eacaed1-2fde-4fc5-9daf-e340d51beb19",
   "metadata": {},
   "outputs": [],
   "source": [
    "dm_CF_NCF_sup_table3_1267CpG <- \n",
    "  read.table(file = \"../CFMethylomeSysbio/dm_CpG_CF_NCF_Magalhaes_2018_sup_table_3.tsv\",\n",
    "             skip = 1,\n",
    "             quote = \"\\\"\",\n",
    "             sep = \"\\t\",\n",
    "             header = T,\n",
    "             check.names = F,\n",
    "            nrows = 1267,\n",
    "            na.strings = \"-\")\n",
    "\n",
    "dm_CF_NCF_sup_table3_1267CpG <- \n",
    "  dm_CF_NCF_sup_table3_1267CpG[order(dm_CF_NCF_sup_table3_1267CpG$`p-value`),]\n",
    "dm_CF_NCF_sup_table3_1267CpG$CpG_pvalue_rank_ <- 1:dim(dm_CF_NCF_sup_table3_1267CpG)[1]"
   ]
  },
  {
   "cell_type": "code",
   "execution_count": 20,
   "id": "307d485c-acdc-456f-861a-5775186caf21",
   "metadata": {},
   "outputs": [],
   "source": [
    "colnames(dm_CF_NCF_sup_table3_1267CpG)[4:5] <- c(\"Median_CF_patients\",\"Median_Controls\")"
   ]
  },
  {
   "cell_type": "code",
   "execution_count": 21,
   "id": "656ca7eb-e68f-46b9-aa07-a586ba368f9f",
   "metadata": {},
   "outputs": [],
   "source": [
    "dm_CF_NCF_sup_table3_1267CpG <- dm_CF_NCF_sup_table3_1267CpG %>%\n",
    "    mutate(Median_CF_patients = as.numeric(gsub(pattern = \",\", \".\", Median_CF_patients, fixed = TRUE))) %>%\n",
    "    mutate(Median_Controls = as.numeric(gsub(pattern = \",\", \".\", Median_Controls, fixed = TRUE)))"
   ]
  },
  {
   "cell_type": "code",
   "execution_count": 22,
   "id": "3c7e9fb7-95fa-431e-adff-2bf3dd05a7fe",
   "metadata": {},
   "outputs": [
    {
     "data": {
      "text/html": [
       "<style>\n",
       ".dl-inline {width: auto; margin:0; padding: 0}\n",
       ".dl-inline>dt, .dl-inline>dd {float: none; width: auto; display: inline-block}\n",
       ".dl-inline>dt::after {content: \":\\0020\"; padding-right: .5ex}\n",
       ".dl-inline>dt:not(:first-of-type) {padding-left: .5ex}\n",
       "</style><dl class=dl-inline><dt>Probe ID</dt><dd>'character'</dd><dt>Gene</dt><dd>'character'</dd><dt>p-value</dt><dd>'numeric'</dd><dt>Median_CF_patients</dt><dd>'numeric'</dd><dt>Median_Controls</dt><dd>'numeric'</dd><dt>Genomic location</dt><dd>'character'</dd><dt>Island status</dt><dd>'character'</dd><dt>*Enhancer</dt><dd>'logical'</dd><dt>CpG_pvalue_rank_</dt><dd>'integer'</dd></dl>\n"
      ],
      "text/latex": [
       "\\begin{description*}\n",
       "\\item[Probe ID] 'character'\n",
       "\\item[Gene] 'character'\n",
       "\\item[p-value] 'numeric'\n",
       "\\item[Median\\textbackslash{}\\_CF\\textbackslash{}\\_patients] 'numeric'\n",
       "\\item[Median\\textbackslash{}\\_Controls] 'numeric'\n",
       "\\item[Genomic location] 'character'\n",
       "\\item[Island status] 'character'\n",
       "\\item[*Enhancer] 'logical'\n",
       "\\item[CpG\\textbackslash{}\\_pvalue\\textbackslash{}\\_rank\\textbackslash{}\\_] 'integer'\n",
       "\\end{description*}\n"
      ],
      "text/markdown": [
       "Probe ID\n",
       ":   'character'Gene\n",
       ":   'character'p-value\n",
       ":   'numeric'Median_CF_patients\n",
       ":   'numeric'Median_Controls\n",
       ":   'numeric'Genomic location\n",
       ":   'character'Island status\n",
       ":   'character'*Enhancer\n",
       ":   'logical'CpG_pvalue_rank_\n",
       ":   'integer'\n",
       "\n"
      ],
      "text/plain": [
       "          Probe ID               Gene            p-value Median_CF_patients \n",
       "       \"character\"        \"character\"          \"numeric\"          \"numeric\" \n",
       "   Median_Controls   Genomic location      Island status          *Enhancer \n",
       "         \"numeric\"        \"character\"        \"character\"          \"logical\" \n",
       "  CpG_pvalue_rank_ \n",
       "         \"integer\" "
      ]
     },
     "metadata": {},
     "output_type": "display_data"
    }
   ],
   "source": [
    "sapply(dm_CF_NCF_sup_table3_1267CpG, class)"
   ]
  },
  {
   "cell_type": "code",
   "execution_count": 23,
   "id": "94ed7ebe-c36d-44ad-8ab1-73427950e4e5",
   "metadata": {},
   "outputs": [],
   "source": [
    "dm_CF_NCF_sup_table3_1267CpG$abs_change <- abs(dm_CF_NCF_sup_table3_1267CpG$Median_CF_patients - dm_CF_NCF_sup_table3_1267CpG$Median_Controls)"
   ]
  },
  {
   "cell_type": "code",
   "execution_count": 61,
   "id": "8204c11e-a74a-4c1d-a532-b7a10e0b9e21",
   "metadata": {},
   "outputs": [
    {
     "data": {
      "text/html": [
       "0.139116022099448"
      ],
      "text/latex": [
       "0.139116022099448"
      ],
      "text/markdown": [
       "0.139116022099448"
      ],
      "text/plain": [
       "[1] 0.139116"
      ]
     },
     "metadata": {},
     "output_type": "display_data"
    }
   ],
   "source": [
    "mean(dm_CF_NCF_sup_table3_1267CpG$abs_change)"
   ]
  },
  {
   "cell_type": "code",
   "execution_count": 24,
   "id": "86b8a9fe-1a5f-4f10-8a85-0aeac10b32c4",
   "metadata": {},
   "outputs": [],
   "source": [
    "dm_CF_NCF_sup_table3_1267CpG <- \n",
    "  dm_CF_NCF_sup_table3_1267CpG[order(dm_CF_NCF_sup_table3_1267CpG$abs_change, decreasing = T),]\n",
    "dm_CF_NCF_sup_table3_1267CpG$CpG_beta_value_rank_ <- 1:dim(dm_CF_NCF_sup_table3_1267CpG)[1]"
   ]
  },
  {
   "cell_type": "code",
   "execution_count": 25,
   "id": "a8ded23d-e576-429c-bdcc-57cb4ed0343e",
   "metadata": {},
   "outputs": [],
   "source": [
    "dm_CF_NCF_sup_table3_1267CpG <- \n",
    "  dm_CF_NCF_sup_table3_1267CpG[order(dm_CF_NCF_sup_table3_1267CpG$`p-value`),]"
   ]
  },
  {
   "cell_type": "markdown",
   "id": "417df4e7-482a-4498-a3ba-b8adc66f5ee1",
   "metadata": {},
   "source": [
    "## 2.1 Keeping only CpG sites in the body of the genes"
   ]
  },
  {
   "cell_type": "code",
   "execution_count": 26,
   "id": "deef5ee5-5a5c-4e3f-bfe8-5492f8fb01c6",
   "metadata": {},
   "outputs": [],
   "source": [
    "dm_CF_NCF_sup_table3_1267CpG_onlyGenes <- \n",
    "  dm_CF_NCF_sup_table3_1267CpG[which(dm_CF_NCF_sup_table3_1267CpG$`Genomic location`==\"Body\"),]\n",
    "\n",
    "dm_CF_NCF_sup_table3_1267CpG_onlyGenes$Gene_rank <- 1:dim(dm_CF_NCF_sup_table3_1267CpG_onlyGenes)[1]"
   ]
  },
  {
   "cell_type": "markdown",
   "id": "f27826c1-6826-4415-92d6-5f8c52941062",
   "metadata": {},
   "source": [
    "## 2.2 Searching for dm genes in the CF network"
   ]
  },
  {
   "cell_type": "code",
   "execution_count": 27,
   "id": "b1d358c5-7127-4737-9849-472597d9f532",
   "metadata": {},
   "outputs": [],
   "source": [
    "dm_CF_NCF_sup_table3_1267CpG_Genes.list <- unique(dm_CF_NCF_sup_table3_1267CpG_onlyGenes$Gene)\n",
    "\n",
    "dm_CF_NCF_Genes_in_CF_network.list <- \n",
    "  dm_CF_NCF_sup_table3_1267CpG_Genes.list[which(dm_CF_NCF_sup_table3_1267CpG_Genes.list %in% CF_PPI_network.pruned.nodes$Symbol)]\n",
    "\n",
    "dm_CF_NCF_Genes_in_CF_network.dm_CF_NCF_df <-\n",
    "  dm_CF_NCF_sup_table3_1267CpG[which(dm_CF_NCF_sup_table3_1267CpG$Gene %in% dm_CF_NCF_Genes_in_CF_network.list),]"
   ]
  },
  {
   "cell_type": "code",
   "execution_count": 28,
   "id": "7cdb85cc-dcfe-4bd7-ac21-8dc1e6192c81",
   "metadata": {},
   "outputs": [
    {
     "data": {
      "text/html": [
       "<table class=\"dataframe\">\n",
       "<caption>A data.frame: 11 × 11</caption>\n",
       "<thead>\n",
       "\t<tr><th></th><th scope=col>Probe ID</th><th scope=col>Gene</th><th scope=col>p-value</th><th scope=col>Median_CF_patients</th><th scope=col>Median_Controls</th><th scope=col>Genomic location</th><th scope=col>Island status</th><th scope=col>*Enhancer</th><th scope=col>CpG_pvalue_rank_</th><th scope=col>abs_change</th><th scope=col>CpG_beta_value_rank_</th></tr>\n",
       "\t<tr><th></th><th scope=col>&lt;chr&gt;</th><th scope=col>&lt;chr&gt;</th><th scope=col>&lt;dbl&gt;</th><th scope=col>&lt;dbl&gt;</th><th scope=col>&lt;dbl&gt;</th><th scope=col>&lt;chr&gt;</th><th scope=col>&lt;chr&gt;</th><th scope=col>&lt;lgl&gt;</th><th scope=col>&lt;int&gt;</th><th scope=col>&lt;dbl&gt;</th><th scope=col>&lt;int&gt;</th></tr>\n",
       "</thead>\n",
       "<tbody>\n",
       "\t<tr><th scope=row>647</th><td>cg13433729</td><td>EZR     </td><td>1.2e-06</td><td>0.61</td><td>0.49</td><td>Body</td><td>Open sea</td><td> TRUE</td><td>   2</td><td>0.12</td><td> 702</td></tr>\n",
       "\t<tr><th scope=row>104</th><td>cg01899581</td><td>DIAPH3  </td><td>9.0e-05</td><td>0.64</td><td>0.47</td><td>Body</td><td>N_Shelf </td><td>FALSE</td><td>  53</td><td>0.17</td><td> 184</td></tr>\n",
       "\t<tr><th scope=row>552</th><td>cg11321921</td><td>NFATC1  </td><td>5.5e-04</td><td>0.78</td><td>0.91</td><td>Body</td><td>Island  </td><td>FALSE</td><td> 240</td><td>0.13</td><td> 562</td></tr>\n",
       "\t<tr><th scope=row>306</th><td>cg05687091</td><td>NFATC1  </td><td>6.1e-04</td><td>0.54</td><td>0.64</td><td>Body</td><td>Island  </td><td>FALSE</td><td> 257</td><td>0.10</td><td>1196</td></tr>\n",
       "\t<tr><th scope=row>1086</th><td>cg23752651</td><td>TNFRSF1A</td><td>9.5e-04</td><td>0.58</td><td>0.70</td><td>Body</td><td>Open sea</td><td>FALSE</td><td> 374</td><td>0.12</td><td> 752</td></tr>\n",
       "\t<tr><th scope=row>1007</th><td>cg22240998</td><td>ITPR1   </td><td>1.1e-03</td><td>0.60</td><td>0.50</td><td>Body</td><td>Open sea</td><td> TRUE</td><td> 420</td><td>0.10</td><td>1205</td></tr>\n",
       "\t<tr><th scope=row>891</th><td>cg18984715</td><td>CBLB    </td><td>1.2e-03</td><td>0.79</td><td>0.67</td><td>Body</td><td>Open sea</td><td> TRUE</td><td> 441</td><td>0.12</td><td> 762</td></tr>\n",
       "\t<tr><th scope=row>234</th><td>cg04221461</td><td>AKT3    </td><td>2.2e-03</td><td>0.46</td><td>0.56</td><td>Body</td><td>Open sea</td><td>FALSE</td><td> 613</td><td>0.10</td><td>1158</td></tr>\n",
       "\t<tr><th scope=row>968</th><td>cg21070009</td><td>MAP2K1  </td><td>4.1e-03</td><td>0.48</td><td>0.35</td><td>Body</td><td>Open sea</td><td> TRUE</td><td> 852</td><td>0.13</td><td> 626</td></tr>\n",
       "\t<tr><th scope=row>400</th><td>cg07671055</td><td>PLCG2   </td><td>5.6e-03</td><td>0.48</td><td>0.59</td><td>Body</td><td>Open sea</td><td>FALSE</td><td> 952</td><td>0.11</td><td>1082</td></tr>\n",
       "\t<tr><th scope=row>116</th><td>cg02026049</td><td>BAIAP2  </td><td>7.9e-03</td><td>0.65</td><td>0.76</td><td>Body</td><td>N_Shelf </td><td>FALSE</td><td>1123</td><td>0.11</td><td>1108</td></tr>\n",
       "</tbody>\n",
       "</table>\n"
      ],
      "text/latex": [
       "A data.frame: 11 × 11\n",
       "\\begin{tabular}{r|lllllllllll}\n",
       "  & Probe ID & Gene & p-value & Median\\_CF\\_patients & Median\\_Controls & Genomic location & Island status & *Enhancer & CpG\\_pvalue\\_rank\\_ & abs\\_change & CpG\\_beta\\_value\\_rank\\_\\\\\n",
       "  & <chr> & <chr> & <dbl> & <dbl> & <dbl> & <chr> & <chr> & <lgl> & <int> & <dbl> & <int>\\\\\n",
       "\\hline\n",
       "\t647 & cg13433729 & EZR      & 1.2e-06 & 0.61 & 0.49 & Body & Open sea &  TRUE &    2 & 0.12 &  702\\\\\n",
       "\t104 & cg01899581 & DIAPH3   & 9.0e-05 & 0.64 & 0.47 & Body & N\\_Shelf  & FALSE &   53 & 0.17 &  184\\\\\n",
       "\t552 & cg11321921 & NFATC1   & 5.5e-04 & 0.78 & 0.91 & Body & Island   & FALSE &  240 & 0.13 &  562\\\\\n",
       "\t306 & cg05687091 & NFATC1   & 6.1e-04 & 0.54 & 0.64 & Body & Island   & FALSE &  257 & 0.10 & 1196\\\\\n",
       "\t1086 & cg23752651 & TNFRSF1A & 9.5e-04 & 0.58 & 0.70 & Body & Open sea & FALSE &  374 & 0.12 &  752\\\\\n",
       "\t1007 & cg22240998 & ITPR1    & 1.1e-03 & 0.60 & 0.50 & Body & Open sea &  TRUE &  420 & 0.10 & 1205\\\\\n",
       "\t891 & cg18984715 & CBLB     & 1.2e-03 & 0.79 & 0.67 & Body & Open sea &  TRUE &  441 & 0.12 &  762\\\\\n",
       "\t234 & cg04221461 & AKT3     & 2.2e-03 & 0.46 & 0.56 & Body & Open sea & FALSE &  613 & 0.10 & 1158\\\\\n",
       "\t968 & cg21070009 & MAP2K1   & 4.1e-03 & 0.48 & 0.35 & Body & Open sea &  TRUE &  852 & 0.13 &  626\\\\\n",
       "\t400 & cg07671055 & PLCG2    & 5.6e-03 & 0.48 & 0.59 & Body & Open sea & FALSE &  952 & 0.11 & 1082\\\\\n",
       "\t116 & cg02026049 & BAIAP2   & 7.9e-03 & 0.65 & 0.76 & Body & N\\_Shelf  & FALSE & 1123 & 0.11 & 1108\\\\\n",
       "\\end{tabular}\n"
      ],
      "text/markdown": [
       "\n",
       "A data.frame: 11 × 11\n",
       "\n",
       "| <!--/--> | Probe ID &lt;chr&gt; | Gene &lt;chr&gt; | p-value &lt;dbl&gt; | Median_CF_patients &lt;dbl&gt; | Median_Controls &lt;dbl&gt; | Genomic location &lt;chr&gt; | Island status &lt;chr&gt; | *Enhancer &lt;lgl&gt; | CpG_pvalue_rank_ &lt;int&gt; | abs_change &lt;dbl&gt; | CpG_beta_value_rank_ &lt;int&gt; |\n",
       "|---|---|---|---|---|---|---|---|---|---|---|---|\n",
       "| 647 | cg13433729 | EZR      | 1.2e-06 | 0.61 | 0.49 | Body | Open sea |  TRUE |    2 | 0.12 |  702 |\n",
       "| 104 | cg01899581 | DIAPH3   | 9.0e-05 | 0.64 | 0.47 | Body | N_Shelf  | FALSE |   53 | 0.17 |  184 |\n",
       "| 552 | cg11321921 | NFATC1   | 5.5e-04 | 0.78 | 0.91 | Body | Island   | FALSE |  240 | 0.13 |  562 |\n",
       "| 306 | cg05687091 | NFATC1   | 6.1e-04 | 0.54 | 0.64 | Body | Island   | FALSE |  257 | 0.10 | 1196 |\n",
       "| 1086 | cg23752651 | TNFRSF1A | 9.5e-04 | 0.58 | 0.70 | Body | Open sea | FALSE |  374 | 0.12 |  752 |\n",
       "| 1007 | cg22240998 | ITPR1    | 1.1e-03 | 0.60 | 0.50 | Body | Open sea |  TRUE |  420 | 0.10 | 1205 |\n",
       "| 891 | cg18984715 | CBLB     | 1.2e-03 | 0.79 | 0.67 | Body | Open sea |  TRUE |  441 | 0.12 |  762 |\n",
       "| 234 | cg04221461 | AKT3     | 2.2e-03 | 0.46 | 0.56 | Body | Open sea | FALSE |  613 | 0.10 | 1158 |\n",
       "| 968 | cg21070009 | MAP2K1   | 4.1e-03 | 0.48 | 0.35 | Body | Open sea |  TRUE |  852 | 0.13 |  626 |\n",
       "| 400 | cg07671055 | PLCG2    | 5.6e-03 | 0.48 | 0.59 | Body | Open sea | FALSE |  952 | 0.11 | 1082 |\n",
       "| 116 | cg02026049 | BAIAP2   | 7.9e-03 | 0.65 | 0.76 | Body | N_Shelf  | FALSE | 1123 | 0.11 | 1108 |\n",
       "\n"
      ],
      "text/plain": [
       "     Probe ID   Gene     p-value Median_CF_patients Median_Controls\n",
       "647  cg13433729 EZR      1.2e-06 0.61               0.49           \n",
       "104  cg01899581 DIAPH3   9.0e-05 0.64               0.47           \n",
       "552  cg11321921 NFATC1   5.5e-04 0.78               0.91           \n",
       "306  cg05687091 NFATC1   6.1e-04 0.54               0.64           \n",
       "1086 cg23752651 TNFRSF1A 9.5e-04 0.58               0.70           \n",
       "1007 cg22240998 ITPR1    1.1e-03 0.60               0.50           \n",
       "891  cg18984715 CBLB     1.2e-03 0.79               0.67           \n",
       "234  cg04221461 AKT3     2.2e-03 0.46               0.56           \n",
       "968  cg21070009 MAP2K1   4.1e-03 0.48               0.35           \n",
       "400  cg07671055 PLCG2    5.6e-03 0.48               0.59           \n",
       "116  cg02026049 BAIAP2   7.9e-03 0.65               0.76           \n",
       "     Genomic location Island status *Enhancer CpG_pvalue_rank_ abs_change\n",
       "647  Body             Open sea       TRUE        2             0.12      \n",
       "104  Body             N_Shelf       FALSE       53             0.17      \n",
       "552  Body             Island        FALSE      240             0.13      \n",
       "306  Body             Island        FALSE      257             0.10      \n",
       "1086 Body             Open sea      FALSE      374             0.12      \n",
       "1007 Body             Open sea       TRUE      420             0.10      \n",
       "891  Body             Open sea       TRUE      441             0.12      \n",
       "234  Body             Open sea      FALSE      613             0.10      \n",
       "968  Body             Open sea       TRUE      852             0.13      \n",
       "400  Body             Open sea      FALSE      952             0.11      \n",
       "116  Body             N_Shelf       FALSE     1123             0.11      \n",
       "     CpG_beta_value_rank_\n",
       "647   702                \n",
       "104   184                \n",
       "552   562                \n",
       "306  1196                \n",
       "1086  752                \n",
       "1007 1205                \n",
       "891   762                \n",
       "234  1158                \n",
       "968   626                \n",
       "400  1082                \n",
       "116  1108                "
      ]
     },
     "metadata": {},
     "output_type": "display_data"
    }
   ],
   "source": [
    "dm_CF_NCF_Genes_in_CF_network.dm_CF_NCF_df"
   ]
  },
  {
   "cell_type": "markdown",
   "id": "1aff9e2a-6efd-47fb-94fe-7b78174f5958",
   "metadata": {},
   "source": [
    "## 2.3 Network analysis"
   ]
  },
  {
   "cell_type": "code",
   "execution_count": 29,
   "id": "5ecd769f-ec47-4ebd-ab3a-37b9f1cf397f",
   "metadata": {},
   "outputs": [],
   "source": [
    "CF_PPI_network.pruned.dists <- distances(CF_PPI_network.pruned.igraph, mode = \"out\")"
   ]
  },
  {
   "cell_type": "markdown",
   "id": "6b6a7b9e-473c-4c54-ac23-e559e17498b9",
   "metadata": {},
   "source": [
    "### 2.3.1 Distance to sink nodes"
   ]
  },
  {
   "cell_type": "code",
   "execution_count": 30,
   "id": "b6f842fc-1b9c-4171-9665-7f98530a5b22",
   "metadata": {},
   "outputs": [],
   "source": [
    "### DM gene to sink nodes\n",
    "CF_PPI_network.pruned.dm_to_sink_nodes <- CF_PPI_network.pruned.dists[dm_CF_NCF_Genes_in_CF_network.list, sink_nodes]\n"
   ]
  },
  {
   "cell_type": "code",
   "execution_count": 31,
   "id": "026cf797-a3c6-403b-93c5-ca5db1706fd8",
   "metadata": {},
   "outputs": [
    {
     "data": {
      "text/html": [
       "<table class=\"dataframe\">\n",
       "<caption>A matrix: 10 × 35 of type dbl</caption>\n",
       "<thead>\n",
       "\t<tr><th></th><th scope=col>CASP1</th><th scope=col>CASP3</th><th scope=col>CASP7</th><th scope=col>CYBA</th><th scope=col>CYBB</th><th scope=col>DNM1L</th><th scope=col>GABARAP</th><th scope=col>ACTN4</th><th scope=col>ARPC5</th><th scope=col>CFL1</th><th scope=col>⋯</th><th scope=col>IRF5</th><th scope=col>IRF7</th><th scope=col>IRF9</th><th scope=col>JUN</th><th scope=col>NFATC1</th><th scope=col>NFKB1</th><th scope=col>NFKB2</th><th scope=col>RELA</th><th scope=col>RELB</th><th scope=col>STAT1</th></tr>\n",
       "</thead>\n",
       "<tbody>\n",
       "\t<tr><th scope=row>EZR</th><td>Inf</td><td>Inf</td><td>Inf</td><td>Inf</td><td>Inf</td><td>Inf</td><td>Inf</td><td>  7</td><td>Inf</td><td>  7</td><td>⋯</td><td>Inf</td><td>Inf</td><td>Inf</td><td>  5</td><td>Inf</td><td>  4</td><td>  5</td><td>  3</td><td>  4</td><td>Inf</td></tr>\n",
       "\t<tr><th scope=row>DIAPH3</th><td>Inf</td><td>Inf</td><td>Inf</td><td>Inf</td><td>Inf</td><td>Inf</td><td>Inf</td><td>Inf</td><td>  3</td><td>Inf</td><td>⋯</td><td>Inf</td><td>Inf</td><td>Inf</td><td>Inf</td><td>Inf</td><td>Inf</td><td>Inf</td><td>Inf</td><td>Inf</td><td>Inf</td></tr>\n",
       "\t<tr><th scope=row>NFATC1</th><td>Inf</td><td>Inf</td><td>Inf</td><td>Inf</td><td>Inf</td><td>Inf</td><td>Inf</td><td>Inf</td><td>Inf</td><td>Inf</td><td>⋯</td><td>Inf</td><td>Inf</td><td>Inf</td><td>Inf</td><td>  0</td><td>Inf</td><td>Inf</td><td>Inf</td><td>Inf</td><td>Inf</td></tr>\n",
       "\t<tr><th scope=row>TNFRSF1A</th><td>  4</td><td>  3</td><td>  4</td><td>  5</td><td>  6</td><td>  4</td><td>  9</td><td>  6</td><td>  7</td><td>  7</td><td>⋯</td><td>  4</td><td>  4</td><td>  5</td><td>  5</td><td>  5</td><td>  4</td><td>  4</td><td>  5</td><td>  5</td><td>  4</td></tr>\n",
       "\t<tr><th scope=row>ITPR1</th><td>  3</td><td>  4</td><td>  4</td><td> 10</td><td> 11</td><td>  7</td><td>  6</td><td> 10</td><td> 12</td><td> 10</td><td>⋯</td><td>  5</td><td>  5</td><td>  8</td><td>  6</td><td>  3</td><td>  4</td><td>  7</td><td>  5</td><td>  6</td><td>  7</td></tr>\n",
       "\t<tr><th scope=row>CBLB</th><td>  6</td><td>  5</td><td>  6</td><td>  5</td><td>  6</td><td>  6</td><td>  9</td><td>  6</td><td>  7</td><td>  6</td><td>⋯</td><td>  5</td><td>  5</td><td>  5</td><td>  3</td><td>  4</td><td>  4</td><td>  5</td><td>  5</td><td>  6</td><td>  4</td></tr>\n",
       "\t<tr><th scope=row>AKT3</th><td>  7</td><td>  7</td><td>  7</td><td>  9</td><td> 10</td><td>  8</td><td>  9</td><td>  6</td><td> 11</td><td>  6</td><td>⋯</td><td>  6</td><td>  2</td><td>  6</td><td>  4</td><td>  2</td><td>  3</td><td>  2</td><td>  4</td><td>  3</td><td>  5</td></tr>\n",
       "\t<tr><th scope=row>MAP2K1</th><td>Inf</td><td>Inf</td><td>Inf</td><td>Inf</td><td>Inf</td><td>Inf</td><td>Inf</td><td>  4</td><td>Inf</td><td>  4</td><td>⋯</td><td>Inf</td><td>Inf</td><td>Inf</td><td>  2</td><td>Inf</td><td>  8</td><td>  9</td><td>  7</td><td>  8</td><td>Inf</td></tr>\n",
       "\t<tr><th scope=row>PLCG2</th><td>  4</td><td>  5</td><td>  5</td><td>  6</td><td>  7</td><td>  6</td><td>  7</td><td>  5</td><td>  8</td><td>  5</td><td>⋯</td><td>  6</td><td>  5</td><td>  6</td><td>  3</td><td>  2</td><td>  4</td><td>  5</td><td>  5</td><td>  6</td><td>  5</td></tr>\n",
       "\t<tr><th scope=row>BAIAP2</th><td>Inf</td><td>Inf</td><td>Inf</td><td>Inf</td><td>Inf</td><td>Inf</td><td>Inf</td><td>Inf</td><td>  2</td><td>Inf</td><td>⋯</td><td>Inf</td><td>Inf</td><td>Inf</td><td>Inf</td><td>Inf</td><td>Inf</td><td>Inf</td><td>Inf</td><td>Inf</td><td>Inf</td></tr>\n",
       "</tbody>\n",
       "</table>\n"
      ],
      "text/latex": [
       "A matrix: 10 × 35 of type dbl\n",
       "\\begin{tabular}{r|lllllllllllllllllllll}\n",
       "  & CASP1 & CASP3 & CASP7 & CYBA & CYBB & DNM1L & GABARAP & ACTN4 & ARPC5 & CFL1 & ⋯ & IRF5 & IRF7 & IRF9 & JUN & NFATC1 & NFKB1 & NFKB2 & RELA & RELB & STAT1\\\\\n",
       "\\hline\n",
       "\tEZR & Inf & Inf & Inf & Inf & Inf & Inf & Inf &   7 & Inf &   7 & ⋯ & Inf & Inf & Inf &   5 & Inf &   4 &   5 &   3 &   4 & Inf\\\\\n",
       "\tDIAPH3 & Inf & Inf & Inf & Inf & Inf & Inf & Inf & Inf &   3 & Inf & ⋯ & Inf & Inf & Inf & Inf & Inf & Inf & Inf & Inf & Inf & Inf\\\\\n",
       "\tNFATC1 & Inf & Inf & Inf & Inf & Inf & Inf & Inf & Inf & Inf & Inf & ⋯ & Inf & Inf & Inf & Inf &   0 & Inf & Inf & Inf & Inf & Inf\\\\\n",
       "\tTNFRSF1A &   4 &   3 &   4 &   5 &   6 &   4 &   9 &   6 &   7 &   7 & ⋯ &   4 &   4 &   5 &   5 &   5 &   4 &   4 &   5 &   5 &   4\\\\\n",
       "\tITPR1 &   3 &   4 &   4 &  10 &  11 &   7 &   6 &  10 &  12 &  10 & ⋯ &   5 &   5 &   8 &   6 &   3 &   4 &   7 &   5 &   6 &   7\\\\\n",
       "\tCBLB &   6 &   5 &   6 &   5 &   6 &   6 &   9 &   6 &   7 &   6 & ⋯ &   5 &   5 &   5 &   3 &   4 &   4 &   5 &   5 &   6 &   4\\\\\n",
       "\tAKT3 &   7 &   7 &   7 &   9 &  10 &   8 &   9 &   6 &  11 &   6 & ⋯ &   6 &   2 &   6 &   4 &   2 &   3 &   2 &   4 &   3 &   5\\\\\n",
       "\tMAP2K1 & Inf & Inf & Inf & Inf & Inf & Inf & Inf &   4 & Inf &   4 & ⋯ & Inf & Inf & Inf &   2 & Inf &   8 &   9 &   7 &   8 & Inf\\\\\n",
       "\tPLCG2 &   4 &   5 &   5 &   6 &   7 &   6 &   7 &   5 &   8 &   5 & ⋯ &   6 &   5 &   6 &   3 &   2 &   4 &   5 &   5 &   6 &   5\\\\\n",
       "\tBAIAP2 & Inf & Inf & Inf & Inf & Inf & Inf & Inf & Inf &   2 & Inf & ⋯ & Inf & Inf & Inf & Inf & Inf & Inf & Inf & Inf & Inf & Inf\\\\\n",
       "\\end{tabular}\n"
      ],
      "text/markdown": [
       "\n",
       "A matrix: 10 × 35 of type dbl\n",
       "\n",
       "| <!--/--> | CASP1 | CASP3 | CASP7 | CYBA | CYBB | DNM1L | GABARAP | ACTN4 | ARPC5 | CFL1 | ⋯ | IRF5 | IRF7 | IRF9 | JUN | NFATC1 | NFKB1 | NFKB2 | RELA | RELB | STAT1 |\n",
       "|---|---|---|---|---|---|---|---|---|---|---|---|---|---|---|---|---|---|---|---|---|---|\n",
       "| EZR | Inf | Inf | Inf | Inf | Inf | Inf | Inf |   7 | Inf |   7 | ⋯ | Inf | Inf | Inf |   5 | Inf |   4 |   5 |   3 |   4 | Inf |\n",
       "| DIAPH3 | Inf | Inf | Inf | Inf | Inf | Inf | Inf | Inf |   3 | Inf | ⋯ | Inf | Inf | Inf | Inf | Inf | Inf | Inf | Inf | Inf | Inf |\n",
       "| NFATC1 | Inf | Inf | Inf | Inf | Inf | Inf | Inf | Inf | Inf | Inf | ⋯ | Inf | Inf | Inf | Inf |   0 | Inf | Inf | Inf | Inf | Inf |\n",
       "| TNFRSF1A |   4 |   3 |   4 |   5 |   6 |   4 |   9 |   6 |   7 |   7 | ⋯ |   4 |   4 |   5 |   5 |   5 |   4 |   4 |   5 |   5 |   4 |\n",
       "| ITPR1 |   3 |   4 |   4 |  10 |  11 |   7 |   6 |  10 |  12 |  10 | ⋯ |   5 |   5 |   8 |   6 |   3 |   4 |   7 |   5 |   6 |   7 |\n",
       "| CBLB |   6 |   5 |   6 |   5 |   6 |   6 |   9 |   6 |   7 |   6 | ⋯ |   5 |   5 |   5 |   3 |   4 |   4 |   5 |   5 |   6 |   4 |\n",
       "| AKT3 |   7 |   7 |   7 |   9 |  10 |   8 |   9 |   6 |  11 |   6 | ⋯ |   6 |   2 |   6 |   4 |   2 |   3 |   2 |   4 |   3 |   5 |\n",
       "| MAP2K1 | Inf | Inf | Inf | Inf | Inf | Inf | Inf |   4 | Inf |   4 | ⋯ | Inf | Inf | Inf |   2 | Inf |   8 |   9 |   7 |   8 | Inf |\n",
       "| PLCG2 |   4 |   5 |   5 |   6 |   7 |   6 |   7 |   5 |   8 |   5 | ⋯ |   6 |   5 |   6 |   3 |   2 |   4 |   5 |   5 |   6 |   5 |\n",
       "| BAIAP2 | Inf | Inf | Inf | Inf | Inf | Inf | Inf | Inf |   2 | Inf | ⋯ | Inf | Inf | Inf | Inf | Inf | Inf | Inf | Inf | Inf | Inf |\n",
       "\n"
      ],
      "text/plain": [
       "         CASP1 CASP3 CASP7 CYBA CYBB DNM1L GABARAP ACTN4 ARPC5 CFL1 ⋯ IRF5 IRF7\n",
       "EZR      Inf   Inf   Inf   Inf  Inf  Inf   Inf       7   Inf     7  ⋯ Inf  Inf \n",
       "DIAPH3   Inf   Inf   Inf   Inf  Inf  Inf   Inf     Inf     3   Inf  ⋯ Inf  Inf \n",
       "NFATC1   Inf   Inf   Inf   Inf  Inf  Inf   Inf     Inf   Inf   Inf  ⋯ Inf  Inf \n",
       "TNFRSF1A   4     3     4     5    6    4     9       6     7     7  ⋯   4    4 \n",
       "ITPR1      3     4     4    10   11    7     6      10    12    10  ⋯   5    5 \n",
       "CBLB       6     5     6     5    6    6     9       6     7     6  ⋯   5    5 \n",
       "AKT3       7     7     7     9   10    8     9       6    11     6  ⋯   6    2 \n",
       "MAP2K1   Inf   Inf   Inf   Inf  Inf  Inf   Inf       4   Inf     4  ⋯ Inf  Inf \n",
       "PLCG2      4     5     5     6    7    6     7       5     8     5  ⋯   6    5 \n",
       "BAIAP2   Inf   Inf   Inf   Inf  Inf  Inf   Inf     Inf     2   Inf  ⋯ Inf  Inf \n",
       "         IRF9 JUN NFATC1 NFKB1 NFKB2 RELA RELB STAT1\n",
       "EZR      Inf    5 Inf      4     5     3    4  Inf  \n",
       "DIAPH3   Inf  Inf Inf    Inf   Inf   Inf  Inf  Inf  \n",
       "NFATC1   Inf  Inf   0    Inf   Inf   Inf  Inf  Inf  \n",
       "TNFRSF1A   5    5   5      4     4     5    5    4  \n",
       "ITPR1      8    6   3      4     7     5    6    7  \n",
       "CBLB       5    3   4      4     5     5    6    4  \n",
       "AKT3       6    4   2      3     2     4    3    5  \n",
       "MAP2K1   Inf    2 Inf      8     9     7    8  Inf  \n",
       "PLCG2      6    3   2      4     5     5    6    5  \n",
       "BAIAP2   Inf  Inf Inf    Inf   Inf   Inf  Inf  Inf  "
      ]
     },
     "metadata": {},
     "output_type": "display_data"
    }
   ],
   "source": [
    "CF_PPI_network.pruned.dm_to_sink_nodes"
   ]
  },
  {
   "cell_type": "code",
   "execution_count": 32,
   "id": "c4db82ee-9a75-498e-8125-5a3aad774ac7",
   "metadata": {},
   "outputs": [],
   "source": [
    "sink_nodes_downstream_to_dm <- data.frame(apply(X = CF_PPI_network.pruned.dm_to_sink_nodes,\n",
    "      MARGIN = 1,\n",
    "      FUN=function(x){\n",
    "        return(sum(!is.infinite(x)))\n",
    "      }))\n",
    "colnames(sink_nodes_downstream_to_dm) <- \"dist_to_CF_network_sink_nodes\"\n",
    "sink_nodes_downstream_to_dm['Gene'] <- rownames(sink_nodes_downstream_to_dm)\n",
    "rownames(sink_nodes_downstream_to_dm) <- NULL"
   ]
  },
  {
   "cell_type": "code",
   "execution_count": 33,
   "id": "6a5eb9e8-f9b5-4986-8dfa-fe2c0724974c",
   "metadata": {},
   "outputs": [],
   "source": [
    "dm_CF_NCF_Genes_in_CF_network.dm_CF_NCF_df <- merge(dm_CF_NCF_Genes_in_CF_network.dm_CF_NCF_df,\n",
    "                                                    sink_nodes_downstream_to_dm,\n",
    "                                                    by = \"Gene\")"
   ]
  },
  {
   "cell_type": "code",
   "execution_count": 34,
   "id": "ccaef720-7921-4a25-9cb8-f197e5b8af09",
   "metadata": {},
   "outputs": [
    {
     "data": {
      "text/html": [
       "<table class=\"dataframe\">\n",
       "<caption>A data.frame: 11 × 12</caption>\n",
       "<thead>\n",
       "\t<tr><th scope=col>Gene</th><th scope=col>Probe ID</th><th scope=col>p-value</th><th scope=col>Median_CF_patients</th><th scope=col>Median_Controls</th><th scope=col>Genomic location</th><th scope=col>Island status</th><th scope=col>*Enhancer</th><th scope=col>CpG_pvalue_rank_</th><th scope=col>abs_change</th><th scope=col>CpG_beta_value_rank_</th><th scope=col>dist_to_CF_network_sink_nodes</th></tr>\n",
       "\t<tr><th scope=col>&lt;chr&gt;</th><th scope=col>&lt;chr&gt;</th><th scope=col>&lt;dbl&gt;</th><th scope=col>&lt;dbl&gt;</th><th scope=col>&lt;dbl&gt;</th><th scope=col>&lt;chr&gt;</th><th scope=col>&lt;chr&gt;</th><th scope=col>&lt;lgl&gt;</th><th scope=col>&lt;int&gt;</th><th scope=col>&lt;dbl&gt;</th><th scope=col>&lt;int&gt;</th><th scope=col>&lt;int&gt;</th></tr>\n",
       "</thead>\n",
       "<tbody>\n",
       "\t<tr><td>AKT3    </td><td>cg04221461</td><td>2.2e-03</td><td>0.46</td><td>0.56</td><td>Body</td><td>Open sea</td><td>FALSE</td><td> 613</td><td>0.10</td><td>1158</td><td>35</td></tr>\n",
       "\t<tr><td>BAIAP2  </td><td>cg02026049</td><td>7.9e-03</td><td>0.65</td><td>0.76</td><td>Body</td><td>N_Shelf </td><td>FALSE</td><td>1123</td><td>0.11</td><td>1108</td><td> 2</td></tr>\n",
       "\t<tr><td>CBLB    </td><td>cg18984715</td><td>1.2e-03</td><td>0.79</td><td>0.67</td><td>Body</td><td>Open sea</td><td> TRUE</td><td> 441</td><td>0.12</td><td> 762</td><td>35</td></tr>\n",
       "\t<tr><td>DIAPH3  </td><td>cg01899581</td><td>9.0e-05</td><td>0.64</td><td>0.47</td><td>Body</td><td>N_Shelf </td><td>FALSE</td><td>  53</td><td>0.17</td><td> 184</td><td> 2</td></tr>\n",
       "\t<tr><td>EZR     </td><td>cg13433729</td><td>1.2e-06</td><td>0.61</td><td>0.49</td><td>Body</td><td>Open sea</td><td> TRUE</td><td>   2</td><td>0.12</td><td> 702</td><td>15</td></tr>\n",
       "\t<tr><td>ITPR1   </td><td>cg22240998</td><td>1.1e-03</td><td>0.60</td><td>0.50</td><td>Body</td><td>Open sea</td><td> TRUE</td><td> 420</td><td>0.10</td><td>1205</td><td>35</td></tr>\n",
       "\t<tr><td>MAP2K1  </td><td>cg21070009</td><td>4.1e-03</td><td>0.48</td><td>0.35</td><td>Body</td><td>Open sea</td><td> TRUE</td><td> 852</td><td>0.13</td><td> 626</td><td>15</td></tr>\n",
       "\t<tr><td>NFATC1  </td><td>cg11321921</td><td>5.5e-04</td><td>0.78</td><td>0.91</td><td>Body</td><td>Island  </td><td>FALSE</td><td> 240</td><td>0.13</td><td> 562</td><td> 1</td></tr>\n",
       "\t<tr><td>NFATC1  </td><td>cg05687091</td><td>6.1e-04</td><td>0.54</td><td>0.64</td><td>Body</td><td>Island  </td><td>FALSE</td><td> 257</td><td>0.10</td><td>1196</td><td> 1</td></tr>\n",
       "\t<tr><td>PLCG2   </td><td>cg07671055</td><td>5.6e-03</td><td>0.48</td><td>0.59</td><td>Body</td><td>Open sea</td><td>FALSE</td><td> 952</td><td>0.11</td><td>1082</td><td>35</td></tr>\n",
       "\t<tr><td>TNFRSF1A</td><td>cg23752651</td><td>9.5e-04</td><td>0.58</td><td>0.70</td><td>Body</td><td>Open sea</td><td>FALSE</td><td> 374</td><td>0.12</td><td> 752</td><td>35</td></tr>\n",
       "</tbody>\n",
       "</table>\n"
      ],
      "text/latex": [
       "A data.frame: 11 × 12\n",
       "\\begin{tabular}{llllllllllll}\n",
       " Gene & Probe ID & p-value & Median\\_CF\\_patients & Median\\_Controls & Genomic location & Island status & *Enhancer & CpG\\_pvalue\\_rank\\_ & abs\\_change & CpG\\_beta\\_value\\_rank\\_ & dist\\_to\\_CF\\_network\\_sink\\_nodes\\\\\n",
       " <chr> & <chr> & <dbl> & <dbl> & <dbl> & <chr> & <chr> & <lgl> & <int> & <dbl> & <int> & <int>\\\\\n",
       "\\hline\n",
       "\t AKT3     & cg04221461 & 2.2e-03 & 0.46 & 0.56 & Body & Open sea & FALSE &  613 & 0.10 & 1158 & 35\\\\\n",
       "\t BAIAP2   & cg02026049 & 7.9e-03 & 0.65 & 0.76 & Body & N\\_Shelf  & FALSE & 1123 & 0.11 & 1108 &  2\\\\\n",
       "\t CBLB     & cg18984715 & 1.2e-03 & 0.79 & 0.67 & Body & Open sea &  TRUE &  441 & 0.12 &  762 & 35\\\\\n",
       "\t DIAPH3   & cg01899581 & 9.0e-05 & 0.64 & 0.47 & Body & N\\_Shelf  & FALSE &   53 & 0.17 &  184 &  2\\\\\n",
       "\t EZR      & cg13433729 & 1.2e-06 & 0.61 & 0.49 & Body & Open sea &  TRUE &    2 & 0.12 &  702 & 15\\\\\n",
       "\t ITPR1    & cg22240998 & 1.1e-03 & 0.60 & 0.50 & Body & Open sea &  TRUE &  420 & 0.10 & 1205 & 35\\\\\n",
       "\t MAP2K1   & cg21070009 & 4.1e-03 & 0.48 & 0.35 & Body & Open sea &  TRUE &  852 & 0.13 &  626 & 15\\\\\n",
       "\t NFATC1   & cg11321921 & 5.5e-04 & 0.78 & 0.91 & Body & Island   & FALSE &  240 & 0.13 &  562 &  1\\\\\n",
       "\t NFATC1   & cg05687091 & 6.1e-04 & 0.54 & 0.64 & Body & Island   & FALSE &  257 & 0.10 & 1196 &  1\\\\\n",
       "\t PLCG2    & cg07671055 & 5.6e-03 & 0.48 & 0.59 & Body & Open sea & FALSE &  952 & 0.11 & 1082 & 35\\\\\n",
       "\t TNFRSF1A & cg23752651 & 9.5e-04 & 0.58 & 0.70 & Body & Open sea & FALSE &  374 & 0.12 &  752 & 35\\\\\n",
       "\\end{tabular}\n"
      ],
      "text/markdown": [
       "\n",
       "A data.frame: 11 × 12\n",
       "\n",
       "| Gene &lt;chr&gt; | Probe ID &lt;chr&gt; | p-value &lt;dbl&gt; | Median_CF_patients &lt;dbl&gt; | Median_Controls &lt;dbl&gt; | Genomic location &lt;chr&gt; | Island status &lt;chr&gt; | *Enhancer &lt;lgl&gt; | CpG_pvalue_rank_ &lt;int&gt; | abs_change &lt;dbl&gt; | CpG_beta_value_rank_ &lt;int&gt; | dist_to_CF_network_sink_nodes &lt;int&gt; |\n",
       "|---|---|---|---|---|---|---|---|---|---|---|---|\n",
       "| AKT3     | cg04221461 | 2.2e-03 | 0.46 | 0.56 | Body | Open sea | FALSE |  613 | 0.10 | 1158 | 35 |\n",
       "| BAIAP2   | cg02026049 | 7.9e-03 | 0.65 | 0.76 | Body | N_Shelf  | FALSE | 1123 | 0.11 | 1108 |  2 |\n",
       "| CBLB     | cg18984715 | 1.2e-03 | 0.79 | 0.67 | Body | Open sea |  TRUE |  441 | 0.12 |  762 | 35 |\n",
       "| DIAPH3   | cg01899581 | 9.0e-05 | 0.64 | 0.47 | Body | N_Shelf  | FALSE |   53 | 0.17 |  184 |  2 |\n",
       "| EZR      | cg13433729 | 1.2e-06 | 0.61 | 0.49 | Body | Open sea |  TRUE |    2 | 0.12 |  702 | 15 |\n",
       "| ITPR1    | cg22240998 | 1.1e-03 | 0.60 | 0.50 | Body | Open sea |  TRUE |  420 | 0.10 | 1205 | 35 |\n",
       "| MAP2K1   | cg21070009 | 4.1e-03 | 0.48 | 0.35 | Body | Open sea |  TRUE |  852 | 0.13 |  626 | 15 |\n",
       "| NFATC1   | cg11321921 | 5.5e-04 | 0.78 | 0.91 | Body | Island   | FALSE |  240 | 0.13 |  562 |  1 |\n",
       "| NFATC1   | cg05687091 | 6.1e-04 | 0.54 | 0.64 | Body | Island   | FALSE |  257 | 0.10 | 1196 |  1 |\n",
       "| PLCG2    | cg07671055 | 5.6e-03 | 0.48 | 0.59 | Body | Open sea | FALSE |  952 | 0.11 | 1082 | 35 |\n",
       "| TNFRSF1A | cg23752651 | 9.5e-04 | 0.58 | 0.70 | Body | Open sea | FALSE |  374 | 0.12 |  752 | 35 |\n",
       "\n"
      ],
      "text/plain": [
       "   Gene     Probe ID   p-value Median_CF_patients Median_Controls\n",
       "1  AKT3     cg04221461 2.2e-03 0.46               0.56           \n",
       "2  BAIAP2   cg02026049 7.9e-03 0.65               0.76           \n",
       "3  CBLB     cg18984715 1.2e-03 0.79               0.67           \n",
       "4  DIAPH3   cg01899581 9.0e-05 0.64               0.47           \n",
       "5  EZR      cg13433729 1.2e-06 0.61               0.49           \n",
       "6  ITPR1    cg22240998 1.1e-03 0.60               0.50           \n",
       "7  MAP2K1   cg21070009 4.1e-03 0.48               0.35           \n",
       "8  NFATC1   cg11321921 5.5e-04 0.78               0.91           \n",
       "9  NFATC1   cg05687091 6.1e-04 0.54               0.64           \n",
       "10 PLCG2    cg07671055 5.6e-03 0.48               0.59           \n",
       "11 TNFRSF1A cg23752651 9.5e-04 0.58               0.70           \n",
       "   Genomic location Island status *Enhancer CpG_pvalue_rank_ abs_change\n",
       "1  Body             Open sea      FALSE      613             0.10      \n",
       "2  Body             N_Shelf       FALSE     1123             0.11      \n",
       "3  Body             Open sea       TRUE      441             0.12      \n",
       "4  Body             N_Shelf       FALSE       53             0.17      \n",
       "5  Body             Open sea       TRUE        2             0.12      \n",
       "6  Body             Open sea       TRUE      420             0.10      \n",
       "7  Body             Open sea       TRUE      852             0.13      \n",
       "8  Body             Island        FALSE      240             0.13      \n",
       "9  Body             Island        FALSE      257             0.10      \n",
       "10 Body             Open sea      FALSE      952             0.11      \n",
       "11 Body             Open sea      FALSE      374             0.12      \n",
       "   CpG_beta_value_rank_ dist_to_CF_network_sink_nodes\n",
       "1  1158                 35                           \n",
       "2  1108                  2                           \n",
       "3   762                 35                           \n",
       "4   184                  2                           \n",
       "5   702                 15                           \n",
       "6  1205                 35                           \n",
       "7   626                 15                           \n",
       "8   562                  1                           \n",
       "9  1196                  1                           \n",
       "10 1082                 35                           \n",
       "11  752                 35                           "
      ]
     },
     "metadata": {},
     "output_type": "display_data"
    }
   ],
   "source": [
    "dm_CF_NCF_Genes_in_CF_network.dm_CF_NCF_df"
   ]
  },
  {
   "cell_type": "markdown",
   "id": "c1c71782-62d5-45fe-8ac7-2498da21ee53",
   "metadata": {},
   "source": [
    "### 2.3.2 Distance to CFTR interactors"
   ]
  },
  {
   "cell_type": "code",
   "execution_count": 35,
   "id": "99a7e12c-0ed5-4cc4-8ece-49237ad3054a",
   "metadata": {},
   "outputs": [],
   "source": [
    "### CFTR interactors to diff methylated\n",
    "CF_PPI_network.pruned.dm_from_CFTR_interactors <- data.frame(t(CF_PPI_network.pruned.dists[CFTR_interactors, dm_CF_NCF_Genes_in_CF_network.list]))\n",
    "colnames(CF_PPI_network.pruned.dm_from_CFTR_interactors) <- paste(\"from_\",\n",
    "                                                              colnames(CF_PPI_network.pruned.dm_from_CFTR_interactors),\n",
    "                                                              sep = \"\")"
   ]
  },
  {
   "cell_type": "code",
   "execution_count": 36,
   "id": "ded2be81-6b39-4e65-bf00-4ed2aba8a04b",
   "metadata": {},
   "outputs": [
    {
     "data": {
      "text/html": [
       "<table class=\"dataframe\">\n",
       "<caption>A data.frame: 10 × 12</caption>\n",
       "<thead>\n",
       "\t<tr><th></th><th scope=col>from_ADORA2B</th><th scope=col>from_CAPN1</th><th scope=col>from_CAPNS1</th><th scope=col>from_CAV1</th><th scope=col>from_CAV2</th><th scope=col>from_CSNK2A1</th><th scope=col>from_PRKACA</th><th scope=col>from_PRKCE</th><th scope=col>from_SLC9A3R1</th><th scope=col>from_SLC9A3R2</th><th scope=col>from_SYK</th><th scope=col>from_TRADD</th></tr>\n",
       "\t<tr><th></th><th scope=col>&lt;dbl&gt;</th><th scope=col>&lt;dbl&gt;</th><th scope=col>&lt;dbl&gt;</th><th scope=col>&lt;dbl&gt;</th><th scope=col>&lt;dbl&gt;</th><th scope=col>&lt;dbl&gt;</th><th scope=col>&lt;dbl&gt;</th><th scope=col>&lt;dbl&gt;</th><th scope=col>&lt;dbl&gt;</th><th scope=col>&lt;dbl&gt;</th><th scope=col>&lt;dbl&gt;</th><th scope=col>&lt;dbl&gt;</th></tr>\n",
       "</thead>\n",
       "<tbody>\n",
       "\t<tr><th scope=row>EZR</th><td>  1</td><td>  1</td><td>  1</td><td>Inf</td><td>Inf</td><td>Inf</td><td>  6</td><td>  1</td><td>Inf</td><td>Inf</td><td>  6</td><td>  7</td></tr>\n",
       "\t<tr><th scope=row>DIAPH3</th><td>Inf</td><td>Inf</td><td>Inf</td><td>Inf</td><td>Inf</td><td>Inf</td><td>Inf</td><td>Inf</td><td>Inf</td><td>Inf</td><td>  9</td><td>  8</td></tr>\n",
       "\t<tr><th scope=row>NFATC1</th><td>Inf</td><td>Inf</td><td>Inf</td><td>Inf</td><td>Inf</td><td>Inf</td><td>Inf</td><td>Inf</td><td>Inf</td><td>Inf</td><td>  3</td><td>  5</td></tr>\n",
       "\t<tr><th scope=row>TNFRSF1A</th><td>Inf</td><td>Inf</td><td>Inf</td><td>Inf</td><td>Inf</td><td>Inf</td><td>Inf</td><td>Inf</td><td>Inf</td><td>Inf</td><td>Inf</td><td>Inf</td></tr>\n",
       "\t<tr><th scope=row>ITPR1</th><td>Inf</td><td>Inf</td><td>Inf</td><td>Inf</td><td>Inf</td><td>Inf</td><td>Inf</td><td>Inf</td><td>Inf</td><td>Inf</td><td>  2</td><td>  4</td></tr>\n",
       "\t<tr><th scope=row>CBLB</th><td>Inf</td><td>Inf</td><td>Inf</td><td>Inf</td><td>Inf</td><td>Inf</td><td>Inf</td><td>Inf</td><td>Inf</td><td>Inf</td><td>Inf</td><td>Inf</td></tr>\n",
       "\t<tr><th scope=row>AKT3</th><td>Inf</td><td>Inf</td><td>Inf</td><td>Inf</td><td>Inf</td><td>Inf</td><td>Inf</td><td>Inf</td><td>Inf</td><td>Inf</td><td>  5</td><td>  3</td></tr>\n",
       "\t<tr><th scope=row>MAP2K1</th><td>  4</td><td>  4</td><td>  4</td><td>Inf</td><td>Inf</td><td>Inf</td><td>  2</td><td>  4</td><td>Inf</td><td>Inf</td><td>  4</td><td>  3</td></tr>\n",
       "\t<tr><th scope=row>PLCG2</th><td>Inf</td><td>Inf</td><td>Inf</td><td>Inf</td><td>Inf</td><td>Inf</td><td>Inf</td><td>Inf</td><td>Inf</td><td>Inf</td><td>  1</td><td>  3</td></tr>\n",
       "\t<tr><th scope=row>BAIAP2</th><td>Inf</td><td>Inf</td><td>Inf</td><td>Inf</td><td>Inf</td><td>Inf</td><td>Inf</td><td>Inf</td><td>Inf</td><td>Inf</td><td>  6</td><td>  5</td></tr>\n",
       "</tbody>\n",
       "</table>\n"
      ],
      "text/latex": [
       "A data.frame: 10 × 12\n",
       "\\begin{tabular}{r|llllllllllll}\n",
       "  & from\\_ADORA2B & from\\_CAPN1 & from\\_CAPNS1 & from\\_CAV1 & from\\_CAV2 & from\\_CSNK2A1 & from\\_PRKACA & from\\_PRKCE & from\\_SLC9A3R1 & from\\_SLC9A3R2 & from\\_SYK & from\\_TRADD\\\\\n",
       "  & <dbl> & <dbl> & <dbl> & <dbl> & <dbl> & <dbl> & <dbl> & <dbl> & <dbl> & <dbl> & <dbl> & <dbl>\\\\\n",
       "\\hline\n",
       "\tEZR &   1 &   1 &   1 & Inf & Inf & Inf &   6 &   1 & Inf & Inf &   6 &   7\\\\\n",
       "\tDIAPH3 & Inf & Inf & Inf & Inf & Inf & Inf & Inf & Inf & Inf & Inf &   9 &   8\\\\\n",
       "\tNFATC1 & Inf & Inf & Inf & Inf & Inf & Inf & Inf & Inf & Inf & Inf &   3 &   5\\\\\n",
       "\tTNFRSF1A & Inf & Inf & Inf & Inf & Inf & Inf & Inf & Inf & Inf & Inf & Inf & Inf\\\\\n",
       "\tITPR1 & Inf & Inf & Inf & Inf & Inf & Inf & Inf & Inf & Inf & Inf &   2 &   4\\\\\n",
       "\tCBLB & Inf & Inf & Inf & Inf & Inf & Inf & Inf & Inf & Inf & Inf & Inf & Inf\\\\\n",
       "\tAKT3 & Inf & Inf & Inf & Inf & Inf & Inf & Inf & Inf & Inf & Inf &   5 &   3\\\\\n",
       "\tMAP2K1 &   4 &   4 &   4 & Inf & Inf & Inf &   2 &   4 & Inf & Inf &   4 &   3\\\\\n",
       "\tPLCG2 & Inf & Inf & Inf & Inf & Inf & Inf & Inf & Inf & Inf & Inf &   1 &   3\\\\\n",
       "\tBAIAP2 & Inf & Inf & Inf & Inf & Inf & Inf & Inf & Inf & Inf & Inf &   6 &   5\\\\\n",
       "\\end{tabular}\n"
      ],
      "text/markdown": [
       "\n",
       "A data.frame: 10 × 12\n",
       "\n",
       "| <!--/--> | from_ADORA2B &lt;dbl&gt; | from_CAPN1 &lt;dbl&gt; | from_CAPNS1 &lt;dbl&gt; | from_CAV1 &lt;dbl&gt; | from_CAV2 &lt;dbl&gt; | from_CSNK2A1 &lt;dbl&gt; | from_PRKACA &lt;dbl&gt; | from_PRKCE &lt;dbl&gt; | from_SLC9A3R1 &lt;dbl&gt; | from_SLC9A3R2 &lt;dbl&gt; | from_SYK &lt;dbl&gt; | from_TRADD &lt;dbl&gt; |\n",
       "|---|---|---|---|---|---|---|---|---|---|---|---|---|\n",
       "| EZR |   1 |   1 |   1 | Inf | Inf | Inf |   6 |   1 | Inf | Inf |   6 |   7 |\n",
       "| DIAPH3 | Inf | Inf | Inf | Inf | Inf | Inf | Inf | Inf | Inf | Inf |   9 |   8 |\n",
       "| NFATC1 | Inf | Inf | Inf | Inf | Inf | Inf | Inf | Inf | Inf | Inf |   3 |   5 |\n",
       "| TNFRSF1A | Inf | Inf | Inf | Inf | Inf | Inf | Inf | Inf | Inf | Inf | Inf | Inf |\n",
       "| ITPR1 | Inf | Inf | Inf | Inf | Inf | Inf | Inf | Inf | Inf | Inf |   2 |   4 |\n",
       "| CBLB | Inf | Inf | Inf | Inf | Inf | Inf | Inf | Inf | Inf | Inf | Inf | Inf |\n",
       "| AKT3 | Inf | Inf | Inf | Inf | Inf | Inf | Inf | Inf | Inf | Inf |   5 |   3 |\n",
       "| MAP2K1 |   4 |   4 |   4 | Inf | Inf | Inf |   2 |   4 | Inf | Inf |   4 |   3 |\n",
       "| PLCG2 | Inf | Inf | Inf | Inf | Inf | Inf | Inf | Inf | Inf | Inf |   1 |   3 |\n",
       "| BAIAP2 | Inf | Inf | Inf | Inf | Inf | Inf | Inf | Inf | Inf | Inf |   6 |   5 |\n",
       "\n"
      ],
      "text/plain": [
       "         from_ADORA2B from_CAPN1 from_CAPNS1 from_CAV1 from_CAV2 from_CSNK2A1\n",
       "EZR        1            1          1         Inf       Inf       Inf         \n",
       "DIAPH3   Inf          Inf        Inf         Inf       Inf       Inf         \n",
       "NFATC1   Inf          Inf        Inf         Inf       Inf       Inf         \n",
       "TNFRSF1A Inf          Inf        Inf         Inf       Inf       Inf         \n",
       "ITPR1    Inf          Inf        Inf         Inf       Inf       Inf         \n",
       "CBLB     Inf          Inf        Inf         Inf       Inf       Inf         \n",
       "AKT3     Inf          Inf        Inf         Inf       Inf       Inf         \n",
       "MAP2K1     4            4          4         Inf       Inf       Inf         \n",
       "PLCG2    Inf          Inf        Inf         Inf       Inf       Inf         \n",
       "BAIAP2   Inf          Inf        Inf         Inf       Inf       Inf         \n",
       "         from_PRKACA from_PRKCE from_SLC9A3R1 from_SLC9A3R2 from_SYK from_TRADD\n",
       "EZR        6           1        Inf           Inf             6        7       \n",
       "DIAPH3   Inf         Inf        Inf           Inf             9        8       \n",
       "NFATC1   Inf         Inf        Inf           Inf             3        5       \n",
       "TNFRSF1A Inf         Inf        Inf           Inf           Inf      Inf       \n",
       "ITPR1    Inf         Inf        Inf           Inf             2        4       \n",
       "CBLB     Inf         Inf        Inf           Inf           Inf      Inf       \n",
       "AKT3     Inf         Inf        Inf           Inf             5        3       \n",
       "MAP2K1     2           4        Inf           Inf             4        3       \n",
       "PLCG2    Inf         Inf        Inf           Inf             1        3       \n",
       "BAIAP2   Inf         Inf        Inf           Inf             6        5       "
      ]
     },
     "metadata": {},
     "output_type": "display_data"
    }
   ],
   "source": [
    "CF_PPI_network.pruned.dm_from_CFTR_interactors"
   ]
  },
  {
   "cell_type": "code",
   "execution_count": 37,
   "id": "3b971cba-9d3d-420e-ad41-7b34dea73d15",
   "metadata": {},
   "outputs": [
    {
     "data": {
      "text/html": [
       "<table class=\"dataframe\">\n",
       "<caption>A data.frame: 10 × 13</caption>\n",
       "<thead>\n",
       "\t<tr><th scope=col>from_ADORA2B</th><th scope=col>from_CAPN1</th><th scope=col>from_CAPNS1</th><th scope=col>from_CAV1</th><th scope=col>from_CAV2</th><th scope=col>from_CSNK2A1</th><th scope=col>from_PRKACA</th><th scope=col>from_PRKCE</th><th scope=col>from_SLC9A3R1</th><th scope=col>from_SLC9A3R2</th><th scope=col>from_SYK</th><th scope=col>from_TRADD</th><th scope=col>Gene</th></tr>\n",
       "\t<tr><th scope=col>&lt;dbl&gt;</th><th scope=col>&lt;dbl&gt;</th><th scope=col>&lt;dbl&gt;</th><th scope=col>&lt;dbl&gt;</th><th scope=col>&lt;dbl&gt;</th><th scope=col>&lt;dbl&gt;</th><th scope=col>&lt;dbl&gt;</th><th scope=col>&lt;dbl&gt;</th><th scope=col>&lt;dbl&gt;</th><th scope=col>&lt;dbl&gt;</th><th scope=col>&lt;dbl&gt;</th><th scope=col>&lt;dbl&gt;</th><th scope=col>&lt;chr&gt;</th></tr>\n",
       "</thead>\n",
       "<tbody>\n",
       "\t<tr><td>  1</td><td>  1</td><td>  1</td><td>Inf</td><td>Inf</td><td>Inf</td><td>  6</td><td>  1</td><td>Inf</td><td>Inf</td><td>  6</td><td>  7</td><td>EZR     </td></tr>\n",
       "\t<tr><td>Inf</td><td>Inf</td><td>Inf</td><td>Inf</td><td>Inf</td><td>Inf</td><td>Inf</td><td>Inf</td><td>Inf</td><td>Inf</td><td>  9</td><td>  8</td><td>DIAPH3  </td></tr>\n",
       "\t<tr><td>Inf</td><td>Inf</td><td>Inf</td><td>Inf</td><td>Inf</td><td>Inf</td><td>Inf</td><td>Inf</td><td>Inf</td><td>Inf</td><td>  3</td><td>  5</td><td>NFATC1  </td></tr>\n",
       "\t<tr><td>Inf</td><td>Inf</td><td>Inf</td><td>Inf</td><td>Inf</td><td>Inf</td><td>Inf</td><td>Inf</td><td>Inf</td><td>Inf</td><td>Inf</td><td>Inf</td><td>TNFRSF1A</td></tr>\n",
       "\t<tr><td>Inf</td><td>Inf</td><td>Inf</td><td>Inf</td><td>Inf</td><td>Inf</td><td>Inf</td><td>Inf</td><td>Inf</td><td>Inf</td><td>  2</td><td>  4</td><td>ITPR1   </td></tr>\n",
       "\t<tr><td>Inf</td><td>Inf</td><td>Inf</td><td>Inf</td><td>Inf</td><td>Inf</td><td>Inf</td><td>Inf</td><td>Inf</td><td>Inf</td><td>Inf</td><td>Inf</td><td>CBLB    </td></tr>\n",
       "\t<tr><td>Inf</td><td>Inf</td><td>Inf</td><td>Inf</td><td>Inf</td><td>Inf</td><td>Inf</td><td>Inf</td><td>Inf</td><td>Inf</td><td>  5</td><td>  3</td><td>AKT3    </td></tr>\n",
       "\t<tr><td>  4</td><td>  4</td><td>  4</td><td>Inf</td><td>Inf</td><td>Inf</td><td>  2</td><td>  4</td><td>Inf</td><td>Inf</td><td>  4</td><td>  3</td><td>MAP2K1  </td></tr>\n",
       "\t<tr><td>Inf</td><td>Inf</td><td>Inf</td><td>Inf</td><td>Inf</td><td>Inf</td><td>Inf</td><td>Inf</td><td>Inf</td><td>Inf</td><td>  1</td><td>  3</td><td>PLCG2   </td></tr>\n",
       "\t<tr><td>Inf</td><td>Inf</td><td>Inf</td><td>Inf</td><td>Inf</td><td>Inf</td><td>Inf</td><td>Inf</td><td>Inf</td><td>Inf</td><td>  6</td><td>  5</td><td>BAIAP2  </td></tr>\n",
       "</tbody>\n",
       "</table>\n"
      ],
      "text/latex": [
       "A data.frame: 10 × 13\n",
       "\\begin{tabular}{lllllllllllll}\n",
       " from\\_ADORA2B & from\\_CAPN1 & from\\_CAPNS1 & from\\_CAV1 & from\\_CAV2 & from\\_CSNK2A1 & from\\_PRKACA & from\\_PRKCE & from\\_SLC9A3R1 & from\\_SLC9A3R2 & from\\_SYK & from\\_TRADD & Gene\\\\\n",
       " <dbl> & <dbl> & <dbl> & <dbl> & <dbl> & <dbl> & <dbl> & <dbl> & <dbl> & <dbl> & <dbl> & <dbl> & <chr>\\\\\n",
       "\\hline\n",
       "\t   1 &   1 &   1 & Inf & Inf & Inf &   6 &   1 & Inf & Inf &   6 &   7 & EZR     \\\\\n",
       "\t Inf & Inf & Inf & Inf & Inf & Inf & Inf & Inf & Inf & Inf &   9 &   8 & DIAPH3  \\\\\n",
       "\t Inf & Inf & Inf & Inf & Inf & Inf & Inf & Inf & Inf & Inf &   3 &   5 & NFATC1  \\\\\n",
       "\t Inf & Inf & Inf & Inf & Inf & Inf & Inf & Inf & Inf & Inf & Inf & Inf & TNFRSF1A\\\\\n",
       "\t Inf & Inf & Inf & Inf & Inf & Inf & Inf & Inf & Inf & Inf &   2 &   4 & ITPR1   \\\\\n",
       "\t Inf & Inf & Inf & Inf & Inf & Inf & Inf & Inf & Inf & Inf & Inf & Inf & CBLB    \\\\\n",
       "\t Inf & Inf & Inf & Inf & Inf & Inf & Inf & Inf & Inf & Inf &   5 &   3 & AKT3    \\\\\n",
       "\t   4 &   4 &   4 & Inf & Inf & Inf &   2 &   4 & Inf & Inf &   4 &   3 & MAP2K1  \\\\\n",
       "\t Inf & Inf & Inf & Inf & Inf & Inf & Inf & Inf & Inf & Inf &   1 &   3 & PLCG2   \\\\\n",
       "\t Inf & Inf & Inf & Inf & Inf & Inf & Inf & Inf & Inf & Inf &   6 &   5 & BAIAP2  \\\\\n",
       "\\end{tabular}\n"
      ],
      "text/markdown": [
       "\n",
       "A data.frame: 10 × 13\n",
       "\n",
       "| from_ADORA2B &lt;dbl&gt; | from_CAPN1 &lt;dbl&gt; | from_CAPNS1 &lt;dbl&gt; | from_CAV1 &lt;dbl&gt; | from_CAV2 &lt;dbl&gt; | from_CSNK2A1 &lt;dbl&gt; | from_PRKACA &lt;dbl&gt; | from_PRKCE &lt;dbl&gt; | from_SLC9A3R1 &lt;dbl&gt; | from_SLC9A3R2 &lt;dbl&gt; | from_SYK &lt;dbl&gt; | from_TRADD &lt;dbl&gt; | Gene &lt;chr&gt; |\n",
       "|---|---|---|---|---|---|---|---|---|---|---|---|---|\n",
       "|   1 |   1 |   1 | Inf | Inf | Inf |   6 |   1 | Inf | Inf |   6 |   7 | EZR      |\n",
       "| Inf | Inf | Inf | Inf | Inf | Inf | Inf | Inf | Inf | Inf |   9 |   8 | DIAPH3   |\n",
       "| Inf | Inf | Inf | Inf | Inf | Inf | Inf | Inf | Inf | Inf |   3 |   5 | NFATC1   |\n",
       "| Inf | Inf | Inf | Inf | Inf | Inf | Inf | Inf | Inf | Inf | Inf | Inf | TNFRSF1A |\n",
       "| Inf | Inf | Inf | Inf | Inf | Inf | Inf | Inf | Inf | Inf |   2 |   4 | ITPR1    |\n",
       "| Inf | Inf | Inf | Inf | Inf | Inf | Inf | Inf | Inf | Inf | Inf | Inf | CBLB     |\n",
       "| Inf | Inf | Inf | Inf | Inf | Inf | Inf | Inf | Inf | Inf |   5 |   3 | AKT3     |\n",
       "|   4 |   4 |   4 | Inf | Inf | Inf |   2 |   4 | Inf | Inf |   4 |   3 | MAP2K1   |\n",
       "| Inf | Inf | Inf | Inf | Inf | Inf | Inf | Inf | Inf | Inf |   1 |   3 | PLCG2    |\n",
       "| Inf | Inf | Inf | Inf | Inf | Inf | Inf | Inf | Inf | Inf |   6 |   5 | BAIAP2   |\n",
       "\n"
      ],
      "text/plain": [
       "   from_ADORA2B from_CAPN1 from_CAPNS1 from_CAV1 from_CAV2 from_CSNK2A1\n",
       "1    1            1          1         Inf       Inf       Inf         \n",
       "2  Inf          Inf        Inf         Inf       Inf       Inf         \n",
       "3  Inf          Inf        Inf         Inf       Inf       Inf         \n",
       "4  Inf          Inf        Inf         Inf       Inf       Inf         \n",
       "5  Inf          Inf        Inf         Inf       Inf       Inf         \n",
       "6  Inf          Inf        Inf         Inf       Inf       Inf         \n",
       "7  Inf          Inf        Inf         Inf       Inf       Inf         \n",
       "8    4            4          4         Inf       Inf       Inf         \n",
       "9  Inf          Inf        Inf         Inf       Inf       Inf         \n",
       "10 Inf          Inf        Inf         Inf       Inf       Inf         \n",
       "   from_PRKACA from_PRKCE from_SLC9A3R1 from_SLC9A3R2 from_SYK from_TRADD\n",
       "1    6           1        Inf           Inf             6        7       \n",
       "2  Inf         Inf        Inf           Inf             9        8       \n",
       "3  Inf         Inf        Inf           Inf             3        5       \n",
       "4  Inf         Inf        Inf           Inf           Inf      Inf       \n",
       "5  Inf         Inf        Inf           Inf             2        4       \n",
       "6  Inf         Inf        Inf           Inf           Inf      Inf       \n",
       "7  Inf         Inf        Inf           Inf             5        3       \n",
       "8    2           4        Inf           Inf             4        3       \n",
       "9  Inf         Inf        Inf           Inf             1        3       \n",
       "10 Inf         Inf        Inf           Inf             6        5       \n",
       "   Gene    \n",
       "1  EZR     \n",
       "2  DIAPH3  \n",
       "3  NFATC1  \n",
       "4  TNFRSF1A\n",
       "5  ITPR1   \n",
       "6  CBLB    \n",
       "7  AKT3    \n",
       "8  MAP2K1  \n",
       "9  PLCG2   \n",
       "10 BAIAP2  "
      ]
     },
     "metadata": {},
     "output_type": "display_data"
    }
   ],
   "source": [
    "CF_PPI_network.pruned.dm_from_CFTR_interactors['Gene'] <- rownames(CF_PPI_network.pruned.dm_from_CFTR_interactors)\n",
    "rownames(CF_PPI_network.pruned.dm_from_CFTR_interactors) <- NULL\n",
    "CF_PPI_network.pruned.dm_from_CFTR_interactors"
   ]
  },
  {
   "cell_type": "code",
   "execution_count": 38,
   "id": "cc50a6e0-60f0-4cd4-a888-c9642473d1c5",
   "metadata": {},
   "outputs": [
    {
     "data": {
      "text/html": [
       "<table class=\"dataframe\">\n",
       "<caption>A data.frame: 11 × 24</caption>\n",
       "<thead>\n",
       "\t<tr><th scope=col>Gene</th><th scope=col>Probe ID</th><th scope=col>p-value</th><th scope=col>Median_CF_patients</th><th scope=col>Median_Controls</th><th scope=col>Genomic location</th><th scope=col>Island status</th><th scope=col>*Enhancer</th><th scope=col>CpG_pvalue_rank_</th><th scope=col>abs_change</th><th scope=col>⋯</th><th scope=col>from_CAPNS1</th><th scope=col>from_CAV1</th><th scope=col>from_CAV2</th><th scope=col>from_CSNK2A1</th><th scope=col>from_PRKACA</th><th scope=col>from_PRKCE</th><th scope=col>from_SLC9A3R1</th><th scope=col>from_SLC9A3R2</th><th scope=col>from_SYK</th><th scope=col>from_TRADD</th></tr>\n",
       "\t<tr><th scope=col>&lt;chr&gt;</th><th scope=col>&lt;chr&gt;</th><th scope=col>&lt;dbl&gt;</th><th scope=col>&lt;dbl&gt;</th><th scope=col>&lt;dbl&gt;</th><th scope=col>&lt;chr&gt;</th><th scope=col>&lt;chr&gt;</th><th scope=col>&lt;lgl&gt;</th><th scope=col>&lt;int&gt;</th><th scope=col>&lt;dbl&gt;</th><th scope=col>⋯</th><th scope=col>&lt;dbl&gt;</th><th scope=col>&lt;dbl&gt;</th><th scope=col>&lt;dbl&gt;</th><th scope=col>&lt;dbl&gt;</th><th scope=col>&lt;dbl&gt;</th><th scope=col>&lt;dbl&gt;</th><th scope=col>&lt;dbl&gt;</th><th scope=col>&lt;dbl&gt;</th><th scope=col>&lt;dbl&gt;</th><th scope=col>&lt;dbl&gt;</th></tr>\n",
       "</thead>\n",
       "<tbody>\n",
       "\t<tr><td>AKT3    </td><td>cg04221461</td><td>2.2e-03</td><td>0.46</td><td>0.56</td><td>Body</td><td>Open sea</td><td>FALSE</td><td> 613</td><td>0.10</td><td>⋯</td><td>Inf</td><td>Inf</td><td>Inf</td><td>Inf</td><td>Inf</td><td>Inf</td><td>Inf</td><td>Inf</td><td>  5</td><td>  3</td></tr>\n",
       "\t<tr><td>BAIAP2  </td><td>cg02026049</td><td>7.9e-03</td><td>0.65</td><td>0.76</td><td>Body</td><td>N_Shelf </td><td>FALSE</td><td>1123</td><td>0.11</td><td>⋯</td><td>Inf</td><td>Inf</td><td>Inf</td><td>Inf</td><td>Inf</td><td>Inf</td><td>Inf</td><td>Inf</td><td>  6</td><td>  5</td></tr>\n",
       "\t<tr><td>CBLB    </td><td>cg18984715</td><td>1.2e-03</td><td>0.79</td><td>0.67</td><td>Body</td><td>Open sea</td><td> TRUE</td><td> 441</td><td>0.12</td><td>⋯</td><td>Inf</td><td>Inf</td><td>Inf</td><td>Inf</td><td>Inf</td><td>Inf</td><td>Inf</td><td>Inf</td><td>Inf</td><td>Inf</td></tr>\n",
       "\t<tr><td>DIAPH3  </td><td>cg01899581</td><td>9.0e-05</td><td>0.64</td><td>0.47</td><td>Body</td><td>N_Shelf </td><td>FALSE</td><td>  53</td><td>0.17</td><td>⋯</td><td>Inf</td><td>Inf</td><td>Inf</td><td>Inf</td><td>Inf</td><td>Inf</td><td>Inf</td><td>Inf</td><td>  9</td><td>  8</td></tr>\n",
       "\t<tr><td>EZR     </td><td>cg13433729</td><td>1.2e-06</td><td>0.61</td><td>0.49</td><td>Body</td><td>Open sea</td><td> TRUE</td><td>   2</td><td>0.12</td><td>⋯</td><td>  1</td><td>Inf</td><td>Inf</td><td>Inf</td><td>  6</td><td>  1</td><td>Inf</td><td>Inf</td><td>  6</td><td>  7</td></tr>\n",
       "\t<tr><td>ITPR1   </td><td>cg22240998</td><td>1.1e-03</td><td>0.60</td><td>0.50</td><td>Body</td><td>Open sea</td><td> TRUE</td><td> 420</td><td>0.10</td><td>⋯</td><td>Inf</td><td>Inf</td><td>Inf</td><td>Inf</td><td>Inf</td><td>Inf</td><td>Inf</td><td>Inf</td><td>  2</td><td>  4</td></tr>\n",
       "\t<tr><td>MAP2K1  </td><td>cg21070009</td><td>4.1e-03</td><td>0.48</td><td>0.35</td><td>Body</td><td>Open sea</td><td> TRUE</td><td> 852</td><td>0.13</td><td>⋯</td><td>  4</td><td>Inf</td><td>Inf</td><td>Inf</td><td>  2</td><td>  4</td><td>Inf</td><td>Inf</td><td>  4</td><td>  3</td></tr>\n",
       "\t<tr><td>NFATC1  </td><td>cg11321921</td><td>5.5e-04</td><td>0.78</td><td>0.91</td><td>Body</td><td>Island  </td><td>FALSE</td><td> 240</td><td>0.13</td><td>⋯</td><td>Inf</td><td>Inf</td><td>Inf</td><td>Inf</td><td>Inf</td><td>Inf</td><td>Inf</td><td>Inf</td><td>  3</td><td>  5</td></tr>\n",
       "\t<tr><td>NFATC1  </td><td>cg05687091</td><td>6.1e-04</td><td>0.54</td><td>0.64</td><td>Body</td><td>Island  </td><td>FALSE</td><td> 257</td><td>0.10</td><td>⋯</td><td>Inf</td><td>Inf</td><td>Inf</td><td>Inf</td><td>Inf</td><td>Inf</td><td>Inf</td><td>Inf</td><td>  3</td><td>  5</td></tr>\n",
       "\t<tr><td>PLCG2   </td><td>cg07671055</td><td>5.6e-03</td><td>0.48</td><td>0.59</td><td>Body</td><td>Open sea</td><td>FALSE</td><td> 952</td><td>0.11</td><td>⋯</td><td>Inf</td><td>Inf</td><td>Inf</td><td>Inf</td><td>Inf</td><td>Inf</td><td>Inf</td><td>Inf</td><td>  1</td><td>  3</td></tr>\n",
       "\t<tr><td>TNFRSF1A</td><td>cg23752651</td><td>9.5e-04</td><td>0.58</td><td>0.70</td><td>Body</td><td>Open sea</td><td>FALSE</td><td> 374</td><td>0.12</td><td>⋯</td><td>Inf</td><td>Inf</td><td>Inf</td><td>Inf</td><td>Inf</td><td>Inf</td><td>Inf</td><td>Inf</td><td>Inf</td><td>Inf</td></tr>\n",
       "</tbody>\n",
       "</table>\n"
      ],
      "text/latex": [
       "A data.frame: 11 × 24\n",
       "\\begin{tabular}{lllllllllllllllllllll}\n",
       " Gene & Probe ID & p-value & Median\\_CF\\_patients & Median\\_Controls & Genomic location & Island status & *Enhancer & CpG\\_pvalue\\_rank\\_ & abs\\_change & ⋯ & from\\_CAPNS1 & from\\_CAV1 & from\\_CAV2 & from\\_CSNK2A1 & from\\_PRKACA & from\\_PRKCE & from\\_SLC9A3R1 & from\\_SLC9A3R2 & from\\_SYK & from\\_TRADD\\\\\n",
       " <chr> & <chr> & <dbl> & <dbl> & <dbl> & <chr> & <chr> & <lgl> & <int> & <dbl> & ⋯ & <dbl> & <dbl> & <dbl> & <dbl> & <dbl> & <dbl> & <dbl> & <dbl> & <dbl> & <dbl>\\\\\n",
       "\\hline\n",
       "\t AKT3     & cg04221461 & 2.2e-03 & 0.46 & 0.56 & Body & Open sea & FALSE &  613 & 0.10 & ⋯ & Inf & Inf & Inf & Inf & Inf & Inf & Inf & Inf &   5 &   3\\\\\n",
       "\t BAIAP2   & cg02026049 & 7.9e-03 & 0.65 & 0.76 & Body & N\\_Shelf  & FALSE & 1123 & 0.11 & ⋯ & Inf & Inf & Inf & Inf & Inf & Inf & Inf & Inf &   6 &   5\\\\\n",
       "\t CBLB     & cg18984715 & 1.2e-03 & 0.79 & 0.67 & Body & Open sea &  TRUE &  441 & 0.12 & ⋯ & Inf & Inf & Inf & Inf & Inf & Inf & Inf & Inf & Inf & Inf\\\\\n",
       "\t DIAPH3   & cg01899581 & 9.0e-05 & 0.64 & 0.47 & Body & N\\_Shelf  & FALSE &   53 & 0.17 & ⋯ & Inf & Inf & Inf & Inf & Inf & Inf & Inf & Inf &   9 &   8\\\\\n",
       "\t EZR      & cg13433729 & 1.2e-06 & 0.61 & 0.49 & Body & Open sea &  TRUE &    2 & 0.12 & ⋯ &   1 & Inf & Inf & Inf &   6 &   1 & Inf & Inf &   6 &   7\\\\\n",
       "\t ITPR1    & cg22240998 & 1.1e-03 & 0.60 & 0.50 & Body & Open sea &  TRUE &  420 & 0.10 & ⋯ & Inf & Inf & Inf & Inf & Inf & Inf & Inf & Inf &   2 &   4\\\\\n",
       "\t MAP2K1   & cg21070009 & 4.1e-03 & 0.48 & 0.35 & Body & Open sea &  TRUE &  852 & 0.13 & ⋯ &   4 & Inf & Inf & Inf &   2 &   4 & Inf & Inf &   4 &   3\\\\\n",
       "\t NFATC1   & cg11321921 & 5.5e-04 & 0.78 & 0.91 & Body & Island   & FALSE &  240 & 0.13 & ⋯ & Inf & Inf & Inf & Inf & Inf & Inf & Inf & Inf &   3 &   5\\\\\n",
       "\t NFATC1   & cg05687091 & 6.1e-04 & 0.54 & 0.64 & Body & Island   & FALSE &  257 & 0.10 & ⋯ & Inf & Inf & Inf & Inf & Inf & Inf & Inf & Inf &   3 &   5\\\\\n",
       "\t PLCG2    & cg07671055 & 5.6e-03 & 0.48 & 0.59 & Body & Open sea & FALSE &  952 & 0.11 & ⋯ & Inf & Inf & Inf & Inf & Inf & Inf & Inf & Inf &   1 &   3\\\\\n",
       "\t TNFRSF1A & cg23752651 & 9.5e-04 & 0.58 & 0.70 & Body & Open sea & FALSE &  374 & 0.12 & ⋯ & Inf & Inf & Inf & Inf & Inf & Inf & Inf & Inf & Inf & Inf\\\\\n",
       "\\end{tabular}\n"
      ],
      "text/markdown": [
       "\n",
       "A data.frame: 11 × 24\n",
       "\n",
       "| Gene &lt;chr&gt; | Probe ID &lt;chr&gt; | p-value &lt;dbl&gt; | Median_CF_patients &lt;dbl&gt; | Median_Controls &lt;dbl&gt; | Genomic location &lt;chr&gt; | Island status &lt;chr&gt; | *Enhancer &lt;lgl&gt; | CpG_pvalue_rank_ &lt;int&gt; | abs_change &lt;dbl&gt; | ⋯ ⋯ | from_CAPNS1 &lt;dbl&gt; | from_CAV1 &lt;dbl&gt; | from_CAV2 &lt;dbl&gt; | from_CSNK2A1 &lt;dbl&gt; | from_PRKACA &lt;dbl&gt; | from_PRKCE &lt;dbl&gt; | from_SLC9A3R1 &lt;dbl&gt; | from_SLC9A3R2 &lt;dbl&gt; | from_SYK &lt;dbl&gt; | from_TRADD &lt;dbl&gt; |\n",
       "|---|---|---|---|---|---|---|---|---|---|---|---|---|---|---|---|---|---|---|---|---|\n",
       "| AKT3     | cg04221461 | 2.2e-03 | 0.46 | 0.56 | Body | Open sea | FALSE |  613 | 0.10 | ⋯ | Inf | Inf | Inf | Inf | Inf | Inf | Inf | Inf |   5 |   3 |\n",
       "| BAIAP2   | cg02026049 | 7.9e-03 | 0.65 | 0.76 | Body | N_Shelf  | FALSE | 1123 | 0.11 | ⋯ | Inf | Inf | Inf | Inf | Inf | Inf | Inf | Inf |   6 |   5 |\n",
       "| CBLB     | cg18984715 | 1.2e-03 | 0.79 | 0.67 | Body | Open sea |  TRUE |  441 | 0.12 | ⋯ | Inf | Inf | Inf | Inf | Inf | Inf | Inf | Inf | Inf | Inf |\n",
       "| DIAPH3   | cg01899581 | 9.0e-05 | 0.64 | 0.47 | Body | N_Shelf  | FALSE |   53 | 0.17 | ⋯ | Inf | Inf | Inf | Inf | Inf | Inf | Inf | Inf |   9 |   8 |\n",
       "| EZR      | cg13433729 | 1.2e-06 | 0.61 | 0.49 | Body | Open sea |  TRUE |    2 | 0.12 | ⋯ |   1 | Inf | Inf | Inf |   6 |   1 | Inf | Inf |   6 |   7 |\n",
       "| ITPR1    | cg22240998 | 1.1e-03 | 0.60 | 0.50 | Body | Open sea |  TRUE |  420 | 0.10 | ⋯ | Inf | Inf | Inf | Inf | Inf | Inf | Inf | Inf |   2 |   4 |\n",
       "| MAP2K1   | cg21070009 | 4.1e-03 | 0.48 | 0.35 | Body | Open sea |  TRUE |  852 | 0.13 | ⋯ |   4 | Inf | Inf | Inf |   2 |   4 | Inf | Inf |   4 |   3 |\n",
       "| NFATC1   | cg11321921 | 5.5e-04 | 0.78 | 0.91 | Body | Island   | FALSE |  240 | 0.13 | ⋯ | Inf | Inf | Inf | Inf | Inf | Inf | Inf | Inf |   3 |   5 |\n",
       "| NFATC1   | cg05687091 | 6.1e-04 | 0.54 | 0.64 | Body | Island   | FALSE |  257 | 0.10 | ⋯ | Inf | Inf | Inf | Inf | Inf | Inf | Inf | Inf |   3 |   5 |\n",
       "| PLCG2    | cg07671055 | 5.6e-03 | 0.48 | 0.59 | Body | Open sea | FALSE |  952 | 0.11 | ⋯ | Inf | Inf | Inf | Inf | Inf | Inf | Inf | Inf |   1 |   3 |\n",
       "| TNFRSF1A | cg23752651 | 9.5e-04 | 0.58 | 0.70 | Body | Open sea | FALSE |  374 | 0.12 | ⋯ | Inf | Inf | Inf | Inf | Inf | Inf | Inf | Inf | Inf | Inf |\n",
       "\n"
      ],
      "text/plain": [
       "   Gene     Probe ID   p-value Median_CF_patients Median_Controls\n",
       "1  AKT3     cg04221461 2.2e-03 0.46               0.56           \n",
       "2  BAIAP2   cg02026049 7.9e-03 0.65               0.76           \n",
       "3  CBLB     cg18984715 1.2e-03 0.79               0.67           \n",
       "4  DIAPH3   cg01899581 9.0e-05 0.64               0.47           \n",
       "5  EZR      cg13433729 1.2e-06 0.61               0.49           \n",
       "6  ITPR1    cg22240998 1.1e-03 0.60               0.50           \n",
       "7  MAP2K1   cg21070009 4.1e-03 0.48               0.35           \n",
       "8  NFATC1   cg11321921 5.5e-04 0.78               0.91           \n",
       "9  NFATC1   cg05687091 6.1e-04 0.54               0.64           \n",
       "10 PLCG2    cg07671055 5.6e-03 0.48               0.59           \n",
       "11 TNFRSF1A cg23752651 9.5e-04 0.58               0.70           \n",
       "   Genomic location Island status *Enhancer CpG_pvalue_rank_ abs_change ⋯\n",
       "1  Body             Open sea      FALSE      613             0.10       ⋯\n",
       "2  Body             N_Shelf       FALSE     1123             0.11       ⋯\n",
       "3  Body             Open sea       TRUE      441             0.12       ⋯\n",
       "4  Body             N_Shelf       FALSE       53             0.17       ⋯\n",
       "5  Body             Open sea       TRUE        2             0.12       ⋯\n",
       "6  Body             Open sea       TRUE      420             0.10       ⋯\n",
       "7  Body             Open sea       TRUE      852             0.13       ⋯\n",
       "8  Body             Island        FALSE      240             0.13       ⋯\n",
       "9  Body             Island        FALSE      257             0.10       ⋯\n",
       "10 Body             Open sea      FALSE      952             0.11       ⋯\n",
       "11 Body             Open sea      FALSE      374             0.12       ⋯\n",
       "   from_CAPNS1 from_CAV1 from_CAV2 from_CSNK2A1 from_PRKACA from_PRKCE\n",
       "1  Inf         Inf       Inf       Inf          Inf         Inf       \n",
       "2  Inf         Inf       Inf       Inf          Inf         Inf       \n",
       "3  Inf         Inf       Inf       Inf          Inf         Inf       \n",
       "4  Inf         Inf       Inf       Inf          Inf         Inf       \n",
       "5    1         Inf       Inf       Inf            6           1       \n",
       "6  Inf         Inf       Inf       Inf          Inf         Inf       \n",
       "7    4         Inf       Inf       Inf            2           4       \n",
       "8  Inf         Inf       Inf       Inf          Inf         Inf       \n",
       "9  Inf         Inf       Inf       Inf          Inf         Inf       \n",
       "10 Inf         Inf       Inf       Inf          Inf         Inf       \n",
       "11 Inf         Inf       Inf       Inf          Inf         Inf       \n",
       "   from_SLC9A3R1 from_SLC9A3R2 from_SYK from_TRADD\n",
       "1  Inf           Inf             5        3       \n",
       "2  Inf           Inf             6        5       \n",
       "3  Inf           Inf           Inf      Inf       \n",
       "4  Inf           Inf             9        8       \n",
       "5  Inf           Inf             6        7       \n",
       "6  Inf           Inf             2        4       \n",
       "7  Inf           Inf             4        3       \n",
       "8  Inf           Inf             3        5       \n",
       "9  Inf           Inf             3        5       \n",
       "10 Inf           Inf             1        3       \n",
       "11 Inf           Inf           Inf      Inf       "
      ]
     },
     "metadata": {},
     "output_type": "display_data"
    }
   ],
   "source": [
    "dm_CF_NCF_Genes_in_CF_network.dm_CF_NCF_df <- merge(dm_CF_NCF_Genes_in_CF_network.dm_CF_NCF_df,\n",
    "                                                    CF_PPI_network.pruned.dm_from_CFTR_interactors,\n",
    "                                                    by = \"Gene\")\n",
    "dm_CF_NCF_Genes_in_CF_network.dm_CF_NCF_df"
   ]
  },
  {
   "cell_type": "code",
   "execution_count": 39,
   "id": "c9b9585e-209e-4da0-8a7b-8f4b37a3ee44",
   "metadata": {},
   "outputs": [
    {
     "data": {
      "text/html": [
       "<style>\n",
       ".list-inline {list-style: none; margin:0; padding: 0}\n",
       ".list-inline>li {display: inline-block}\n",
       ".list-inline>li:not(:last-child)::after {content: \"\\00b7\"; padding: 0 .5ex}\n",
       "</style>\n",
       "<ol class=list-inline><li>'from_ADORA2B'</li><li>'from_CAPN1'</li><li>'from_CAPNS1'</li><li>'from_CAV1'</li><li>'from_CAV2'</li><li>'from_CSNK2A1'</li><li>'from_PRKACA'</li><li>'from_PRKCE'</li><li>'from_SLC9A3R1'</li><li>'from_SLC9A3R2'</li><li>'from_SYK'</li><li>'from_TRADD'</li><li>'Gene'</li></ol>\n"
      ],
      "text/latex": [
       "\\begin{enumerate*}\n",
       "\\item 'from\\_ADORA2B'\n",
       "\\item 'from\\_CAPN1'\n",
       "\\item 'from\\_CAPNS1'\n",
       "\\item 'from\\_CAV1'\n",
       "\\item 'from\\_CAV2'\n",
       "\\item 'from\\_CSNK2A1'\n",
       "\\item 'from\\_PRKACA'\n",
       "\\item 'from\\_PRKCE'\n",
       "\\item 'from\\_SLC9A3R1'\n",
       "\\item 'from\\_SLC9A3R2'\n",
       "\\item 'from\\_SYK'\n",
       "\\item 'from\\_TRADD'\n",
       "\\item 'Gene'\n",
       "\\end{enumerate*}\n"
      ],
      "text/markdown": [
       "1. 'from_ADORA2B'\n",
       "2. 'from_CAPN1'\n",
       "3. 'from_CAPNS1'\n",
       "4. 'from_CAV1'\n",
       "5. 'from_CAV2'\n",
       "6. 'from_CSNK2A1'\n",
       "7. 'from_PRKACA'\n",
       "8. 'from_PRKCE'\n",
       "9. 'from_SLC9A3R1'\n",
       "10. 'from_SLC9A3R2'\n",
       "11. 'from_SYK'\n",
       "12. 'from_TRADD'\n",
       "13. 'Gene'\n",
       "\n",
       "\n"
      ],
      "text/plain": [
       " [1] \"from_ADORA2B\"  \"from_CAPN1\"    \"from_CAPNS1\"   \"from_CAV1\"    \n",
       " [5] \"from_CAV2\"     \"from_CSNK2A1\"  \"from_PRKACA\"   \"from_PRKCE\"   \n",
       " [9] \"from_SLC9A3R1\" \"from_SLC9A3R2\" \"from_SYK\"      \"from_TRADD\"   \n",
       "[13] \"Gene\"         "
      ]
     },
     "metadata": {},
     "output_type": "display_data"
    }
   ],
   "source": [
    "colnames(CF_PPI_network.pruned.dm_from_CFTR_interactors)"
   ]
  },
  {
   "cell_type": "code",
   "execution_count": 40,
   "id": "453c86ef-a77a-4849-a634-e984ae2d4b95",
   "metadata": {},
   "outputs": [],
   "source": [
    "dm_CF_NCF_Genes_in_CF_network.dm_CF_NCF_df$min_distance_to_CFTR_interactor <- apply(dm_CF_NCF_Genes_in_CF_network.dm_CF_NCF_df[,colnames(CF_PPI_network.pruned.dm_from_CFTR_interactors)],\n",
    "      1,\n",
    "       FUN = function(x) {return(min(x, finite=T))})"
   ]
  },
  {
   "cell_type": "code",
   "execution_count": 41,
   "id": "9ec3e4e4-f828-4dfa-b1b5-05cf3f8efa6c",
   "metadata": {},
   "outputs": [
    {
     "data": {
      "text/html": [
       "<table class=\"dataframe\">\n",
       "<caption>A data.frame: 11 × 25</caption>\n",
       "<thead>\n",
       "\t<tr><th scope=col>Gene</th><th scope=col>Probe ID</th><th scope=col>p-value</th><th scope=col>Median_CF_patients</th><th scope=col>Median_Controls</th><th scope=col>Genomic location</th><th scope=col>Island status</th><th scope=col>*Enhancer</th><th scope=col>CpG_pvalue_rank_</th><th scope=col>abs_change</th><th scope=col>⋯</th><th scope=col>from_CAV1</th><th scope=col>from_CAV2</th><th scope=col>from_CSNK2A1</th><th scope=col>from_PRKACA</th><th scope=col>from_PRKCE</th><th scope=col>from_SLC9A3R1</th><th scope=col>from_SLC9A3R2</th><th scope=col>from_SYK</th><th scope=col>from_TRADD</th><th scope=col>min_distance_to_CFTR_interactor</th></tr>\n",
       "\t<tr><th scope=col>&lt;chr&gt;</th><th scope=col>&lt;chr&gt;</th><th scope=col>&lt;dbl&gt;</th><th scope=col>&lt;dbl&gt;</th><th scope=col>&lt;dbl&gt;</th><th scope=col>&lt;chr&gt;</th><th scope=col>&lt;chr&gt;</th><th scope=col>&lt;lgl&gt;</th><th scope=col>&lt;int&gt;</th><th scope=col>&lt;dbl&gt;</th><th scope=col>⋯</th><th scope=col>&lt;dbl&gt;</th><th scope=col>&lt;dbl&gt;</th><th scope=col>&lt;dbl&gt;</th><th scope=col>&lt;dbl&gt;</th><th scope=col>&lt;dbl&gt;</th><th scope=col>&lt;dbl&gt;</th><th scope=col>&lt;dbl&gt;</th><th scope=col>&lt;dbl&gt;</th><th scope=col>&lt;dbl&gt;</th><th scope=col>&lt;chr&gt;</th></tr>\n",
       "</thead>\n",
       "<tbody>\n",
       "\t<tr><td>AKT3    </td><td>cg04221461</td><td>2.2e-03</td><td>0.46</td><td>0.56</td><td>Body</td><td>Open sea</td><td>FALSE</td><td> 613</td><td>0.10</td><td>⋯</td><td>Inf</td><td>Inf</td><td>Inf</td><td>Inf</td><td>Inf</td><td>Inf</td><td>Inf</td><td>  5</td><td>  3</td><td>  3</td></tr>\n",
       "\t<tr><td>BAIAP2  </td><td>cg02026049</td><td>7.9e-03</td><td>0.65</td><td>0.76</td><td>Body</td><td>N_Shelf </td><td>FALSE</td><td>1123</td><td>0.11</td><td>⋯</td><td>Inf</td><td>Inf</td><td>Inf</td><td>Inf</td><td>Inf</td><td>Inf</td><td>Inf</td><td>  6</td><td>  5</td><td>  5</td></tr>\n",
       "\t<tr><td>CBLB    </td><td>cg18984715</td><td>1.2e-03</td><td>0.79</td><td>0.67</td><td>Body</td><td>Open sea</td><td> TRUE</td><td> 441</td><td>0.12</td><td>⋯</td><td>Inf</td><td>Inf</td><td>Inf</td><td>Inf</td><td>Inf</td><td>Inf</td><td>Inf</td><td>Inf</td><td>Inf</td><td>1  </td></tr>\n",
       "\t<tr><td>DIAPH3  </td><td>cg01899581</td><td>9.0e-05</td><td>0.64</td><td>0.47</td><td>Body</td><td>N_Shelf </td><td>FALSE</td><td>  53</td><td>0.17</td><td>⋯</td><td>Inf</td><td>Inf</td><td>Inf</td><td>Inf</td><td>Inf</td><td>Inf</td><td>Inf</td><td>  9</td><td>  8</td><td>  8</td></tr>\n",
       "\t<tr><td>EZR     </td><td>cg13433729</td><td>1.2e-06</td><td>0.61</td><td>0.49</td><td>Body</td><td>Open sea</td><td> TRUE</td><td>   2</td><td>0.12</td><td>⋯</td><td>Inf</td><td>Inf</td><td>Inf</td><td>  6</td><td>  1</td><td>Inf</td><td>Inf</td><td>  6</td><td>  7</td><td>  1</td></tr>\n",
       "\t<tr><td>ITPR1   </td><td>cg22240998</td><td>1.1e-03</td><td>0.60</td><td>0.50</td><td>Body</td><td>Open sea</td><td> TRUE</td><td> 420</td><td>0.10</td><td>⋯</td><td>Inf</td><td>Inf</td><td>Inf</td><td>Inf</td><td>Inf</td><td>Inf</td><td>Inf</td><td>  2</td><td>  4</td><td>  2</td></tr>\n",
       "\t<tr><td>MAP2K1  </td><td>cg21070009</td><td>4.1e-03</td><td>0.48</td><td>0.35</td><td>Body</td><td>Open sea</td><td> TRUE</td><td> 852</td><td>0.13</td><td>⋯</td><td>Inf</td><td>Inf</td><td>Inf</td><td>  2</td><td>  4</td><td>Inf</td><td>Inf</td><td>  4</td><td>  3</td><td>  2</td></tr>\n",
       "\t<tr><td>NFATC1  </td><td>cg11321921</td><td>5.5e-04</td><td>0.78</td><td>0.91</td><td>Body</td><td>Island  </td><td>FALSE</td><td> 240</td><td>0.13</td><td>⋯</td><td>Inf</td><td>Inf</td><td>Inf</td><td>Inf</td><td>Inf</td><td>Inf</td><td>Inf</td><td>  3</td><td>  5</td><td>  3</td></tr>\n",
       "\t<tr><td>NFATC1  </td><td>cg05687091</td><td>6.1e-04</td><td>0.54</td><td>0.64</td><td>Body</td><td>Island  </td><td>FALSE</td><td> 257</td><td>0.10</td><td>⋯</td><td>Inf</td><td>Inf</td><td>Inf</td><td>Inf</td><td>Inf</td><td>Inf</td><td>Inf</td><td>  3</td><td>  5</td><td>  3</td></tr>\n",
       "\t<tr><td>PLCG2   </td><td>cg07671055</td><td>5.6e-03</td><td>0.48</td><td>0.59</td><td>Body</td><td>Open sea</td><td>FALSE</td><td> 952</td><td>0.11</td><td>⋯</td><td>Inf</td><td>Inf</td><td>Inf</td><td>Inf</td><td>Inf</td><td>Inf</td><td>Inf</td><td>  1</td><td>  3</td><td>  1</td></tr>\n",
       "\t<tr><td>TNFRSF1A</td><td>cg23752651</td><td>9.5e-04</td><td>0.58</td><td>0.70</td><td>Body</td><td>Open sea</td><td>FALSE</td><td> 374</td><td>0.12</td><td>⋯</td><td>Inf</td><td>Inf</td><td>Inf</td><td>Inf</td><td>Inf</td><td>Inf</td><td>Inf</td><td>Inf</td><td>Inf</td><td>1  </td></tr>\n",
       "</tbody>\n",
       "</table>\n"
      ],
      "text/latex": [
       "A data.frame: 11 × 25\n",
       "\\begin{tabular}{lllllllllllllllllllll}\n",
       " Gene & Probe ID & p-value & Median\\_CF\\_patients & Median\\_Controls & Genomic location & Island status & *Enhancer & CpG\\_pvalue\\_rank\\_ & abs\\_change & ⋯ & from\\_CAV1 & from\\_CAV2 & from\\_CSNK2A1 & from\\_PRKACA & from\\_PRKCE & from\\_SLC9A3R1 & from\\_SLC9A3R2 & from\\_SYK & from\\_TRADD & min\\_distance\\_to\\_CFTR\\_interactor\\\\\n",
       " <chr> & <chr> & <dbl> & <dbl> & <dbl> & <chr> & <chr> & <lgl> & <int> & <dbl> & ⋯ & <dbl> & <dbl> & <dbl> & <dbl> & <dbl> & <dbl> & <dbl> & <dbl> & <dbl> & <chr>\\\\\n",
       "\\hline\n",
       "\t AKT3     & cg04221461 & 2.2e-03 & 0.46 & 0.56 & Body & Open sea & FALSE &  613 & 0.10 & ⋯ & Inf & Inf & Inf & Inf & Inf & Inf & Inf &   5 &   3 &   3\\\\\n",
       "\t BAIAP2   & cg02026049 & 7.9e-03 & 0.65 & 0.76 & Body & N\\_Shelf  & FALSE & 1123 & 0.11 & ⋯ & Inf & Inf & Inf & Inf & Inf & Inf & Inf &   6 &   5 &   5\\\\\n",
       "\t CBLB     & cg18984715 & 1.2e-03 & 0.79 & 0.67 & Body & Open sea &  TRUE &  441 & 0.12 & ⋯ & Inf & Inf & Inf & Inf & Inf & Inf & Inf & Inf & Inf & 1  \\\\\n",
       "\t DIAPH3   & cg01899581 & 9.0e-05 & 0.64 & 0.47 & Body & N\\_Shelf  & FALSE &   53 & 0.17 & ⋯ & Inf & Inf & Inf & Inf & Inf & Inf & Inf &   9 &   8 &   8\\\\\n",
       "\t EZR      & cg13433729 & 1.2e-06 & 0.61 & 0.49 & Body & Open sea &  TRUE &    2 & 0.12 & ⋯ & Inf & Inf & Inf &   6 &   1 & Inf & Inf &   6 &   7 &   1\\\\\n",
       "\t ITPR1    & cg22240998 & 1.1e-03 & 0.60 & 0.50 & Body & Open sea &  TRUE &  420 & 0.10 & ⋯ & Inf & Inf & Inf & Inf & Inf & Inf & Inf &   2 &   4 &   2\\\\\n",
       "\t MAP2K1   & cg21070009 & 4.1e-03 & 0.48 & 0.35 & Body & Open sea &  TRUE &  852 & 0.13 & ⋯ & Inf & Inf & Inf &   2 &   4 & Inf & Inf &   4 &   3 &   2\\\\\n",
       "\t NFATC1   & cg11321921 & 5.5e-04 & 0.78 & 0.91 & Body & Island   & FALSE &  240 & 0.13 & ⋯ & Inf & Inf & Inf & Inf & Inf & Inf & Inf &   3 &   5 &   3\\\\\n",
       "\t NFATC1   & cg05687091 & 6.1e-04 & 0.54 & 0.64 & Body & Island   & FALSE &  257 & 0.10 & ⋯ & Inf & Inf & Inf & Inf & Inf & Inf & Inf &   3 &   5 &   3\\\\\n",
       "\t PLCG2    & cg07671055 & 5.6e-03 & 0.48 & 0.59 & Body & Open sea & FALSE &  952 & 0.11 & ⋯ & Inf & Inf & Inf & Inf & Inf & Inf & Inf &   1 &   3 &   1\\\\\n",
       "\t TNFRSF1A & cg23752651 & 9.5e-04 & 0.58 & 0.70 & Body & Open sea & FALSE &  374 & 0.12 & ⋯ & Inf & Inf & Inf & Inf & Inf & Inf & Inf & Inf & Inf & 1  \\\\\n",
       "\\end{tabular}\n"
      ],
      "text/markdown": [
       "\n",
       "A data.frame: 11 × 25\n",
       "\n",
       "| Gene &lt;chr&gt; | Probe ID &lt;chr&gt; | p-value &lt;dbl&gt; | Median_CF_patients &lt;dbl&gt; | Median_Controls &lt;dbl&gt; | Genomic location &lt;chr&gt; | Island status &lt;chr&gt; | *Enhancer &lt;lgl&gt; | CpG_pvalue_rank_ &lt;int&gt; | abs_change &lt;dbl&gt; | ⋯ ⋯ | from_CAV1 &lt;dbl&gt; | from_CAV2 &lt;dbl&gt; | from_CSNK2A1 &lt;dbl&gt; | from_PRKACA &lt;dbl&gt; | from_PRKCE &lt;dbl&gt; | from_SLC9A3R1 &lt;dbl&gt; | from_SLC9A3R2 &lt;dbl&gt; | from_SYK &lt;dbl&gt; | from_TRADD &lt;dbl&gt; | min_distance_to_CFTR_interactor &lt;chr&gt; |\n",
       "|---|---|---|---|---|---|---|---|---|---|---|---|---|---|---|---|---|---|---|---|---|\n",
       "| AKT3     | cg04221461 | 2.2e-03 | 0.46 | 0.56 | Body | Open sea | FALSE |  613 | 0.10 | ⋯ | Inf | Inf | Inf | Inf | Inf | Inf | Inf |   5 |   3 |   3 |\n",
       "| BAIAP2   | cg02026049 | 7.9e-03 | 0.65 | 0.76 | Body | N_Shelf  | FALSE | 1123 | 0.11 | ⋯ | Inf | Inf | Inf | Inf | Inf | Inf | Inf |   6 |   5 |   5 |\n",
       "| CBLB     | cg18984715 | 1.2e-03 | 0.79 | 0.67 | Body | Open sea |  TRUE |  441 | 0.12 | ⋯ | Inf | Inf | Inf | Inf | Inf | Inf | Inf | Inf | Inf | 1   |\n",
       "| DIAPH3   | cg01899581 | 9.0e-05 | 0.64 | 0.47 | Body | N_Shelf  | FALSE |   53 | 0.17 | ⋯ | Inf | Inf | Inf | Inf | Inf | Inf | Inf |   9 |   8 |   8 |\n",
       "| EZR      | cg13433729 | 1.2e-06 | 0.61 | 0.49 | Body | Open sea |  TRUE |    2 | 0.12 | ⋯ | Inf | Inf | Inf |   6 |   1 | Inf | Inf |   6 |   7 |   1 |\n",
       "| ITPR1    | cg22240998 | 1.1e-03 | 0.60 | 0.50 | Body | Open sea |  TRUE |  420 | 0.10 | ⋯ | Inf | Inf | Inf | Inf | Inf | Inf | Inf |   2 |   4 |   2 |\n",
       "| MAP2K1   | cg21070009 | 4.1e-03 | 0.48 | 0.35 | Body | Open sea |  TRUE |  852 | 0.13 | ⋯ | Inf | Inf | Inf |   2 |   4 | Inf | Inf |   4 |   3 |   2 |\n",
       "| NFATC1   | cg11321921 | 5.5e-04 | 0.78 | 0.91 | Body | Island   | FALSE |  240 | 0.13 | ⋯ | Inf | Inf | Inf | Inf | Inf | Inf | Inf |   3 |   5 |   3 |\n",
       "| NFATC1   | cg05687091 | 6.1e-04 | 0.54 | 0.64 | Body | Island   | FALSE |  257 | 0.10 | ⋯ | Inf | Inf | Inf | Inf | Inf | Inf | Inf |   3 |   5 |   3 |\n",
       "| PLCG2    | cg07671055 | 5.6e-03 | 0.48 | 0.59 | Body | Open sea | FALSE |  952 | 0.11 | ⋯ | Inf | Inf | Inf | Inf | Inf | Inf | Inf |   1 |   3 |   1 |\n",
       "| TNFRSF1A | cg23752651 | 9.5e-04 | 0.58 | 0.70 | Body | Open sea | FALSE |  374 | 0.12 | ⋯ | Inf | Inf | Inf | Inf | Inf | Inf | Inf | Inf | Inf | 1   |\n",
       "\n"
      ],
      "text/plain": [
       "   Gene     Probe ID   p-value Median_CF_patients Median_Controls\n",
       "1  AKT3     cg04221461 2.2e-03 0.46               0.56           \n",
       "2  BAIAP2   cg02026049 7.9e-03 0.65               0.76           \n",
       "3  CBLB     cg18984715 1.2e-03 0.79               0.67           \n",
       "4  DIAPH3   cg01899581 9.0e-05 0.64               0.47           \n",
       "5  EZR      cg13433729 1.2e-06 0.61               0.49           \n",
       "6  ITPR1    cg22240998 1.1e-03 0.60               0.50           \n",
       "7  MAP2K1   cg21070009 4.1e-03 0.48               0.35           \n",
       "8  NFATC1   cg11321921 5.5e-04 0.78               0.91           \n",
       "9  NFATC1   cg05687091 6.1e-04 0.54               0.64           \n",
       "10 PLCG2    cg07671055 5.6e-03 0.48               0.59           \n",
       "11 TNFRSF1A cg23752651 9.5e-04 0.58               0.70           \n",
       "   Genomic location Island status *Enhancer CpG_pvalue_rank_ abs_change ⋯\n",
       "1  Body             Open sea      FALSE      613             0.10       ⋯\n",
       "2  Body             N_Shelf       FALSE     1123             0.11       ⋯\n",
       "3  Body             Open sea       TRUE      441             0.12       ⋯\n",
       "4  Body             N_Shelf       FALSE       53             0.17       ⋯\n",
       "5  Body             Open sea       TRUE        2             0.12       ⋯\n",
       "6  Body             Open sea       TRUE      420             0.10       ⋯\n",
       "7  Body             Open sea       TRUE      852             0.13       ⋯\n",
       "8  Body             Island        FALSE      240             0.13       ⋯\n",
       "9  Body             Island        FALSE      257             0.10       ⋯\n",
       "10 Body             Open sea      FALSE      952             0.11       ⋯\n",
       "11 Body             Open sea      FALSE      374             0.12       ⋯\n",
       "   from_CAV1 from_CAV2 from_CSNK2A1 from_PRKACA from_PRKCE from_SLC9A3R1\n",
       "1  Inf       Inf       Inf          Inf         Inf        Inf          \n",
       "2  Inf       Inf       Inf          Inf         Inf        Inf          \n",
       "3  Inf       Inf       Inf          Inf         Inf        Inf          \n",
       "4  Inf       Inf       Inf          Inf         Inf        Inf          \n",
       "5  Inf       Inf       Inf            6           1        Inf          \n",
       "6  Inf       Inf       Inf          Inf         Inf        Inf          \n",
       "7  Inf       Inf       Inf            2           4        Inf          \n",
       "8  Inf       Inf       Inf          Inf         Inf        Inf          \n",
       "9  Inf       Inf       Inf          Inf         Inf        Inf          \n",
       "10 Inf       Inf       Inf          Inf         Inf        Inf          \n",
       "11 Inf       Inf       Inf          Inf         Inf        Inf          \n",
       "   from_SLC9A3R2 from_SYK from_TRADD min_distance_to_CFTR_interactor\n",
       "1  Inf             5        3          3                            \n",
       "2  Inf             6        5          5                            \n",
       "3  Inf           Inf      Inf        1                              \n",
       "4  Inf             9        8          8                            \n",
       "5  Inf             6        7          1                            \n",
       "6  Inf             2        4          2                            \n",
       "7  Inf             4        3          2                            \n",
       "8  Inf             3        5          3                            \n",
       "9  Inf             3        5          3                            \n",
       "10 Inf             1        3          1                            \n",
       "11 Inf           Inf      Inf        1                              "
      ]
     },
     "metadata": {},
     "output_type": "display_data"
    }
   ],
   "source": [
    "dm_CF_NCF_Genes_in_CF_network.dm_CF_NCF_df"
   ]
  },
  {
   "cell_type": "markdown",
   "id": "ecf310e1-4482-4def-8f90-facd34478231",
   "metadata": {},
   "source": [
    "### 2.3.2 Distance to source nodes"
   ]
  },
  {
   "cell_type": "code",
   "execution_count": 44,
   "id": "d8c00970-ae02-4233-9f2f-a12d80dea88f",
   "metadata": {},
   "outputs": [],
   "source": [
    "source_nodes_not_CFTR_interactors <- source_nodes[!source_nodes %in% CFTR_interactors]"
   ]
  },
  {
   "cell_type": "code",
   "execution_count": 45,
   "id": "fbc591a7-c7f2-498e-b380-40de4ddd70d6",
   "metadata": {},
   "outputs": [
    {
     "data": {
      "text/html": [
       "<style>\n",
       ".list-inline {list-style: none; margin:0; padding: 0}\n",
       ".list-inline>li {display: inline-block}\n",
       ".list-inline>li:not(:last-child)::after {content: \"\\00b7\"; padding: 0 .5ex}\n",
       "</style>\n",
       "<ol class=list-inline><li>'SRC'</li><li>'PLCB1'</li><li>'PLCB3'</li><li>'EZR'</li></ol>\n"
      ],
      "text/latex": [
       "\\begin{enumerate*}\n",
       "\\item 'SRC'\n",
       "\\item 'PLCB1'\n",
       "\\item 'PLCB3'\n",
       "\\item 'EZR'\n",
       "\\end{enumerate*}\n"
      ],
      "text/markdown": [
       "1. 'SRC'\n",
       "2. 'PLCB1'\n",
       "3. 'PLCB3'\n",
       "4. 'EZR'\n",
       "\n",
       "\n"
      ],
      "text/plain": [
       "[1] \"SRC\"   \"PLCB1\" \"PLCB3\" \"EZR\"  "
      ]
     },
     "metadata": {},
     "output_type": "display_data"
    }
   ],
   "source": [
    "source_nodes_not_CFTR_interactors"
   ]
  },
  {
   "cell_type": "code",
   "execution_count": 46,
   "id": "d4fb6654-c931-44ed-a473-e6efbe491ad7",
   "metadata": {},
   "outputs": [],
   "source": [
    "### Source nodes to diff methylated\n",
    "CF_PPI_network.pruned.dm_from_source_nodes <- data.frame(t(CF_PPI_network.pruned.dists[source_nodes_not_CFTR_interactors, dm_CF_NCF_Genes_in_CF_network.list]))\n",
    "colnames(CF_PPI_network.pruned.dm_from_source_nodes) <- paste(\"from_\",\n",
    "                                                              colnames(CF_PPI_network.pruned.dm_from_source_nodes),\n",
    "                                                              sep = \"\")"
   ]
  },
  {
   "cell_type": "code",
   "execution_count": 47,
   "id": "cbb48ef6-c5f7-4a08-883e-e526c5a1a9fd",
   "metadata": {},
   "outputs": [
    {
     "data": {
      "text/html": [
       "<style>\n",
       ".list-inline {list-style: none; margin:0; padding: 0}\n",
       ".list-inline>li {display: inline-block}\n",
       ".list-inline>li:not(:last-child)::after {content: \"\\00b7\"; padding: 0 .5ex}\n",
       "</style>\n",
       "<ol class=list-inline><li>'EZR'</li><li>'DIAPH3'</li><li>'NFATC1'</li><li>'TNFRSF1A'</li><li>'ITPR1'</li><li>'CBLB'</li><li>'AKT3'</li><li>'MAP2K1'</li><li>'PLCG2'</li><li>'BAIAP2'</li></ol>\n"
      ],
      "text/latex": [
       "\\begin{enumerate*}\n",
       "\\item 'EZR'\n",
       "\\item 'DIAPH3'\n",
       "\\item 'NFATC1'\n",
       "\\item 'TNFRSF1A'\n",
       "\\item 'ITPR1'\n",
       "\\item 'CBLB'\n",
       "\\item 'AKT3'\n",
       "\\item 'MAP2K1'\n",
       "\\item 'PLCG2'\n",
       "\\item 'BAIAP2'\n",
       "\\end{enumerate*}\n"
      ],
      "text/markdown": [
       "1. 'EZR'\n",
       "2. 'DIAPH3'\n",
       "3. 'NFATC1'\n",
       "4. 'TNFRSF1A'\n",
       "5. 'ITPR1'\n",
       "6. 'CBLB'\n",
       "7. 'AKT3'\n",
       "8. 'MAP2K1'\n",
       "9. 'PLCG2'\n",
       "10. 'BAIAP2'\n",
       "\n",
       "\n"
      ],
      "text/plain": [
       " [1] \"EZR\"      \"DIAPH3\"   \"NFATC1\"   \"TNFRSF1A\" \"ITPR1\"    \"CBLB\"    \n",
       " [7] \"AKT3\"     \"MAP2K1\"   \"PLCG2\"    \"BAIAP2\"  "
      ]
     },
     "metadata": {},
     "output_type": "display_data"
    }
   ],
   "source": [
    "rownames(CF_PPI_network.pruned.dm_from_source_nodes)"
   ]
  },
  {
   "cell_type": "code",
   "execution_count": 48,
   "id": "c5689530-5779-4cbb-a0dd-09cde00e079c",
   "metadata": {},
   "outputs": [],
   "source": [
    "CF_PPI_network.pruned.dm_from_source_nodes['Gene'] <- rownames(CF_PPI_network.pruned.dm_from_source_nodes)\n",
    "rownames(CF_PPI_network.pruned.dm_from_source_nodes) <- NULL"
   ]
  },
  {
   "cell_type": "code",
   "execution_count": 49,
   "id": "1c0890ed-36cf-412c-bbdd-84ff858b617e",
   "metadata": {},
   "outputs": [
    {
     "data": {
      "text/html": [
       "<table class=\"dataframe\">\n",
       "<caption>A data.frame: 11 × 29</caption>\n",
       "<thead>\n",
       "\t<tr><th scope=col>Gene</th><th scope=col>Probe ID</th><th scope=col>p-value</th><th scope=col>Median_CF_patients</th><th scope=col>Median_Controls</th><th scope=col>Genomic location</th><th scope=col>Island status</th><th scope=col>*Enhancer</th><th scope=col>CpG_pvalue_rank_</th><th scope=col>abs_change</th><th scope=col>⋯</th><th scope=col>from_PRKCE</th><th scope=col>from_SLC9A3R1</th><th scope=col>from_SLC9A3R2</th><th scope=col>from_SYK</th><th scope=col>from_TRADD</th><th scope=col>min_distance_to_CFTR_interactor</th><th scope=col>from_SRC</th><th scope=col>from_PLCB1</th><th scope=col>from_PLCB3</th><th scope=col>from_EZR</th></tr>\n",
       "\t<tr><th scope=col>&lt;chr&gt;</th><th scope=col>&lt;chr&gt;</th><th scope=col>&lt;dbl&gt;</th><th scope=col>&lt;dbl&gt;</th><th scope=col>&lt;dbl&gt;</th><th scope=col>&lt;chr&gt;</th><th scope=col>&lt;chr&gt;</th><th scope=col>&lt;lgl&gt;</th><th scope=col>&lt;int&gt;</th><th scope=col>&lt;dbl&gt;</th><th scope=col>⋯</th><th scope=col>&lt;dbl&gt;</th><th scope=col>&lt;dbl&gt;</th><th scope=col>&lt;dbl&gt;</th><th scope=col>&lt;dbl&gt;</th><th scope=col>&lt;dbl&gt;</th><th scope=col>&lt;chr&gt;</th><th scope=col>&lt;dbl&gt;</th><th scope=col>&lt;dbl&gt;</th><th scope=col>&lt;dbl&gt;</th><th scope=col>&lt;dbl&gt;</th></tr>\n",
       "</thead>\n",
       "<tbody>\n",
       "\t<tr><td>AKT3    </td><td>cg04221461</td><td>2.2e-03</td><td>0.46</td><td>0.56</td><td>Body</td><td>Open sea</td><td>FALSE</td><td> 613</td><td>0.10</td><td>⋯</td><td>Inf</td><td>Inf</td><td>Inf</td><td>  5</td><td>  3</td><td>  3</td><td>  2</td><td>  7</td><td>  7</td><td>Inf</td></tr>\n",
       "\t<tr><td>BAIAP2  </td><td>cg02026049</td><td>7.9e-03</td><td>0.65</td><td>0.76</td><td>Body</td><td>N_Shelf </td><td>FALSE</td><td>1123</td><td>0.11</td><td>⋯</td><td>Inf</td><td>Inf</td><td>Inf</td><td>  6</td><td>  5</td><td>  5</td><td>  4</td><td>  9</td><td>  9</td><td>Inf</td></tr>\n",
       "\t<tr><td>CBLB    </td><td>cg18984715</td><td>1.2e-03</td><td>0.79</td><td>0.67</td><td>Body</td><td>Open sea</td><td> TRUE</td><td> 441</td><td>0.12</td><td>⋯</td><td>Inf</td><td>Inf</td><td>Inf</td><td>Inf</td><td>Inf</td><td>1  </td><td>Inf</td><td>Inf</td><td>Inf</td><td>Inf</td></tr>\n",
       "\t<tr><td>DIAPH3  </td><td>cg01899581</td><td>9.0e-05</td><td>0.64</td><td>0.47</td><td>Body</td><td>N_Shelf </td><td>FALSE</td><td>  53</td><td>0.17</td><td>⋯</td><td>Inf</td><td>Inf</td><td>Inf</td><td>  9</td><td>  8</td><td>  8</td><td>  7</td><td> 12</td><td> 12</td><td>Inf</td></tr>\n",
       "\t<tr><td>EZR     </td><td>cg13433729</td><td>1.2e-06</td><td>0.61</td><td>0.49</td><td>Body</td><td>Open sea</td><td> TRUE</td><td>   2</td><td>0.12</td><td>⋯</td><td>  1</td><td>Inf</td><td>Inf</td><td>  6</td><td>  7</td><td>  1</td><td>  5</td><td>  5</td><td>  5</td><td>  0</td></tr>\n",
       "\t<tr><td>ITPR1   </td><td>cg22240998</td><td>1.1e-03</td><td>0.60</td><td>0.50</td><td>Body</td><td>Open sea</td><td> TRUE</td><td> 420</td><td>0.10</td><td>⋯</td><td>Inf</td><td>Inf</td><td>Inf</td><td>  2</td><td>  4</td><td>  2</td><td> 10</td><td>  1</td><td>  1</td><td>Inf</td></tr>\n",
       "\t<tr><td>MAP2K1  </td><td>cg21070009</td><td>4.1e-03</td><td>0.48</td><td>0.35</td><td>Body</td><td>Open sea</td><td> TRUE</td><td> 852</td><td>0.13</td><td>⋯</td><td>  4</td><td>Inf</td><td>Inf</td><td>  4</td><td>  3</td><td>  2</td><td>  2</td><td>  5</td><td>  5</td><td>  3</td></tr>\n",
       "\t<tr><td>NFATC1  </td><td>cg11321921</td><td>5.5e-04</td><td>0.78</td><td>0.91</td><td>Body</td><td>Island  </td><td>FALSE</td><td> 240</td><td>0.13</td><td>⋯</td><td>Inf</td><td>Inf</td><td>Inf</td><td>  3</td><td>  5</td><td>  3</td><td>  4</td><td>  4</td><td>  4</td><td>Inf</td></tr>\n",
       "\t<tr><td>NFATC1  </td><td>cg05687091</td><td>6.1e-04</td><td>0.54</td><td>0.64</td><td>Body</td><td>Island  </td><td>FALSE</td><td> 257</td><td>0.10</td><td>⋯</td><td>Inf</td><td>Inf</td><td>Inf</td><td>  3</td><td>  5</td><td>  3</td><td>  4</td><td>  4</td><td>  4</td><td>Inf</td></tr>\n",
       "\t<tr><td>PLCG2   </td><td>cg07671055</td><td>5.6e-03</td><td>0.48</td><td>0.59</td><td>Body</td><td>Open sea</td><td>FALSE</td><td> 952</td><td>0.11</td><td>⋯</td><td>Inf</td><td>Inf</td><td>Inf</td><td>  1</td><td>  3</td><td>  1</td><td>  9</td><td>  6</td><td>  6</td><td>Inf</td></tr>\n",
       "\t<tr><td>TNFRSF1A</td><td>cg23752651</td><td>9.5e-04</td><td>0.58</td><td>0.70</td><td>Body</td><td>Open sea</td><td>FALSE</td><td> 374</td><td>0.12</td><td>⋯</td><td>Inf</td><td>Inf</td><td>Inf</td><td>Inf</td><td>Inf</td><td>1  </td><td>Inf</td><td>Inf</td><td>Inf</td><td>Inf</td></tr>\n",
       "</tbody>\n",
       "</table>\n"
      ],
      "text/latex": [
       "A data.frame: 11 × 29\n",
       "\\begin{tabular}{lllllllllllllllllllll}\n",
       " Gene & Probe ID & p-value & Median\\_CF\\_patients & Median\\_Controls & Genomic location & Island status & *Enhancer & CpG\\_pvalue\\_rank\\_ & abs\\_change & ⋯ & from\\_PRKCE & from\\_SLC9A3R1 & from\\_SLC9A3R2 & from\\_SYK & from\\_TRADD & min\\_distance\\_to\\_CFTR\\_interactor & from\\_SRC & from\\_PLCB1 & from\\_PLCB3 & from\\_EZR\\\\\n",
       " <chr> & <chr> & <dbl> & <dbl> & <dbl> & <chr> & <chr> & <lgl> & <int> & <dbl> & ⋯ & <dbl> & <dbl> & <dbl> & <dbl> & <dbl> & <chr> & <dbl> & <dbl> & <dbl> & <dbl>\\\\\n",
       "\\hline\n",
       "\t AKT3     & cg04221461 & 2.2e-03 & 0.46 & 0.56 & Body & Open sea & FALSE &  613 & 0.10 & ⋯ & Inf & Inf & Inf &   5 &   3 &   3 &   2 &   7 &   7 & Inf\\\\\n",
       "\t BAIAP2   & cg02026049 & 7.9e-03 & 0.65 & 0.76 & Body & N\\_Shelf  & FALSE & 1123 & 0.11 & ⋯ & Inf & Inf & Inf &   6 &   5 &   5 &   4 &   9 &   9 & Inf\\\\\n",
       "\t CBLB     & cg18984715 & 1.2e-03 & 0.79 & 0.67 & Body & Open sea &  TRUE &  441 & 0.12 & ⋯ & Inf & Inf & Inf & Inf & Inf & 1   & Inf & Inf & Inf & Inf\\\\\n",
       "\t DIAPH3   & cg01899581 & 9.0e-05 & 0.64 & 0.47 & Body & N\\_Shelf  & FALSE &   53 & 0.17 & ⋯ & Inf & Inf & Inf &   9 &   8 &   8 &   7 &  12 &  12 & Inf\\\\\n",
       "\t EZR      & cg13433729 & 1.2e-06 & 0.61 & 0.49 & Body & Open sea &  TRUE &    2 & 0.12 & ⋯ &   1 & Inf & Inf &   6 &   7 &   1 &   5 &   5 &   5 &   0\\\\\n",
       "\t ITPR1    & cg22240998 & 1.1e-03 & 0.60 & 0.50 & Body & Open sea &  TRUE &  420 & 0.10 & ⋯ & Inf & Inf & Inf &   2 &   4 &   2 &  10 &   1 &   1 & Inf\\\\\n",
       "\t MAP2K1   & cg21070009 & 4.1e-03 & 0.48 & 0.35 & Body & Open sea &  TRUE &  852 & 0.13 & ⋯ &   4 & Inf & Inf &   4 &   3 &   2 &   2 &   5 &   5 &   3\\\\\n",
       "\t NFATC1   & cg11321921 & 5.5e-04 & 0.78 & 0.91 & Body & Island   & FALSE &  240 & 0.13 & ⋯ & Inf & Inf & Inf &   3 &   5 &   3 &   4 &   4 &   4 & Inf\\\\\n",
       "\t NFATC1   & cg05687091 & 6.1e-04 & 0.54 & 0.64 & Body & Island   & FALSE &  257 & 0.10 & ⋯ & Inf & Inf & Inf &   3 &   5 &   3 &   4 &   4 &   4 & Inf\\\\\n",
       "\t PLCG2    & cg07671055 & 5.6e-03 & 0.48 & 0.59 & Body & Open sea & FALSE &  952 & 0.11 & ⋯ & Inf & Inf & Inf &   1 &   3 &   1 &   9 &   6 &   6 & Inf\\\\\n",
       "\t TNFRSF1A & cg23752651 & 9.5e-04 & 0.58 & 0.70 & Body & Open sea & FALSE &  374 & 0.12 & ⋯ & Inf & Inf & Inf & Inf & Inf & 1   & Inf & Inf & Inf & Inf\\\\\n",
       "\\end{tabular}\n"
      ],
      "text/markdown": [
       "\n",
       "A data.frame: 11 × 29\n",
       "\n",
       "| Gene &lt;chr&gt; | Probe ID &lt;chr&gt; | p-value &lt;dbl&gt; | Median_CF_patients &lt;dbl&gt; | Median_Controls &lt;dbl&gt; | Genomic location &lt;chr&gt; | Island status &lt;chr&gt; | *Enhancer &lt;lgl&gt; | CpG_pvalue_rank_ &lt;int&gt; | abs_change &lt;dbl&gt; | ⋯ ⋯ | from_PRKCE &lt;dbl&gt; | from_SLC9A3R1 &lt;dbl&gt; | from_SLC9A3R2 &lt;dbl&gt; | from_SYK &lt;dbl&gt; | from_TRADD &lt;dbl&gt; | min_distance_to_CFTR_interactor &lt;chr&gt; | from_SRC &lt;dbl&gt; | from_PLCB1 &lt;dbl&gt; | from_PLCB3 &lt;dbl&gt; | from_EZR &lt;dbl&gt; |\n",
       "|---|---|---|---|---|---|---|---|---|---|---|---|---|---|---|---|---|---|---|---|---|\n",
       "| AKT3     | cg04221461 | 2.2e-03 | 0.46 | 0.56 | Body | Open sea | FALSE |  613 | 0.10 | ⋯ | Inf | Inf | Inf |   5 |   3 |   3 |   2 |   7 |   7 | Inf |\n",
       "| BAIAP2   | cg02026049 | 7.9e-03 | 0.65 | 0.76 | Body | N_Shelf  | FALSE | 1123 | 0.11 | ⋯ | Inf | Inf | Inf |   6 |   5 |   5 |   4 |   9 |   9 | Inf |\n",
       "| CBLB     | cg18984715 | 1.2e-03 | 0.79 | 0.67 | Body | Open sea |  TRUE |  441 | 0.12 | ⋯ | Inf | Inf | Inf | Inf | Inf | 1   | Inf | Inf | Inf | Inf |\n",
       "| DIAPH3   | cg01899581 | 9.0e-05 | 0.64 | 0.47 | Body | N_Shelf  | FALSE |   53 | 0.17 | ⋯ | Inf | Inf | Inf |   9 |   8 |   8 |   7 |  12 |  12 | Inf |\n",
       "| EZR      | cg13433729 | 1.2e-06 | 0.61 | 0.49 | Body | Open sea |  TRUE |    2 | 0.12 | ⋯ |   1 | Inf | Inf |   6 |   7 |   1 |   5 |   5 |   5 |   0 |\n",
       "| ITPR1    | cg22240998 | 1.1e-03 | 0.60 | 0.50 | Body | Open sea |  TRUE |  420 | 0.10 | ⋯ | Inf | Inf | Inf |   2 |   4 |   2 |  10 |   1 |   1 | Inf |\n",
       "| MAP2K1   | cg21070009 | 4.1e-03 | 0.48 | 0.35 | Body | Open sea |  TRUE |  852 | 0.13 | ⋯ |   4 | Inf | Inf |   4 |   3 |   2 |   2 |   5 |   5 |   3 |\n",
       "| NFATC1   | cg11321921 | 5.5e-04 | 0.78 | 0.91 | Body | Island   | FALSE |  240 | 0.13 | ⋯ | Inf | Inf | Inf |   3 |   5 |   3 |   4 |   4 |   4 | Inf |\n",
       "| NFATC1   | cg05687091 | 6.1e-04 | 0.54 | 0.64 | Body | Island   | FALSE |  257 | 0.10 | ⋯ | Inf | Inf | Inf |   3 |   5 |   3 |   4 |   4 |   4 | Inf |\n",
       "| PLCG2    | cg07671055 | 5.6e-03 | 0.48 | 0.59 | Body | Open sea | FALSE |  952 | 0.11 | ⋯ | Inf | Inf | Inf |   1 |   3 |   1 |   9 |   6 |   6 | Inf |\n",
       "| TNFRSF1A | cg23752651 | 9.5e-04 | 0.58 | 0.70 | Body | Open sea | FALSE |  374 | 0.12 | ⋯ | Inf | Inf | Inf | Inf | Inf | 1   | Inf | Inf | Inf | Inf |\n",
       "\n"
      ],
      "text/plain": [
       "   Gene     Probe ID   p-value Median_CF_patients Median_Controls\n",
       "1  AKT3     cg04221461 2.2e-03 0.46               0.56           \n",
       "2  BAIAP2   cg02026049 7.9e-03 0.65               0.76           \n",
       "3  CBLB     cg18984715 1.2e-03 0.79               0.67           \n",
       "4  DIAPH3   cg01899581 9.0e-05 0.64               0.47           \n",
       "5  EZR      cg13433729 1.2e-06 0.61               0.49           \n",
       "6  ITPR1    cg22240998 1.1e-03 0.60               0.50           \n",
       "7  MAP2K1   cg21070009 4.1e-03 0.48               0.35           \n",
       "8  NFATC1   cg11321921 5.5e-04 0.78               0.91           \n",
       "9  NFATC1   cg05687091 6.1e-04 0.54               0.64           \n",
       "10 PLCG2    cg07671055 5.6e-03 0.48               0.59           \n",
       "11 TNFRSF1A cg23752651 9.5e-04 0.58               0.70           \n",
       "   Genomic location Island status *Enhancer CpG_pvalue_rank_ abs_change ⋯\n",
       "1  Body             Open sea      FALSE      613             0.10       ⋯\n",
       "2  Body             N_Shelf       FALSE     1123             0.11       ⋯\n",
       "3  Body             Open sea       TRUE      441             0.12       ⋯\n",
       "4  Body             N_Shelf       FALSE       53             0.17       ⋯\n",
       "5  Body             Open sea       TRUE        2             0.12       ⋯\n",
       "6  Body             Open sea       TRUE      420             0.10       ⋯\n",
       "7  Body             Open sea       TRUE      852             0.13       ⋯\n",
       "8  Body             Island        FALSE      240             0.13       ⋯\n",
       "9  Body             Island        FALSE      257             0.10       ⋯\n",
       "10 Body             Open sea      FALSE      952             0.11       ⋯\n",
       "11 Body             Open sea      FALSE      374             0.12       ⋯\n",
       "   from_PRKCE from_SLC9A3R1 from_SLC9A3R2 from_SYK from_TRADD\n",
       "1  Inf        Inf           Inf             5        3       \n",
       "2  Inf        Inf           Inf             6        5       \n",
       "3  Inf        Inf           Inf           Inf      Inf       \n",
       "4  Inf        Inf           Inf             9        8       \n",
       "5    1        Inf           Inf             6        7       \n",
       "6  Inf        Inf           Inf             2        4       \n",
       "7    4        Inf           Inf             4        3       \n",
       "8  Inf        Inf           Inf             3        5       \n",
       "9  Inf        Inf           Inf             3        5       \n",
       "10 Inf        Inf           Inf             1        3       \n",
       "11 Inf        Inf           Inf           Inf      Inf       \n",
       "   min_distance_to_CFTR_interactor from_SRC from_PLCB1 from_PLCB3 from_EZR\n",
       "1    3                               2        7          7        Inf     \n",
       "2    5                               4        9          9        Inf     \n",
       "3  1                               Inf      Inf        Inf        Inf     \n",
       "4    8                               7       12         12        Inf     \n",
       "5    1                               5        5          5          0     \n",
       "6    2                              10        1          1        Inf     \n",
       "7    2                               2        5          5          3     \n",
       "8    3                               4        4          4        Inf     \n",
       "9    3                               4        4          4        Inf     \n",
       "10   1                               9        6          6        Inf     \n",
       "11 1                               Inf      Inf        Inf        Inf     "
      ]
     },
     "metadata": {},
     "output_type": "display_data"
    }
   ],
   "source": [
    "dm_CF_NCF_Genes_in_CF_network.dm_CF_NCF_df <- merge(dm_CF_NCF_Genes_in_CF_network.dm_CF_NCF_df,\n",
    "                                                    CF_PPI_network.pruned.dm_from_source_nodes,\n",
    "                                                    by = \"Gene\")\n",
    "dm_CF_NCF_Genes_in_CF_network.dm_CF_NCF_df"
   ]
  },
  {
   "cell_type": "code",
   "execution_count": 50,
   "id": "f3d9d34f-68de-4ed5-b01b-0ce6549097a4",
   "metadata": {},
   "outputs": [],
   "source": [
    "dm_CF_NCF_Genes_in_CF_network.dm_CF_NCF_df$min_distance_to_source_nodes_2 <- apply(dm_CF_NCF_Genes_in_CF_network.dm_CF_NCF_df[,c(colnames(CF_PPI_network.pruned.dm_from_source_nodes),\n",
    "                                                                                                                               \"min_distance_to_CFTR_interactor\")],\n",
    "      1,\n",
    "       FUN = function(x) {return(min(x, finite=T))})"
   ]
  },
  {
   "cell_type": "code",
   "execution_count": 51,
   "id": "8c3cb083-8251-4a7b-92d1-0a5495d3401b",
   "metadata": {},
   "outputs": [
    {
     "data": {
      "text/html": [
       "<table class=\"dataframe\">\n",
       "<caption>A data.frame: 11 × 30</caption>\n",
       "<thead>\n",
       "\t<tr><th scope=col>Gene</th><th scope=col>Probe ID</th><th scope=col>p-value</th><th scope=col>Median_CF_patients</th><th scope=col>Median_Controls</th><th scope=col>Genomic location</th><th scope=col>Island status</th><th scope=col>*Enhancer</th><th scope=col>CpG_pvalue_rank_</th><th scope=col>abs_change</th><th scope=col>⋯</th><th scope=col>from_SLC9A3R1</th><th scope=col>from_SLC9A3R2</th><th scope=col>from_SYK</th><th scope=col>from_TRADD</th><th scope=col>min_distance_to_CFTR_interactor</th><th scope=col>from_SRC</th><th scope=col>from_PLCB1</th><th scope=col>from_PLCB3</th><th scope=col>from_EZR</th><th scope=col>min_distance_to_source_nodes_2</th></tr>\n",
       "\t<tr><th scope=col>&lt;chr&gt;</th><th scope=col>&lt;chr&gt;</th><th scope=col>&lt;dbl&gt;</th><th scope=col>&lt;dbl&gt;</th><th scope=col>&lt;dbl&gt;</th><th scope=col>&lt;chr&gt;</th><th scope=col>&lt;chr&gt;</th><th scope=col>&lt;lgl&gt;</th><th scope=col>&lt;int&gt;</th><th scope=col>&lt;dbl&gt;</th><th scope=col>⋯</th><th scope=col>&lt;dbl&gt;</th><th scope=col>&lt;dbl&gt;</th><th scope=col>&lt;dbl&gt;</th><th scope=col>&lt;dbl&gt;</th><th scope=col>&lt;chr&gt;</th><th scope=col>&lt;dbl&gt;</th><th scope=col>&lt;dbl&gt;</th><th scope=col>&lt;dbl&gt;</th><th scope=col>&lt;dbl&gt;</th><th scope=col>&lt;chr&gt;</th></tr>\n",
       "</thead>\n",
       "<tbody>\n",
       "\t<tr><td>AKT3    </td><td>cg04221461</td><td>2.2e-03</td><td>0.46</td><td>0.56</td><td>Body</td><td>Open sea</td><td>FALSE</td><td> 613</td><td>0.10</td><td>⋯</td><td>Inf</td><td>Inf</td><td>  5</td><td>  3</td><td>  3</td><td>  2</td><td>  7</td><td>  7</td><td>Inf</td><td>  2</td></tr>\n",
       "\t<tr><td>BAIAP2  </td><td>cg02026049</td><td>7.9e-03</td><td>0.65</td><td>0.76</td><td>Body</td><td>N_Shelf </td><td>FALSE</td><td>1123</td><td>0.11</td><td>⋯</td><td>Inf</td><td>Inf</td><td>  6</td><td>  5</td><td>  5</td><td>  4</td><td>  9</td><td>  9</td><td>Inf</td><td>  4</td></tr>\n",
       "\t<tr><td>CBLB    </td><td>cg18984715</td><td>1.2e-03</td><td>0.79</td><td>0.67</td><td>Body</td><td>Open sea</td><td> TRUE</td><td> 441</td><td>0.12</td><td>⋯</td><td>Inf</td><td>Inf</td><td>Inf</td><td>Inf</td><td>1  </td><td>Inf</td><td>Inf</td><td>Inf</td><td>Inf</td><td>1  </td></tr>\n",
       "\t<tr><td>DIAPH3  </td><td>cg01899581</td><td>9.0e-05</td><td>0.64</td><td>0.47</td><td>Body</td><td>N_Shelf </td><td>FALSE</td><td>  53</td><td>0.17</td><td>⋯</td><td>Inf</td><td>Inf</td><td>  9</td><td>  8</td><td>  8</td><td>  7</td><td> 12</td><td> 12</td><td>Inf</td><td>  7</td></tr>\n",
       "\t<tr><td>EZR     </td><td>cg13433729</td><td>1.2e-06</td><td>0.61</td><td>0.49</td><td>Body</td><td>Open sea</td><td> TRUE</td><td>   2</td><td>0.12</td><td>⋯</td><td>Inf</td><td>Inf</td><td>  6</td><td>  7</td><td>  1</td><td>  5</td><td>  5</td><td>  5</td><td>  0</td><td>  0</td></tr>\n",
       "\t<tr><td>ITPR1   </td><td>cg22240998</td><td>1.1e-03</td><td>0.60</td><td>0.50</td><td>Body</td><td>Open sea</td><td> TRUE</td><td> 420</td><td>0.10</td><td>⋯</td><td>Inf</td><td>Inf</td><td>  2</td><td>  4</td><td>  2</td><td> 10</td><td>  1</td><td>  1</td><td>Inf</td><td>  1</td></tr>\n",
       "\t<tr><td>MAP2K1  </td><td>cg21070009</td><td>4.1e-03</td><td>0.48</td><td>0.35</td><td>Body</td><td>Open sea</td><td> TRUE</td><td> 852</td><td>0.13</td><td>⋯</td><td>Inf</td><td>Inf</td><td>  4</td><td>  3</td><td>  2</td><td>  2</td><td>  5</td><td>  5</td><td>  3</td><td>  2</td></tr>\n",
       "\t<tr><td>NFATC1  </td><td>cg11321921</td><td>5.5e-04</td><td>0.78</td><td>0.91</td><td>Body</td><td>Island  </td><td>FALSE</td><td> 240</td><td>0.13</td><td>⋯</td><td>Inf</td><td>Inf</td><td>  3</td><td>  5</td><td>  3</td><td>  4</td><td>  4</td><td>  4</td><td>Inf</td><td>  3</td></tr>\n",
       "\t<tr><td>NFATC1  </td><td>cg05687091</td><td>6.1e-04</td><td>0.54</td><td>0.64</td><td>Body</td><td>Island  </td><td>FALSE</td><td> 257</td><td>0.10</td><td>⋯</td><td>Inf</td><td>Inf</td><td>  3</td><td>  5</td><td>  3</td><td>  4</td><td>  4</td><td>  4</td><td>Inf</td><td>  3</td></tr>\n",
       "\t<tr><td>PLCG2   </td><td>cg07671055</td><td>5.6e-03</td><td>0.48</td><td>0.59</td><td>Body</td><td>Open sea</td><td>FALSE</td><td> 952</td><td>0.11</td><td>⋯</td><td>Inf</td><td>Inf</td><td>  1</td><td>  3</td><td>  1</td><td>  9</td><td>  6</td><td>  6</td><td>Inf</td><td>  1</td></tr>\n",
       "\t<tr><td>TNFRSF1A</td><td>cg23752651</td><td>9.5e-04</td><td>0.58</td><td>0.70</td><td>Body</td><td>Open sea</td><td>FALSE</td><td> 374</td><td>0.12</td><td>⋯</td><td>Inf</td><td>Inf</td><td>Inf</td><td>Inf</td><td>1  </td><td>Inf</td><td>Inf</td><td>Inf</td><td>Inf</td><td>1  </td></tr>\n",
       "</tbody>\n",
       "</table>\n"
      ],
      "text/latex": [
       "A data.frame: 11 × 30\n",
       "\\begin{tabular}{lllllllllllllllllllll}\n",
       " Gene & Probe ID & p-value & Median\\_CF\\_patients & Median\\_Controls & Genomic location & Island status & *Enhancer & CpG\\_pvalue\\_rank\\_ & abs\\_change & ⋯ & from\\_SLC9A3R1 & from\\_SLC9A3R2 & from\\_SYK & from\\_TRADD & min\\_distance\\_to\\_CFTR\\_interactor & from\\_SRC & from\\_PLCB1 & from\\_PLCB3 & from\\_EZR & min\\_distance\\_to\\_source\\_nodes\\_2\\\\\n",
       " <chr> & <chr> & <dbl> & <dbl> & <dbl> & <chr> & <chr> & <lgl> & <int> & <dbl> & ⋯ & <dbl> & <dbl> & <dbl> & <dbl> & <chr> & <dbl> & <dbl> & <dbl> & <dbl> & <chr>\\\\\n",
       "\\hline\n",
       "\t AKT3     & cg04221461 & 2.2e-03 & 0.46 & 0.56 & Body & Open sea & FALSE &  613 & 0.10 & ⋯ & Inf & Inf &   5 &   3 &   3 &   2 &   7 &   7 & Inf &   2\\\\\n",
       "\t BAIAP2   & cg02026049 & 7.9e-03 & 0.65 & 0.76 & Body & N\\_Shelf  & FALSE & 1123 & 0.11 & ⋯ & Inf & Inf &   6 &   5 &   5 &   4 &   9 &   9 & Inf &   4\\\\\n",
       "\t CBLB     & cg18984715 & 1.2e-03 & 0.79 & 0.67 & Body & Open sea &  TRUE &  441 & 0.12 & ⋯ & Inf & Inf & Inf & Inf & 1   & Inf & Inf & Inf & Inf & 1  \\\\\n",
       "\t DIAPH3   & cg01899581 & 9.0e-05 & 0.64 & 0.47 & Body & N\\_Shelf  & FALSE &   53 & 0.17 & ⋯ & Inf & Inf &   9 &   8 &   8 &   7 &  12 &  12 & Inf &   7\\\\\n",
       "\t EZR      & cg13433729 & 1.2e-06 & 0.61 & 0.49 & Body & Open sea &  TRUE &    2 & 0.12 & ⋯ & Inf & Inf &   6 &   7 &   1 &   5 &   5 &   5 &   0 &   0\\\\\n",
       "\t ITPR1    & cg22240998 & 1.1e-03 & 0.60 & 0.50 & Body & Open sea &  TRUE &  420 & 0.10 & ⋯ & Inf & Inf &   2 &   4 &   2 &  10 &   1 &   1 & Inf &   1\\\\\n",
       "\t MAP2K1   & cg21070009 & 4.1e-03 & 0.48 & 0.35 & Body & Open sea &  TRUE &  852 & 0.13 & ⋯ & Inf & Inf &   4 &   3 &   2 &   2 &   5 &   5 &   3 &   2\\\\\n",
       "\t NFATC1   & cg11321921 & 5.5e-04 & 0.78 & 0.91 & Body & Island   & FALSE &  240 & 0.13 & ⋯ & Inf & Inf &   3 &   5 &   3 &   4 &   4 &   4 & Inf &   3\\\\\n",
       "\t NFATC1   & cg05687091 & 6.1e-04 & 0.54 & 0.64 & Body & Island   & FALSE &  257 & 0.10 & ⋯ & Inf & Inf &   3 &   5 &   3 &   4 &   4 &   4 & Inf &   3\\\\\n",
       "\t PLCG2    & cg07671055 & 5.6e-03 & 0.48 & 0.59 & Body & Open sea & FALSE &  952 & 0.11 & ⋯ & Inf & Inf &   1 &   3 &   1 &   9 &   6 &   6 & Inf &   1\\\\\n",
       "\t TNFRSF1A & cg23752651 & 9.5e-04 & 0.58 & 0.70 & Body & Open sea & FALSE &  374 & 0.12 & ⋯ & Inf & Inf & Inf & Inf & 1   & Inf & Inf & Inf & Inf & 1  \\\\\n",
       "\\end{tabular}\n"
      ],
      "text/markdown": [
       "\n",
       "A data.frame: 11 × 30\n",
       "\n",
       "| Gene &lt;chr&gt; | Probe ID &lt;chr&gt; | p-value &lt;dbl&gt; | Median_CF_patients &lt;dbl&gt; | Median_Controls &lt;dbl&gt; | Genomic location &lt;chr&gt; | Island status &lt;chr&gt; | *Enhancer &lt;lgl&gt; | CpG_pvalue_rank_ &lt;int&gt; | abs_change &lt;dbl&gt; | ⋯ ⋯ | from_SLC9A3R1 &lt;dbl&gt; | from_SLC9A3R2 &lt;dbl&gt; | from_SYK &lt;dbl&gt; | from_TRADD &lt;dbl&gt; | min_distance_to_CFTR_interactor &lt;chr&gt; | from_SRC &lt;dbl&gt; | from_PLCB1 &lt;dbl&gt; | from_PLCB3 &lt;dbl&gt; | from_EZR &lt;dbl&gt; | min_distance_to_source_nodes_2 &lt;chr&gt; |\n",
       "|---|---|---|---|---|---|---|---|---|---|---|---|---|---|---|---|---|---|---|---|---|\n",
       "| AKT3     | cg04221461 | 2.2e-03 | 0.46 | 0.56 | Body | Open sea | FALSE |  613 | 0.10 | ⋯ | Inf | Inf |   5 |   3 |   3 |   2 |   7 |   7 | Inf |   2 |\n",
       "| BAIAP2   | cg02026049 | 7.9e-03 | 0.65 | 0.76 | Body | N_Shelf  | FALSE | 1123 | 0.11 | ⋯ | Inf | Inf |   6 |   5 |   5 |   4 |   9 |   9 | Inf |   4 |\n",
       "| CBLB     | cg18984715 | 1.2e-03 | 0.79 | 0.67 | Body | Open sea |  TRUE |  441 | 0.12 | ⋯ | Inf | Inf | Inf | Inf | 1   | Inf | Inf | Inf | Inf | 1   |\n",
       "| DIAPH3   | cg01899581 | 9.0e-05 | 0.64 | 0.47 | Body | N_Shelf  | FALSE |   53 | 0.17 | ⋯ | Inf | Inf |   9 |   8 |   8 |   7 |  12 |  12 | Inf |   7 |\n",
       "| EZR      | cg13433729 | 1.2e-06 | 0.61 | 0.49 | Body | Open sea |  TRUE |    2 | 0.12 | ⋯ | Inf | Inf |   6 |   7 |   1 |   5 |   5 |   5 |   0 |   0 |\n",
       "| ITPR1    | cg22240998 | 1.1e-03 | 0.60 | 0.50 | Body | Open sea |  TRUE |  420 | 0.10 | ⋯ | Inf | Inf |   2 |   4 |   2 |  10 |   1 |   1 | Inf |   1 |\n",
       "| MAP2K1   | cg21070009 | 4.1e-03 | 0.48 | 0.35 | Body | Open sea |  TRUE |  852 | 0.13 | ⋯ | Inf | Inf |   4 |   3 |   2 |   2 |   5 |   5 |   3 |   2 |\n",
       "| NFATC1   | cg11321921 | 5.5e-04 | 0.78 | 0.91 | Body | Island   | FALSE |  240 | 0.13 | ⋯ | Inf | Inf |   3 |   5 |   3 |   4 |   4 |   4 | Inf |   3 |\n",
       "| NFATC1   | cg05687091 | 6.1e-04 | 0.54 | 0.64 | Body | Island   | FALSE |  257 | 0.10 | ⋯ | Inf | Inf |   3 |   5 |   3 |   4 |   4 |   4 | Inf |   3 |\n",
       "| PLCG2    | cg07671055 | 5.6e-03 | 0.48 | 0.59 | Body | Open sea | FALSE |  952 | 0.11 | ⋯ | Inf | Inf |   1 |   3 |   1 |   9 |   6 |   6 | Inf |   1 |\n",
       "| TNFRSF1A | cg23752651 | 9.5e-04 | 0.58 | 0.70 | Body | Open sea | FALSE |  374 | 0.12 | ⋯ | Inf | Inf | Inf | Inf | 1   | Inf | Inf | Inf | Inf | 1   |\n",
       "\n"
      ],
      "text/plain": [
       "   Gene     Probe ID   p-value Median_CF_patients Median_Controls\n",
       "1  AKT3     cg04221461 2.2e-03 0.46               0.56           \n",
       "2  BAIAP2   cg02026049 7.9e-03 0.65               0.76           \n",
       "3  CBLB     cg18984715 1.2e-03 0.79               0.67           \n",
       "4  DIAPH3   cg01899581 9.0e-05 0.64               0.47           \n",
       "5  EZR      cg13433729 1.2e-06 0.61               0.49           \n",
       "6  ITPR1    cg22240998 1.1e-03 0.60               0.50           \n",
       "7  MAP2K1   cg21070009 4.1e-03 0.48               0.35           \n",
       "8  NFATC1   cg11321921 5.5e-04 0.78               0.91           \n",
       "9  NFATC1   cg05687091 6.1e-04 0.54               0.64           \n",
       "10 PLCG2    cg07671055 5.6e-03 0.48               0.59           \n",
       "11 TNFRSF1A cg23752651 9.5e-04 0.58               0.70           \n",
       "   Genomic location Island status *Enhancer CpG_pvalue_rank_ abs_change ⋯\n",
       "1  Body             Open sea      FALSE      613             0.10       ⋯\n",
       "2  Body             N_Shelf       FALSE     1123             0.11       ⋯\n",
       "3  Body             Open sea       TRUE      441             0.12       ⋯\n",
       "4  Body             N_Shelf       FALSE       53             0.17       ⋯\n",
       "5  Body             Open sea       TRUE        2             0.12       ⋯\n",
       "6  Body             Open sea       TRUE      420             0.10       ⋯\n",
       "7  Body             Open sea       TRUE      852             0.13       ⋯\n",
       "8  Body             Island        FALSE      240             0.13       ⋯\n",
       "9  Body             Island        FALSE      257             0.10       ⋯\n",
       "10 Body             Open sea      FALSE      952             0.11       ⋯\n",
       "11 Body             Open sea      FALSE      374             0.12       ⋯\n",
       "   from_SLC9A3R1 from_SLC9A3R2 from_SYK from_TRADD\n",
       "1  Inf           Inf             5        3       \n",
       "2  Inf           Inf             6        5       \n",
       "3  Inf           Inf           Inf      Inf       \n",
       "4  Inf           Inf             9        8       \n",
       "5  Inf           Inf             6        7       \n",
       "6  Inf           Inf             2        4       \n",
       "7  Inf           Inf             4        3       \n",
       "8  Inf           Inf             3        5       \n",
       "9  Inf           Inf             3        5       \n",
       "10 Inf           Inf             1        3       \n",
       "11 Inf           Inf           Inf      Inf       \n",
       "   min_distance_to_CFTR_interactor from_SRC from_PLCB1 from_PLCB3 from_EZR\n",
       "1    3                               2        7          7        Inf     \n",
       "2    5                               4        9          9        Inf     \n",
       "3  1                               Inf      Inf        Inf        Inf     \n",
       "4    8                               7       12         12        Inf     \n",
       "5    1                               5        5          5          0     \n",
       "6    2                              10        1          1        Inf     \n",
       "7    2                               2        5          5          3     \n",
       "8    3                               4        4          4        Inf     \n",
       "9    3                               4        4          4        Inf     \n",
       "10   1                               9        6          6        Inf     \n",
       "11 1                               Inf      Inf        Inf        Inf     \n",
       "   min_distance_to_source_nodes_2\n",
       "1    2                           \n",
       "2    4                           \n",
       "3  1                             \n",
       "4    7                           \n",
       "5    0                           \n",
       "6    1                           \n",
       "7    2                           \n",
       "8    3                           \n",
       "9    3                           \n",
       "10   1                           \n",
       "11 1                             "
      ]
     },
     "metadata": {},
     "output_type": "display_data"
    }
   ],
   "source": [
    "dm_CF_NCF_Genes_in_CF_network.dm_CF_NCF_df"
   ]
  },
  {
   "cell_type": "markdown",
   "id": "8e6f15c7-52d7-45bb-8996-d30e42fe34b7",
   "metadata": {},
   "source": [
    "### 2.3.4 Betweenness centrality"
   ]
  },
  {
   "cell_type": "code",
   "execution_count": 52,
   "id": "d4b32d9d-c75f-4322-a18a-31334cebb5ef",
   "metadata": {},
   "outputs": [],
   "source": [
    "CF_PPI_network.bc.df <- data.frame(betweenness(CF_PPI_network.pruned.igraph))\n",
    "CF_PPI_network.bc.df$Symbol <- rownames(CF_PPI_network.bc.df)\n",
    "rownames(CF_PPI_network.bc.df) <- NULL\n",
    "colnames(CF_PPI_network.bc.df) <- c(\"BC.score\", \"Symbol\")"
   ]
  },
  {
   "cell_type": "code",
   "execution_count": 53,
   "id": "ba032161-8ae5-4ef1-813f-e80d97cf2bc9",
   "metadata": {},
   "outputs": [
    {
     "data": {
      "text/html": [
       "<table class=\"dataframe\">\n",
       "<caption>A data.frame: 338 × 2</caption>\n",
       "<thead>\n",
       "\t<tr><th scope=col>BC.score</th><th scope=col>Symbol</th></tr>\n",
       "\t<tr><th scope=col>&lt;dbl&gt;</th><th scope=col>&lt;chr&gt;</th></tr>\n",
       "</thead>\n",
       "<tbody>\n",
       "\t<tr><td>  93.0000000</td><td>PLCB3   </td></tr>\n",
       "\t<tr><td> 383.0000000</td><td>TLR4    </td></tr>\n",
       "\t<tr><td>   8.0000000</td><td>WASL    </td></tr>\n",
       "\t<tr><td> 744.0440476</td><td>MAP2K7  </td></tr>\n",
       "\t<tr><td>   0.0000000</td><td>TNFSF11 </td></tr>\n",
       "\t<tr><td> 663.0399625</td><td>IKBKB   </td></tr>\n",
       "\t<tr><td>   0.0000000</td><td>PPP1R12A</td></tr>\n",
       "\t<tr><td>1620.7172382</td><td>CHUK    </td></tr>\n",
       "\t<tr><td>   0.0000000</td><td>TLR3    </td></tr>\n",
       "\t<tr><td>1042.2583333</td><td>CFLAR   </td></tr>\n",
       "\t<tr><td>   0.0000000</td><td>PDPK1   </td></tr>\n",
       "\t<tr><td>1126.6420635</td><td>MEFV    </td></tr>\n",
       "\t<tr><td>4344.9995571</td><td>MAP3K7  </td></tr>\n",
       "\t<tr><td>2417.3422163</td><td>RIPK2   </td></tr>\n",
       "\t<tr><td>1568.2957417</td><td>LAT     </td></tr>\n",
       "\t<tr><td>3086.7350708</td><td>TRAF3IP2</td></tr>\n",
       "\t<tr><td>   0.0000000</td><td>TLR5    </td></tr>\n",
       "\t<tr><td> 380.0000000</td><td>TLR2    </td></tr>\n",
       "\t<tr><td> 222.0000000</td><td>DIAPH1  </td></tr>\n",
       "\t<tr><td>   0.0000000</td><td>RPS6KA4 </td></tr>\n",
       "\t<tr><td>4813.7298176</td><td>PAK3    </td></tr>\n",
       "\t<tr><td>   0.6666667</td><td>ATG12   </td></tr>\n",
       "\t<tr><td> 235.9868326</td><td>RASGRP1 </td></tr>\n",
       "\t<tr><td>   0.0000000</td><td>BAG4    </td></tr>\n",
       "\t<tr><td>1427.2862193</td><td>RIGI    </td></tr>\n",
       "\t<tr><td>   0.0000000</td><td>APC2    </td></tr>\n",
       "\t<tr><td>1825.4559111</td><td>BCL10   </td></tr>\n",
       "\t<tr><td> 561.0000000</td><td>EGFR    </td></tr>\n",
       "\t<tr><td>   0.0000000</td><td>F2      </td></tr>\n",
       "\t<tr><td>   0.0000000</td><td>KNG1    </td></tr>\n",
       "\t<tr><td>⋮</td><td>⋮</td></tr>\n",
       "\t<tr><td>0</td><td>ARPC5   </td></tr>\n",
       "\t<tr><td>0</td><td>IRF7    </td></tr>\n",
       "\t<tr><td>0</td><td>PFN     </td></tr>\n",
       "\t<tr><td>0</td><td>CREB3   </td></tr>\n",
       "\t<tr><td>0</td><td>GABARAP </td></tr>\n",
       "\t<tr><td>0</td><td>STAT5A  </td></tr>\n",
       "\t<tr><td>0</td><td>STAT3   </td></tr>\n",
       "\t<tr><td>0</td><td>KCNJ3   </td></tr>\n",
       "\t<tr><td>0</td><td>JUN     </td></tr>\n",
       "\t<tr><td>0</td><td>CEBPB   </td></tr>\n",
       "\t<tr><td>0</td><td>ESR2    </td></tr>\n",
       "\t<tr><td>0</td><td>STAT6   </td></tr>\n",
       "\t<tr><td>0</td><td>SMAD2   </td></tr>\n",
       "\t<tr><td>0</td><td>NFATC1  </td></tr>\n",
       "\t<tr><td>0</td><td>CFL1    </td></tr>\n",
       "\t<tr><td>0</td><td>IQGAP1  </td></tr>\n",
       "\t<tr><td>0</td><td>CASP3   </td></tr>\n",
       "\t<tr><td>0</td><td>CASP7   </td></tr>\n",
       "\t<tr><td>0</td><td>CREB1   </td></tr>\n",
       "\t<tr><td>0</td><td>DNM1L   </td></tr>\n",
       "\t<tr><td>0</td><td>ENAH    </td></tr>\n",
       "\t<tr><td>0</td><td>ACTN4   </td></tr>\n",
       "\t<tr><td>0</td><td>GSN     </td></tr>\n",
       "\t<tr><td>0</td><td>VCL     </td></tr>\n",
       "\t<tr><td>0</td><td>PXN     </td></tr>\n",
       "\t<tr><td>0</td><td>IRF5    </td></tr>\n",
       "\t<tr><td>0</td><td>SLC9A3R1</td></tr>\n",
       "\t<tr><td>0</td><td>CAV2    </td></tr>\n",
       "\t<tr><td>0</td><td>CAV1    </td></tr>\n",
       "\t<tr><td>0</td><td>SLC9A3R2</td></tr>\n",
       "</tbody>\n",
       "</table>\n"
      ],
      "text/latex": [
       "A data.frame: 338 × 2\n",
       "\\begin{tabular}{ll}\n",
       " BC.score & Symbol\\\\\n",
       " <dbl> & <chr>\\\\\n",
       "\\hline\n",
       "\t   93.0000000 & PLCB3   \\\\\n",
       "\t  383.0000000 & TLR4    \\\\\n",
       "\t    8.0000000 & WASL    \\\\\n",
       "\t  744.0440476 & MAP2K7  \\\\\n",
       "\t    0.0000000 & TNFSF11 \\\\\n",
       "\t  663.0399625 & IKBKB   \\\\\n",
       "\t    0.0000000 & PPP1R12A\\\\\n",
       "\t 1620.7172382 & CHUK    \\\\\n",
       "\t    0.0000000 & TLR3    \\\\\n",
       "\t 1042.2583333 & CFLAR   \\\\\n",
       "\t    0.0000000 & PDPK1   \\\\\n",
       "\t 1126.6420635 & MEFV    \\\\\n",
       "\t 4344.9995571 & MAP3K7  \\\\\n",
       "\t 2417.3422163 & RIPK2   \\\\\n",
       "\t 1568.2957417 & LAT     \\\\\n",
       "\t 3086.7350708 & TRAF3IP2\\\\\n",
       "\t    0.0000000 & TLR5    \\\\\n",
       "\t  380.0000000 & TLR2    \\\\\n",
       "\t  222.0000000 & DIAPH1  \\\\\n",
       "\t    0.0000000 & RPS6KA4 \\\\\n",
       "\t 4813.7298176 & PAK3    \\\\\n",
       "\t    0.6666667 & ATG12   \\\\\n",
       "\t  235.9868326 & RASGRP1 \\\\\n",
       "\t    0.0000000 & BAG4    \\\\\n",
       "\t 1427.2862193 & RIGI    \\\\\n",
       "\t    0.0000000 & APC2    \\\\\n",
       "\t 1825.4559111 & BCL10   \\\\\n",
       "\t  561.0000000 & EGFR    \\\\\n",
       "\t    0.0000000 & F2      \\\\\n",
       "\t    0.0000000 & KNG1    \\\\\n",
       "\t ⋮ & ⋮\\\\\n",
       "\t 0 & ARPC5   \\\\\n",
       "\t 0 & IRF7    \\\\\n",
       "\t 0 & PFN     \\\\\n",
       "\t 0 & CREB3   \\\\\n",
       "\t 0 & GABARAP \\\\\n",
       "\t 0 & STAT5A  \\\\\n",
       "\t 0 & STAT3   \\\\\n",
       "\t 0 & KCNJ3   \\\\\n",
       "\t 0 & JUN     \\\\\n",
       "\t 0 & CEBPB   \\\\\n",
       "\t 0 & ESR2    \\\\\n",
       "\t 0 & STAT6   \\\\\n",
       "\t 0 & SMAD2   \\\\\n",
       "\t 0 & NFATC1  \\\\\n",
       "\t 0 & CFL1    \\\\\n",
       "\t 0 & IQGAP1  \\\\\n",
       "\t 0 & CASP3   \\\\\n",
       "\t 0 & CASP7   \\\\\n",
       "\t 0 & CREB1   \\\\\n",
       "\t 0 & DNM1L   \\\\\n",
       "\t 0 & ENAH    \\\\\n",
       "\t 0 & ACTN4   \\\\\n",
       "\t 0 & GSN     \\\\\n",
       "\t 0 & VCL     \\\\\n",
       "\t 0 & PXN     \\\\\n",
       "\t 0 & IRF5    \\\\\n",
       "\t 0 & SLC9A3R1\\\\\n",
       "\t 0 & CAV2    \\\\\n",
       "\t 0 & CAV1    \\\\\n",
       "\t 0 & SLC9A3R2\\\\\n",
       "\\end{tabular}\n"
      ],
      "text/markdown": [
       "\n",
       "A data.frame: 338 × 2\n",
       "\n",
       "| BC.score &lt;dbl&gt; | Symbol &lt;chr&gt; |\n",
       "|---|---|\n",
       "|   93.0000000 | PLCB3    |\n",
       "|  383.0000000 | TLR4     |\n",
       "|    8.0000000 | WASL     |\n",
       "|  744.0440476 | MAP2K7   |\n",
       "|    0.0000000 | TNFSF11  |\n",
       "|  663.0399625 | IKBKB    |\n",
       "|    0.0000000 | PPP1R12A |\n",
       "| 1620.7172382 | CHUK     |\n",
       "|    0.0000000 | TLR3     |\n",
       "| 1042.2583333 | CFLAR    |\n",
       "|    0.0000000 | PDPK1    |\n",
       "| 1126.6420635 | MEFV     |\n",
       "| 4344.9995571 | MAP3K7   |\n",
       "| 2417.3422163 | RIPK2    |\n",
       "| 1568.2957417 | LAT      |\n",
       "| 3086.7350708 | TRAF3IP2 |\n",
       "|    0.0000000 | TLR5     |\n",
       "|  380.0000000 | TLR2     |\n",
       "|  222.0000000 | DIAPH1   |\n",
       "|    0.0000000 | RPS6KA4  |\n",
       "| 4813.7298176 | PAK3     |\n",
       "|    0.6666667 | ATG12    |\n",
       "|  235.9868326 | RASGRP1  |\n",
       "|    0.0000000 | BAG4     |\n",
       "| 1427.2862193 | RIGI     |\n",
       "|    0.0000000 | APC2     |\n",
       "| 1825.4559111 | BCL10    |\n",
       "|  561.0000000 | EGFR     |\n",
       "|    0.0000000 | F2       |\n",
       "|    0.0000000 | KNG1     |\n",
       "| ⋮ | ⋮ |\n",
       "| 0 | ARPC5    |\n",
       "| 0 | IRF7     |\n",
       "| 0 | PFN      |\n",
       "| 0 | CREB3    |\n",
       "| 0 | GABARAP  |\n",
       "| 0 | STAT5A   |\n",
       "| 0 | STAT3    |\n",
       "| 0 | KCNJ3    |\n",
       "| 0 | JUN      |\n",
       "| 0 | CEBPB    |\n",
       "| 0 | ESR2     |\n",
       "| 0 | STAT6    |\n",
       "| 0 | SMAD2    |\n",
       "| 0 | NFATC1   |\n",
       "| 0 | CFL1     |\n",
       "| 0 | IQGAP1   |\n",
       "| 0 | CASP3    |\n",
       "| 0 | CASP7    |\n",
       "| 0 | CREB1    |\n",
       "| 0 | DNM1L    |\n",
       "| 0 | ENAH     |\n",
       "| 0 | ACTN4    |\n",
       "| 0 | GSN      |\n",
       "| 0 | VCL      |\n",
       "| 0 | PXN      |\n",
       "| 0 | IRF5     |\n",
       "| 0 | SLC9A3R1 |\n",
       "| 0 | CAV2     |\n",
       "| 0 | CAV1     |\n",
       "| 0 | SLC9A3R2 |\n",
       "\n"
      ],
      "text/plain": [
       "    BC.score     Symbol  \n",
       "1     93.0000000 PLCB3   \n",
       "2    383.0000000 TLR4    \n",
       "3      8.0000000 WASL    \n",
       "4    744.0440476 MAP2K7  \n",
       "5      0.0000000 TNFSF11 \n",
       "6    663.0399625 IKBKB   \n",
       "7      0.0000000 PPP1R12A\n",
       "8   1620.7172382 CHUK    \n",
       "9      0.0000000 TLR3    \n",
       "10  1042.2583333 CFLAR   \n",
       "11     0.0000000 PDPK1   \n",
       "12  1126.6420635 MEFV    \n",
       "13  4344.9995571 MAP3K7  \n",
       "14  2417.3422163 RIPK2   \n",
       "15  1568.2957417 LAT     \n",
       "16  3086.7350708 TRAF3IP2\n",
       "17     0.0000000 TLR5    \n",
       "18   380.0000000 TLR2    \n",
       "19   222.0000000 DIAPH1  \n",
       "20     0.0000000 RPS6KA4 \n",
       "21  4813.7298176 PAK3    \n",
       "22     0.6666667 ATG12   \n",
       "23   235.9868326 RASGRP1 \n",
       "24     0.0000000 BAG4    \n",
       "25  1427.2862193 RIGI    \n",
       "26     0.0000000 APC2    \n",
       "27  1825.4559111 BCL10   \n",
       "28   561.0000000 EGFR    \n",
       "29     0.0000000 F2      \n",
       "30     0.0000000 KNG1    \n",
       "⋮   ⋮            ⋮       \n",
       "309 0            ARPC5   \n",
       "310 0            IRF7    \n",
       "311 0            PFN     \n",
       "312 0            CREB3   \n",
       "313 0            GABARAP \n",
       "314 0            STAT5A  \n",
       "315 0            STAT3   \n",
       "316 0            KCNJ3   \n",
       "317 0            JUN     \n",
       "318 0            CEBPB   \n",
       "319 0            ESR2    \n",
       "320 0            STAT6   \n",
       "321 0            SMAD2   \n",
       "322 0            NFATC1  \n",
       "323 0            CFL1    \n",
       "324 0            IQGAP1  \n",
       "325 0            CASP3   \n",
       "326 0            CASP7   \n",
       "327 0            CREB1   \n",
       "328 0            DNM1L   \n",
       "329 0            ENAH    \n",
       "330 0            ACTN4   \n",
       "331 0            GSN     \n",
       "332 0            VCL     \n",
       "333 0            PXN     \n",
       "334 0            IRF5    \n",
       "335 0            SLC9A3R1\n",
       "336 0            CAV2    \n",
       "337 0            CAV1    \n",
       "338 0            SLC9A3R2"
      ]
     },
     "metadata": {},
     "output_type": "display_data"
    }
   ],
   "source": [
    "CF_PPI_network.bc.df"
   ]
  },
  {
   "cell_type": "code",
   "execution_count": 54,
   "id": "0f81e8f2-9eb6-476c-8e6a-e84117ec8dd7",
   "metadata": {},
   "outputs": [],
   "source": [
    "CF_PPI_network.bc.df.dm_CF_NCF_df <- CF_PPI_network.bc.df[which(CF_PPI_network.bc.df$Symbol %in%  dm_CF_NCF_Genes_in_CF_network.list),]"
   ]
  },
  {
   "cell_type": "code",
   "execution_count": 55,
   "id": "430a694d-1d62-4cf5-a87a-2b76ec45d19c",
   "metadata": {},
   "outputs": [
    {
     "data": {
      "text/html": [
       "<table class=\"dataframe\">\n",
       "<caption>A data.frame: 10 × 2</caption>\n",
       "<thead>\n",
       "\t<tr><th></th><th scope=col>BC.score</th><th scope=col>Symbol</th></tr>\n",
       "\t<tr><th></th><th scope=col>&lt;dbl&gt;</th><th scope=col>&lt;chr&gt;</th></tr>\n",
       "</thead>\n",
       "<tbody>\n",
       "\t<tr><th scope=row>69</th><td>3295.1806</td><td>PLCG2   </td></tr>\n",
       "\t<tr><th scope=row>73</th><td> 419.6667</td><td>TNFRSF1A</td></tr>\n",
       "\t<tr><th scope=row>120</th><td>2361.4579</td><td>MAP2K1  </td></tr>\n",
       "\t<tr><th scope=row>137</th><td>   0.0000</td><td>CBLB    </td></tr>\n",
       "\t<tr><th scope=row>149</th><td> 602.8583</td><td>ITPR1   </td></tr>\n",
       "\t<tr><th scope=row>214</th><td>  15.0000</td><td>DIAPH3  </td></tr>\n",
       "\t<tr><th scope=row>225</th><td> 661.0000</td><td>BAIAP2  </td></tr>\n",
       "\t<tr><th scope=row>227</th><td>2784.6197</td><td>AKT3    </td></tr>\n",
       "\t<tr><th scope=row>238</th><td> 747.3944</td><td>EZR     </td></tr>\n",
       "\t<tr><th scope=row>322</th><td>   0.0000</td><td>NFATC1  </td></tr>\n",
       "</tbody>\n",
       "</table>\n"
      ],
      "text/latex": [
       "A data.frame: 10 × 2\n",
       "\\begin{tabular}{r|ll}\n",
       "  & BC.score & Symbol\\\\\n",
       "  & <dbl> & <chr>\\\\\n",
       "\\hline\n",
       "\t69 & 3295.1806 & PLCG2   \\\\\n",
       "\t73 &  419.6667 & TNFRSF1A\\\\\n",
       "\t120 & 2361.4579 & MAP2K1  \\\\\n",
       "\t137 &    0.0000 & CBLB    \\\\\n",
       "\t149 &  602.8583 & ITPR1   \\\\\n",
       "\t214 &   15.0000 & DIAPH3  \\\\\n",
       "\t225 &  661.0000 & BAIAP2  \\\\\n",
       "\t227 & 2784.6197 & AKT3    \\\\\n",
       "\t238 &  747.3944 & EZR     \\\\\n",
       "\t322 &    0.0000 & NFATC1  \\\\\n",
       "\\end{tabular}\n"
      ],
      "text/markdown": [
       "\n",
       "A data.frame: 10 × 2\n",
       "\n",
       "| <!--/--> | BC.score &lt;dbl&gt; | Symbol &lt;chr&gt; |\n",
       "|---|---|---|\n",
       "| 69 | 3295.1806 | PLCG2    |\n",
       "| 73 |  419.6667 | TNFRSF1A |\n",
       "| 120 | 2361.4579 | MAP2K1   |\n",
       "| 137 |    0.0000 | CBLB     |\n",
       "| 149 |  602.8583 | ITPR1    |\n",
       "| 214 |   15.0000 | DIAPH3   |\n",
       "| 225 |  661.0000 | BAIAP2   |\n",
       "| 227 | 2784.6197 | AKT3     |\n",
       "| 238 |  747.3944 | EZR      |\n",
       "| 322 |    0.0000 | NFATC1   |\n",
       "\n"
      ],
      "text/plain": [
       "    BC.score  Symbol  \n",
       "69  3295.1806 PLCG2   \n",
       "73   419.6667 TNFRSF1A\n",
       "120 2361.4579 MAP2K1  \n",
       "137    0.0000 CBLB    \n",
       "149  602.8583 ITPR1   \n",
       "214   15.0000 DIAPH3  \n",
       "225  661.0000 BAIAP2  \n",
       "227 2784.6197 AKT3    \n",
       "238  747.3944 EZR     \n",
       "322    0.0000 NFATC1  "
      ]
     },
     "metadata": {},
     "output_type": "display_data"
    }
   ],
   "source": [
    "CF_PPI_network.bc.df.dm_CF_NCF_df"
   ]
  },
  {
   "cell_type": "code",
   "execution_count": 56,
   "id": "3f40dc4c-1fca-4f98-bf11-aeeb9106a9e2",
   "metadata": {},
   "outputs": [
    {
     "data": {
      "text/html": [
       "<table class=\"dataframe\">\n",
       "<caption>A data.frame: 11 × 31</caption>\n",
       "<thead>\n",
       "\t<tr><th scope=col>Gene</th><th scope=col>Probe ID</th><th scope=col>p-value</th><th scope=col>Median_CF_patients</th><th scope=col>Median_Controls</th><th scope=col>Genomic location</th><th scope=col>Island status</th><th scope=col>*Enhancer</th><th scope=col>CpG_pvalue_rank_</th><th scope=col>abs_change</th><th scope=col>⋯</th><th scope=col>from_SLC9A3R2</th><th scope=col>from_SYK</th><th scope=col>from_TRADD</th><th scope=col>min_distance_to_CFTR_interactor</th><th scope=col>from_SRC</th><th scope=col>from_PLCB1</th><th scope=col>from_PLCB3</th><th scope=col>from_EZR</th><th scope=col>min_distance_to_source_nodes_2</th><th scope=col>BC.score</th></tr>\n",
       "\t<tr><th scope=col>&lt;chr&gt;</th><th scope=col>&lt;chr&gt;</th><th scope=col>&lt;dbl&gt;</th><th scope=col>&lt;dbl&gt;</th><th scope=col>&lt;dbl&gt;</th><th scope=col>&lt;chr&gt;</th><th scope=col>&lt;chr&gt;</th><th scope=col>&lt;lgl&gt;</th><th scope=col>&lt;int&gt;</th><th scope=col>&lt;dbl&gt;</th><th scope=col>⋯</th><th scope=col>&lt;dbl&gt;</th><th scope=col>&lt;dbl&gt;</th><th scope=col>&lt;dbl&gt;</th><th scope=col>&lt;chr&gt;</th><th scope=col>&lt;dbl&gt;</th><th scope=col>&lt;dbl&gt;</th><th scope=col>&lt;dbl&gt;</th><th scope=col>&lt;dbl&gt;</th><th scope=col>&lt;chr&gt;</th><th scope=col>&lt;dbl&gt;</th></tr>\n",
       "</thead>\n",
       "<tbody>\n",
       "\t<tr><td>AKT3    </td><td>cg04221461</td><td>2.2e-03</td><td>0.46</td><td>0.56</td><td>Body</td><td>Open sea</td><td>FALSE</td><td> 613</td><td>0.10</td><td>⋯</td><td>Inf</td><td>  5</td><td>  3</td><td>  3</td><td>  2</td><td>  7</td><td>  7</td><td>Inf</td><td>  2</td><td>2784.6197</td></tr>\n",
       "\t<tr><td>BAIAP2  </td><td>cg02026049</td><td>7.9e-03</td><td>0.65</td><td>0.76</td><td>Body</td><td>N_Shelf </td><td>FALSE</td><td>1123</td><td>0.11</td><td>⋯</td><td>Inf</td><td>  6</td><td>  5</td><td>  5</td><td>  4</td><td>  9</td><td>  9</td><td>Inf</td><td>  4</td><td> 661.0000</td></tr>\n",
       "\t<tr><td>CBLB    </td><td>cg18984715</td><td>1.2e-03</td><td>0.79</td><td>0.67</td><td>Body</td><td>Open sea</td><td> TRUE</td><td> 441</td><td>0.12</td><td>⋯</td><td>Inf</td><td>Inf</td><td>Inf</td><td>1  </td><td>Inf</td><td>Inf</td><td>Inf</td><td>Inf</td><td>1  </td><td>   0.0000</td></tr>\n",
       "\t<tr><td>DIAPH3  </td><td>cg01899581</td><td>9.0e-05</td><td>0.64</td><td>0.47</td><td>Body</td><td>N_Shelf </td><td>FALSE</td><td>  53</td><td>0.17</td><td>⋯</td><td>Inf</td><td>  9</td><td>  8</td><td>  8</td><td>  7</td><td> 12</td><td> 12</td><td>Inf</td><td>  7</td><td>  15.0000</td></tr>\n",
       "\t<tr><td>EZR     </td><td>cg13433729</td><td>1.2e-06</td><td>0.61</td><td>0.49</td><td>Body</td><td>Open sea</td><td> TRUE</td><td>   2</td><td>0.12</td><td>⋯</td><td>Inf</td><td>  6</td><td>  7</td><td>  1</td><td>  5</td><td>  5</td><td>  5</td><td>  0</td><td>  0</td><td> 747.3944</td></tr>\n",
       "\t<tr><td>ITPR1   </td><td>cg22240998</td><td>1.1e-03</td><td>0.60</td><td>0.50</td><td>Body</td><td>Open sea</td><td> TRUE</td><td> 420</td><td>0.10</td><td>⋯</td><td>Inf</td><td>  2</td><td>  4</td><td>  2</td><td> 10</td><td>  1</td><td>  1</td><td>Inf</td><td>  1</td><td> 602.8583</td></tr>\n",
       "\t<tr><td>MAP2K1  </td><td>cg21070009</td><td>4.1e-03</td><td>0.48</td><td>0.35</td><td>Body</td><td>Open sea</td><td> TRUE</td><td> 852</td><td>0.13</td><td>⋯</td><td>Inf</td><td>  4</td><td>  3</td><td>  2</td><td>  2</td><td>  5</td><td>  5</td><td>  3</td><td>  2</td><td>2361.4579</td></tr>\n",
       "\t<tr><td>NFATC1  </td><td>cg11321921</td><td>5.5e-04</td><td>0.78</td><td>0.91</td><td>Body</td><td>Island  </td><td>FALSE</td><td> 240</td><td>0.13</td><td>⋯</td><td>Inf</td><td>  3</td><td>  5</td><td>  3</td><td>  4</td><td>  4</td><td>  4</td><td>Inf</td><td>  3</td><td>   0.0000</td></tr>\n",
       "\t<tr><td>NFATC1  </td><td>cg05687091</td><td>6.1e-04</td><td>0.54</td><td>0.64</td><td>Body</td><td>Island  </td><td>FALSE</td><td> 257</td><td>0.10</td><td>⋯</td><td>Inf</td><td>  3</td><td>  5</td><td>  3</td><td>  4</td><td>  4</td><td>  4</td><td>Inf</td><td>  3</td><td>   0.0000</td></tr>\n",
       "\t<tr><td>PLCG2   </td><td>cg07671055</td><td>5.6e-03</td><td>0.48</td><td>0.59</td><td>Body</td><td>Open sea</td><td>FALSE</td><td> 952</td><td>0.11</td><td>⋯</td><td>Inf</td><td>  1</td><td>  3</td><td>  1</td><td>  9</td><td>  6</td><td>  6</td><td>Inf</td><td>  1</td><td>3295.1806</td></tr>\n",
       "\t<tr><td>TNFRSF1A</td><td>cg23752651</td><td>9.5e-04</td><td>0.58</td><td>0.70</td><td>Body</td><td>Open sea</td><td>FALSE</td><td> 374</td><td>0.12</td><td>⋯</td><td>Inf</td><td>Inf</td><td>Inf</td><td>1  </td><td>Inf</td><td>Inf</td><td>Inf</td><td>Inf</td><td>1  </td><td> 419.6667</td></tr>\n",
       "</tbody>\n",
       "</table>\n"
      ],
      "text/latex": [
       "A data.frame: 11 × 31\n",
       "\\begin{tabular}{lllllllllllllllllllll}\n",
       " Gene & Probe ID & p-value & Median\\_CF\\_patients & Median\\_Controls & Genomic location & Island status & *Enhancer & CpG\\_pvalue\\_rank\\_ & abs\\_change & ⋯ & from\\_SLC9A3R2 & from\\_SYK & from\\_TRADD & min\\_distance\\_to\\_CFTR\\_interactor & from\\_SRC & from\\_PLCB1 & from\\_PLCB3 & from\\_EZR & min\\_distance\\_to\\_source\\_nodes\\_2 & BC.score\\\\\n",
       " <chr> & <chr> & <dbl> & <dbl> & <dbl> & <chr> & <chr> & <lgl> & <int> & <dbl> & ⋯ & <dbl> & <dbl> & <dbl> & <chr> & <dbl> & <dbl> & <dbl> & <dbl> & <chr> & <dbl>\\\\\n",
       "\\hline\n",
       "\t AKT3     & cg04221461 & 2.2e-03 & 0.46 & 0.56 & Body & Open sea & FALSE &  613 & 0.10 & ⋯ & Inf &   5 &   3 &   3 &   2 &   7 &   7 & Inf &   2 & 2784.6197\\\\\n",
       "\t BAIAP2   & cg02026049 & 7.9e-03 & 0.65 & 0.76 & Body & N\\_Shelf  & FALSE & 1123 & 0.11 & ⋯ & Inf &   6 &   5 &   5 &   4 &   9 &   9 & Inf &   4 &  661.0000\\\\\n",
       "\t CBLB     & cg18984715 & 1.2e-03 & 0.79 & 0.67 & Body & Open sea &  TRUE &  441 & 0.12 & ⋯ & Inf & Inf & Inf & 1   & Inf & Inf & Inf & Inf & 1   &    0.0000\\\\\n",
       "\t DIAPH3   & cg01899581 & 9.0e-05 & 0.64 & 0.47 & Body & N\\_Shelf  & FALSE &   53 & 0.17 & ⋯ & Inf &   9 &   8 &   8 &   7 &  12 &  12 & Inf &   7 &   15.0000\\\\\n",
       "\t EZR      & cg13433729 & 1.2e-06 & 0.61 & 0.49 & Body & Open sea &  TRUE &    2 & 0.12 & ⋯ & Inf &   6 &   7 &   1 &   5 &   5 &   5 &   0 &   0 &  747.3944\\\\\n",
       "\t ITPR1    & cg22240998 & 1.1e-03 & 0.60 & 0.50 & Body & Open sea &  TRUE &  420 & 0.10 & ⋯ & Inf &   2 &   4 &   2 &  10 &   1 &   1 & Inf &   1 &  602.8583\\\\\n",
       "\t MAP2K1   & cg21070009 & 4.1e-03 & 0.48 & 0.35 & Body & Open sea &  TRUE &  852 & 0.13 & ⋯ & Inf &   4 &   3 &   2 &   2 &   5 &   5 &   3 &   2 & 2361.4579\\\\\n",
       "\t NFATC1   & cg11321921 & 5.5e-04 & 0.78 & 0.91 & Body & Island   & FALSE &  240 & 0.13 & ⋯ & Inf &   3 &   5 &   3 &   4 &   4 &   4 & Inf &   3 &    0.0000\\\\\n",
       "\t NFATC1   & cg05687091 & 6.1e-04 & 0.54 & 0.64 & Body & Island   & FALSE &  257 & 0.10 & ⋯ & Inf &   3 &   5 &   3 &   4 &   4 &   4 & Inf &   3 &    0.0000\\\\\n",
       "\t PLCG2    & cg07671055 & 5.6e-03 & 0.48 & 0.59 & Body & Open sea & FALSE &  952 & 0.11 & ⋯ & Inf &   1 &   3 &   1 &   9 &   6 &   6 & Inf &   1 & 3295.1806\\\\\n",
       "\t TNFRSF1A & cg23752651 & 9.5e-04 & 0.58 & 0.70 & Body & Open sea & FALSE &  374 & 0.12 & ⋯ & Inf & Inf & Inf & 1   & Inf & Inf & Inf & Inf & 1   &  419.6667\\\\\n",
       "\\end{tabular}\n"
      ],
      "text/markdown": [
       "\n",
       "A data.frame: 11 × 31\n",
       "\n",
       "| Gene &lt;chr&gt; | Probe ID &lt;chr&gt; | p-value &lt;dbl&gt; | Median_CF_patients &lt;dbl&gt; | Median_Controls &lt;dbl&gt; | Genomic location &lt;chr&gt; | Island status &lt;chr&gt; | *Enhancer &lt;lgl&gt; | CpG_pvalue_rank_ &lt;int&gt; | abs_change &lt;dbl&gt; | ⋯ ⋯ | from_SLC9A3R2 &lt;dbl&gt; | from_SYK &lt;dbl&gt; | from_TRADD &lt;dbl&gt; | min_distance_to_CFTR_interactor &lt;chr&gt; | from_SRC &lt;dbl&gt; | from_PLCB1 &lt;dbl&gt; | from_PLCB3 &lt;dbl&gt; | from_EZR &lt;dbl&gt; | min_distance_to_source_nodes_2 &lt;chr&gt; | BC.score &lt;dbl&gt; |\n",
       "|---|---|---|---|---|---|---|---|---|---|---|---|---|---|---|---|---|---|---|---|---|\n",
       "| AKT3     | cg04221461 | 2.2e-03 | 0.46 | 0.56 | Body | Open sea | FALSE |  613 | 0.10 | ⋯ | Inf |   5 |   3 |   3 |   2 |   7 |   7 | Inf |   2 | 2784.6197 |\n",
       "| BAIAP2   | cg02026049 | 7.9e-03 | 0.65 | 0.76 | Body | N_Shelf  | FALSE | 1123 | 0.11 | ⋯ | Inf |   6 |   5 |   5 |   4 |   9 |   9 | Inf |   4 |  661.0000 |\n",
       "| CBLB     | cg18984715 | 1.2e-03 | 0.79 | 0.67 | Body | Open sea |  TRUE |  441 | 0.12 | ⋯ | Inf | Inf | Inf | 1   | Inf | Inf | Inf | Inf | 1   |    0.0000 |\n",
       "| DIAPH3   | cg01899581 | 9.0e-05 | 0.64 | 0.47 | Body | N_Shelf  | FALSE |   53 | 0.17 | ⋯ | Inf |   9 |   8 |   8 |   7 |  12 |  12 | Inf |   7 |   15.0000 |\n",
       "| EZR      | cg13433729 | 1.2e-06 | 0.61 | 0.49 | Body | Open sea |  TRUE |    2 | 0.12 | ⋯ | Inf |   6 |   7 |   1 |   5 |   5 |   5 |   0 |   0 |  747.3944 |\n",
       "| ITPR1    | cg22240998 | 1.1e-03 | 0.60 | 0.50 | Body | Open sea |  TRUE |  420 | 0.10 | ⋯ | Inf |   2 |   4 |   2 |  10 |   1 |   1 | Inf |   1 |  602.8583 |\n",
       "| MAP2K1   | cg21070009 | 4.1e-03 | 0.48 | 0.35 | Body | Open sea |  TRUE |  852 | 0.13 | ⋯ | Inf |   4 |   3 |   2 |   2 |   5 |   5 |   3 |   2 | 2361.4579 |\n",
       "| NFATC1   | cg11321921 | 5.5e-04 | 0.78 | 0.91 | Body | Island   | FALSE |  240 | 0.13 | ⋯ | Inf |   3 |   5 |   3 |   4 |   4 |   4 | Inf |   3 |    0.0000 |\n",
       "| NFATC1   | cg05687091 | 6.1e-04 | 0.54 | 0.64 | Body | Island   | FALSE |  257 | 0.10 | ⋯ | Inf |   3 |   5 |   3 |   4 |   4 |   4 | Inf |   3 |    0.0000 |\n",
       "| PLCG2    | cg07671055 | 5.6e-03 | 0.48 | 0.59 | Body | Open sea | FALSE |  952 | 0.11 | ⋯ | Inf |   1 |   3 |   1 |   9 |   6 |   6 | Inf |   1 | 3295.1806 |\n",
       "| TNFRSF1A | cg23752651 | 9.5e-04 | 0.58 | 0.70 | Body | Open sea | FALSE |  374 | 0.12 | ⋯ | Inf | Inf | Inf | 1   | Inf | Inf | Inf | Inf | 1   |  419.6667 |\n",
       "\n"
      ],
      "text/plain": [
       "   Gene     Probe ID   p-value Median_CF_patients Median_Controls\n",
       "1  AKT3     cg04221461 2.2e-03 0.46               0.56           \n",
       "2  BAIAP2   cg02026049 7.9e-03 0.65               0.76           \n",
       "3  CBLB     cg18984715 1.2e-03 0.79               0.67           \n",
       "4  DIAPH3   cg01899581 9.0e-05 0.64               0.47           \n",
       "5  EZR      cg13433729 1.2e-06 0.61               0.49           \n",
       "6  ITPR1    cg22240998 1.1e-03 0.60               0.50           \n",
       "7  MAP2K1   cg21070009 4.1e-03 0.48               0.35           \n",
       "8  NFATC1   cg11321921 5.5e-04 0.78               0.91           \n",
       "9  NFATC1   cg05687091 6.1e-04 0.54               0.64           \n",
       "10 PLCG2    cg07671055 5.6e-03 0.48               0.59           \n",
       "11 TNFRSF1A cg23752651 9.5e-04 0.58               0.70           \n",
       "   Genomic location Island status *Enhancer CpG_pvalue_rank_ abs_change ⋯\n",
       "1  Body             Open sea      FALSE      613             0.10       ⋯\n",
       "2  Body             N_Shelf       FALSE     1123             0.11       ⋯\n",
       "3  Body             Open sea       TRUE      441             0.12       ⋯\n",
       "4  Body             N_Shelf       FALSE       53             0.17       ⋯\n",
       "5  Body             Open sea       TRUE        2             0.12       ⋯\n",
       "6  Body             Open sea       TRUE      420             0.10       ⋯\n",
       "7  Body             Open sea       TRUE      852             0.13       ⋯\n",
       "8  Body             Island        FALSE      240             0.13       ⋯\n",
       "9  Body             Island        FALSE      257             0.10       ⋯\n",
       "10 Body             Open sea      FALSE      952             0.11       ⋯\n",
       "11 Body             Open sea      FALSE      374             0.12       ⋯\n",
       "   from_SLC9A3R2 from_SYK from_TRADD min_distance_to_CFTR_interactor from_SRC\n",
       "1  Inf             5        3          3                               2     \n",
       "2  Inf             6        5          5                               4     \n",
       "3  Inf           Inf      Inf        1                               Inf     \n",
       "4  Inf             9        8          8                               7     \n",
       "5  Inf             6        7          1                               5     \n",
       "6  Inf             2        4          2                              10     \n",
       "7  Inf             4        3          2                               2     \n",
       "8  Inf             3        5          3                               4     \n",
       "9  Inf             3        5          3                               4     \n",
       "10 Inf             1        3          1                               9     \n",
       "11 Inf           Inf      Inf        1                               Inf     \n",
       "   from_PLCB1 from_PLCB3 from_EZR min_distance_to_source_nodes_2 BC.score \n",
       "1    7          7        Inf        2                            2784.6197\n",
       "2    9          9        Inf        4                             661.0000\n",
       "3  Inf        Inf        Inf      1                                 0.0000\n",
       "4   12         12        Inf        7                              15.0000\n",
       "5    5          5          0        0                             747.3944\n",
       "6    1          1        Inf        1                             602.8583\n",
       "7    5          5          3        2                            2361.4579\n",
       "8    4          4        Inf        3                               0.0000\n",
       "9    4          4        Inf        3                               0.0000\n",
       "10   6          6        Inf        1                            3295.1806\n",
       "11 Inf        Inf        Inf      1                               419.6667"
      ]
     },
     "metadata": {},
     "output_type": "display_data"
    }
   ],
   "source": [
    "dm_CF_NCF_Genes_in_CF_network.dm_CF_NCF_df <- merge(dm_CF_NCF_Genes_in_CF_network.dm_CF_NCF_df,\n",
    "                                                    CF_PPI_network.bc.df.dm_CF_NCF_df,\n",
    "                                                    by.x = \"Gene\",\n",
    "                                                    by.y = \"Symbol\",\n",
    "                                                   all.x = T)\n",
    "dm_CF_NCF_Genes_in_CF_network.dm_CF_NCF_df"
   ]
  },
  {
   "cell_type": "markdown",
   "id": "25f8eb35-faf9-4b83-a461-17b57ed27278",
   "metadata": {},
   "source": [
    "### 2.3.5 Pathways"
   ]
  },
  {
   "cell_type": "code",
   "execution_count": 57,
   "id": "f3476696-e0b3-47bb-8c4d-7c748abdf93b",
   "metadata": {},
   "outputs": [
    {
     "data": {
      "text/html": [
       "<table class=\"dataframe\">\n",
       "<caption>A data.frame: 11 × 48</caption>\n",
       "<thead>\n",
       "\t<tr><th scope=col>Gene</th><th scope=col>Probe ID</th><th scope=col>p-value</th><th scope=col>Median_CF_patients</th><th scope=col>Median_Controls</th><th scope=col>Genomic location</th><th scope=col>Island status</th><th scope=col>*Enhancer</th><th scope=col>CpG_pvalue_rank_</th><th scope=col>abs_change</th><th scope=col>⋯</th><th scope=col>Osteoclast differentiation</th><th scope=col>Regulation of actin cytoskeleton</th><th scope=col>RIG-I-like receptor signaling pathway</th><th scope=col>T cell receptor signaling pathway</th><th scope=col>Th17 cell differentiation</th><th scope=col>TNF signaling pathway</th><th scope=col>Toll-like receptor signaling pathway</th><th scope=col>Viral protein interaction with cytokine and cytokine receptor</th><th scope=col>sum</th><th scope=col>pathway</th></tr>\n",
       "\t<tr><th scope=col>&lt;chr&gt;</th><th scope=col>&lt;chr&gt;</th><th scope=col>&lt;dbl&gt;</th><th scope=col>&lt;dbl&gt;</th><th scope=col>&lt;dbl&gt;</th><th scope=col>&lt;chr&gt;</th><th scope=col>&lt;chr&gt;</th><th scope=col>&lt;lgl&gt;</th><th scope=col>&lt;int&gt;</th><th scope=col>&lt;dbl&gt;</th><th scope=col>⋯</th><th scope=col>&lt;int&gt;</th><th scope=col>&lt;int&gt;</th><th scope=col>&lt;int&gt;</th><th scope=col>&lt;int&gt;</th><th scope=col>&lt;int&gt;</th><th scope=col>&lt;int&gt;</th><th scope=col>&lt;int&gt;</th><th scope=col>&lt;int&gt;</th><th scope=col>&lt;int&gt;</th><th scope=col>&lt;chr&gt;</th></tr>\n",
       "</thead>\n",
       "<tbody>\n",
       "\t<tr><td>AKT3    </td><td>cg04221461</td><td>2.2e-03</td><td>0.46</td><td>0.56</td><td>Body</td><td>Open sea</td><td>FALSE</td><td> 613</td><td>0.10</td><td>⋯</td><td>1</td><td>0</td><td>0</td><td>1</td><td>0</td><td>1</td><td>1</td><td>0</td><td>6</td><td>NA                              </td></tr>\n",
       "\t<tr><td>BAIAP2  </td><td>cg02026049</td><td>7.9e-03</td><td>0.65</td><td>0.76</td><td>Body</td><td>N_Shelf </td><td>FALSE</td><td>1123</td><td>0.11</td><td>⋯</td><td>0</td><td>1</td><td>0</td><td>0</td><td>0</td><td>0</td><td>0</td><td>0</td><td>1</td><td>Regulation of actin cytoskeleton</td></tr>\n",
       "\t<tr><td>CBLB    </td><td>cg18984715</td><td>1.2e-03</td><td>0.79</td><td>0.67</td><td>Body</td><td>Open sea</td><td> TRUE</td><td> 441</td><td>0.12</td><td>⋯</td><td>0</td><td>0</td><td>0</td><td>1</td><td>0</td><td>0</td><td>0</td><td>0</td><td>2</td><td>NA                              </td></tr>\n",
       "\t<tr><td>DIAPH3  </td><td>cg01899581</td><td>9.0e-05</td><td>0.64</td><td>0.47</td><td>Body</td><td>N_Shelf </td><td>FALSE</td><td>  53</td><td>0.17</td><td>⋯</td><td>0</td><td>1</td><td>0</td><td>0</td><td>0</td><td>0</td><td>0</td><td>0</td><td>1</td><td>Regulation of actin cytoskeleton</td></tr>\n",
       "\t<tr><td>EZR     </td><td>cg13433729</td><td>1.2e-06</td><td>0.61</td><td>0.49</td><td>Body</td><td>Open sea</td><td> TRUE</td><td>   2</td><td>0.12</td><td>⋯</td><td>0</td><td>1</td><td>0</td><td>0</td><td>0</td><td>0</td><td>0</td><td>0</td><td>1</td><td>Regulation of actin cytoskeleton</td></tr>\n",
       "\t<tr><td>ITPR1   </td><td>cg22240998</td><td>1.1e-03</td><td>0.60</td><td>0.50</td><td>Body</td><td>Open sea</td><td> TRUE</td><td> 420</td><td>0.10</td><td>⋯</td><td>0</td><td>0</td><td>0</td><td>0</td><td>0</td><td>0</td><td>0</td><td>0</td><td>3</td><td>NA                              </td></tr>\n",
       "\t<tr><td>MAP2K1  </td><td>cg21070009</td><td>4.1e-03</td><td>0.48</td><td>0.35</td><td>Body</td><td>Open sea</td><td> TRUE</td><td> 852</td><td>0.13</td><td>⋯</td><td>1</td><td>1</td><td>0</td><td>1</td><td>0</td><td>1</td><td>1</td><td>0</td><td>6</td><td>NA                              </td></tr>\n",
       "\t<tr><td>NFATC1  </td><td>cg11321921</td><td>5.5e-04</td><td>0.78</td><td>0.91</td><td>Body</td><td>Island  </td><td>FALSE</td><td> 240</td><td>0.13</td><td>⋯</td><td>1</td><td>0</td><td>0</td><td>1</td><td>1</td><td>0</td><td>0</td><td>0</td><td>4</td><td>NA                              </td></tr>\n",
       "\t<tr><td>NFATC1  </td><td>cg05687091</td><td>6.1e-04</td><td>0.54</td><td>0.64</td><td>Body</td><td>Island  </td><td>FALSE</td><td> 257</td><td>0.10</td><td>⋯</td><td>1</td><td>0</td><td>0</td><td>1</td><td>1</td><td>0</td><td>0</td><td>0</td><td>4</td><td>NA                              </td></tr>\n",
       "\t<tr><td>PLCG2   </td><td>cg07671055</td><td>5.6e-03</td><td>0.48</td><td>0.59</td><td>Body</td><td>Open sea</td><td>FALSE</td><td> 952</td><td>0.11</td><td>⋯</td><td>1</td><td>0</td><td>0</td><td>0</td><td>0</td><td>0</td><td>0</td><td>0</td><td>2</td><td>NA                              </td></tr>\n",
       "\t<tr><td>TNFRSF1A</td><td>cg23752651</td><td>9.5e-04</td><td>0.58</td><td>0.70</td><td>Body</td><td>Open sea</td><td>FALSE</td><td> 374</td><td>0.12</td><td>⋯</td><td>1</td><td>0</td><td>0</td><td>0</td><td>0</td><td>1</td><td>0</td><td>1</td><td>5</td><td>NA                              </td></tr>\n",
       "</tbody>\n",
       "</table>\n"
      ],
      "text/latex": [
       "A data.frame: 11 × 48\n",
       "\\begin{tabular}{lllllllllllllllllllll}\n",
       " Gene & Probe ID & p-value & Median\\_CF\\_patients & Median\\_Controls & Genomic location & Island status & *Enhancer & CpG\\_pvalue\\_rank\\_ & abs\\_change & ⋯ & Osteoclast differentiation & Regulation of actin cytoskeleton & RIG-I-like receptor signaling pathway & T cell receptor signaling pathway & Th17 cell differentiation & TNF signaling pathway & Toll-like receptor signaling pathway & Viral protein interaction with cytokine and cytokine receptor & sum & pathway\\\\\n",
       " <chr> & <chr> & <dbl> & <dbl> & <dbl> & <chr> & <chr> & <lgl> & <int> & <dbl> & ⋯ & <int> & <int> & <int> & <int> & <int> & <int> & <int> & <int> & <int> & <chr>\\\\\n",
       "\\hline\n",
       "\t AKT3     & cg04221461 & 2.2e-03 & 0.46 & 0.56 & Body & Open sea & FALSE &  613 & 0.10 & ⋯ & 1 & 0 & 0 & 1 & 0 & 1 & 1 & 0 & 6 & NA                              \\\\\n",
       "\t BAIAP2   & cg02026049 & 7.9e-03 & 0.65 & 0.76 & Body & N\\_Shelf  & FALSE & 1123 & 0.11 & ⋯ & 0 & 1 & 0 & 0 & 0 & 0 & 0 & 0 & 1 & Regulation of actin cytoskeleton\\\\\n",
       "\t CBLB     & cg18984715 & 1.2e-03 & 0.79 & 0.67 & Body & Open sea &  TRUE &  441 & 0.12 & ⋯ & 0 & 0 & 0 & 1 & 0 & 0 & 0 & 0 & 2 & NA                              \\\\\n",
       "\t DIAPH3   & cg01899581 & 9.0e-05 & 0.64 & 0.47 & Body & N\\_Shelf  & FALSE &   53 & 0.17 & ⋯ & 0 & 1 & 0 & 0 & 0 & 0 & 0 & 0 & 1 & Regulation of actin cytoskeleton\\\\\n",
       "\t EZR      & cg13433729 & 1.2e-06 & 0.61 & 0.49 & Body & Open sea &  TRUE &    2 & 0.12 & ⋯ & 0 & 1 & 0 & 0 & 0 & 0 & 0 & 0 & 1 & Regulation of actin cytoskeleton\\\\\n",
       "\t ITPR1    & cg22240998 & 1.1e-03 & 0.60 & 0.50 & Body & Open sea &  TRUE &  420 & 0.10 & ⋯ & 0 & 0 & 0 & 0 & 0 & 0 & 0 & 0 & 3 & NA                              \\\\\n",
       "\t MAP2K1   & cg21070009 & 4.1e-03 & 0.48 & 0.35 & Body & Open sea &  TRUE &  852 & 0.13 & ⋯ & 1 & 1 & 0 & 1 & 0 & 1 & 1 & 0 & 6 & NA                              \\\\\n",
       "\t NFATC1   & cg11321921 & 5.5e-04 & 0.78 & 0.91 & Body & Island   & FALSE &  240 & 0.13 & ⋯ & 1 & 0 & 0 & 1 & 1 & 0 & 0 & 0 & 4 & NA                              \\\\\n",
       "\t NFATC1   & cg05687091 & 6.1e-04 & 0.54 & 0.64 & Body & Island   & FALSE &  257 & 0.10 & ⋯ & 1 & 0 & 0 & 1 & 1 & 0 & 0 & 0 & 4 & NA                              \\\\\n",
       "\t PLCG2    & cg07671055 & 5.6e-03 & 0.48 & 0.59 & Body & Open sea & FALSE &  952 & 0.11 & ⋯ & 1 & 0 & 0 & 0 & 0 & 0 & 0 & 0 & 2 & NA                              \\\\\n",
       "\t TNFRSF1A & cg23752651 & 9.5e-04 & 0.58 & 0.70 & Body & Open sea & FALSE &  374 & 0.12 & ⋯ & 1 & 0 & 0 & 0 & 0 & 1 & 0 & 1 & 5 & NA                              \\\\\n",
       "\\end{tabular}\n"
      ],
      "text/markdown": [
       "\n",
       "A data.frame: 11 × 48\n",
       "\n",
       "| Gene &lt;chr&gt; | Probe ID &lt;chr&gt; | p-value &lt;dbl&gt; | Median_CF_patients &lt;dbl&gt; | Median_Controls &lt;dbl&gt; | Genomic location &lt;chr&gt; | Island status &lt;chr&gt; | *Enhancer &lt;lgl&gt; | CpG_pvalue_rank_ &lt;int&gt; | abs_change &lt;dbl&gt; | ⋯ ⋯ | Osteoclast differentiation &lt;int&gt; | Regulation of actin cytoskeleton &lt;int&gt; | RIG-I-like receptor signaling pathway &lt;int&gt; | T cell receptor signaling pathway &lt;int&gt; | Th17 cell differentiation &lt;int&gt; | TNF signaling pathway &lt;int&gt; | Toll-like receptor signaling pathway &lt;int&gt; | Viral protein interaction with cytokine and cytokine receptor &lt;int&gt; | sum &lt;int&gt; | pathway &lt;chr&gt; |\n",
       "|---|---|---|---|---|---|---|---|---|---|---|---|---|---|---|---|---|---|---|---|---|\n",
       "| AKT3     | cg04221461 | 2.2e-03 | 0.46 | 0.56 | Body | Open sea | FALSE |  613 | 0.10 | ⋯ | 1 | 0 | 0 | 1 | 0 | 1 | 1 | 0 | 6 | NA                               |\n",
       "| BAIAP2   | cg02026049 | 7.9e-03 | 0.65 | 0.76 | Body | N_Shelf  | FALSE | 1123 | 0.11 | ⋯ | 0 | 1 | 0 | 0 | 0 | 0 | 0 | 0 | 1 | Regulation of actin cytoskeleton |\n",
       "| CBLB     | cg18984715 | 1.2e-03 | 0.79 | 0.67 | Body | Open sea |  TRUE |  441 | 0.12 | ⋯ | 0 | 0 | 0 | 1 | 0 | 0 | 0 | 0 | 2 | NA                               |\n",
       "| DIAPH3   | cg01899581 | 9.0e-05 | 0.64 | 0.47 | Body | N_Shelf  | FALSE |   53 | 0.17 | ⋯ | 0 | 1 | 0 | 0 | 0 | 0 | 0 | 0 | 1 | Regulation of actin cytoskeleton |\n",
       "| EZR      | cg13433729 | 1.2e-06 | 0.61 | 0.49 | Body | Open sea |  TRUE |    2 | 0.12 | ⋯ | 0 | 1 | 0 | 0 | 0 | 0 | 0 | 0 | 1 | Regulation of actin cytoskeleton |\n",
       "| ITPR1    | cg22240998 | 1.1e-03 | 0.60 | 0.50 | Body | Open sea |  TRUE |  420 | 0.10 | ⋯ | 0 | 0 | 0 | 0 | 0 | 0 | 0 | 0 | 3 | NA                               |\n",
       "| MAP2K1   | cg21070009 | 4.1e-03 | 0.48 | 0.35 | Body | Open sea |  TRUE |  852 | 0.13 | ⋯ | 1 | 1 | 0 | 1 | 0 | 1 | 1 | 0 | 6 | NA                               |\n",
       "| NFATC1   | cg11321921 | 5.5e-04 | 0.78 | 0.91 | Body | Island   | FALSE |  240 | 0.13 | ⋯ | 1 | 0 | 0 | 1 | 1 | 0 | 0 | 0 | 4 | NA                               |\n",
       "| NFATC1   | cg05687091 | 6.1e-04 | 0.54 | 0.64 | Body | Island   | FALSE |  257 | 0.10 | ⋯ | 1 | 0 | 0 | 1 | 1 | 0 | 0 | 0 | 4 | NA                               |\n",
       "| PLCG2    | cg07671055 | 5.6e-03 | 0.48 | 0.59 | Body | Open sea | FALSE |  952 | 0.11 | ⋯ | 1 | 0 | 0 | 0 | 0 | 0 | 0 | 0 | 2 | NA                               |\n",
       "| TNFRSF1A | cg23752651 | 9.5e-04 | 0.58 | 0.70 | Body | Open sea | FALSE |  374 | 0.12 | ⋯ | 1 | 0 | 0 | 0 | 0 | 1 | 0 | 1 | 5 | NA                               |\n",
       "\n"
      ],
      "text/plain": [
       "   Gene     Probe ID   p-value Median_CF_patients Median_Controls\n",
       "1  AKT3     cg04221461 2.2e-03 0.46               0.56           \n",
       "2  BAIAP2   cg02026049 7.9e-03 0.65               0.76           \n",
       "3  CBLB     cg18984715 1.2e-03 0.79               0.67           \n",
       "4  DIAPH3   cg01899581 9.0e-05 0.64               0.47           \n",
       "5  EZR      cg13433729 1.2e-06 0.61               0.49           \n",
       "6  ITPR1    cg22240998 1.1e-03 0.60               0.50           \n",
       "7  MAP2K1   cg21070009 4.1e-03 0.48               0.35           \n",
       "8  NFATC1   cg11321921 5.5e-04 0.78               0.91           \n",
       "9  NFATC1   cg05687091 6.1e-04 0.54               0.64           \n",
       "10 PLCG2    cg07671055 5.6e-03 0.48               0.59           \n",
       "11 TNFRSF1A cg23752651 9.5e-04 0.58               0.70           \n",
       "   Genomic location Island status *Enhancer CpG_pvalue_rank_ abs_change ⋯\n",
       "1  Body             Open sea      FALSE      613             0.10       ⋯\n",
       "2  Body             N_Shelf       FALSE     1123             0.11       ⋯\n",
       "3  Body             Open sea       TRUE      441             0.12       ⋯\n",
       "4  Body             N_Shelf       FALSE       53             0.17       ⋯\n",
       "5  Body             Open sea       TRUE        2             0.12       ⋯\n",
       "6  Body             Open sea       TRUE      420             0.10       ⋯\n",
       "7  Body             Open sea       TRUE      852             0.13       ⋯\n",
       "8  Body             Island        FALSE      240             0.13       ⋯\n",
       "9  Body             Island        FALSE      257             0.10       ⋯\n",
       "10 Body             Open sea      FALSE      952             0.11       ⋯\n",
       "11 Body             Open sea      FALSE      374             0.12       ⋯\n",
       "   Osteoclast differentiation Regulation of actin cytoskeleton\n",
       "1  1                          0                               \n",
       "2  0                          1                               \n",
       "3  0                          0                               \n",
       "4  0                          1                               \n",
       "5  0                          1                               \n",
       "6  0                          0                               \n",
       "7  1                          1                               \n",
       "8  1                          0                               \n",
       "9  1                          0                               \n",
       "10 1                          0                               \n",
       "11 1                          0                               \n",
       "   RIG-I-like receptor signaling pathway T cell receptor signaling pathway\n",
       "1  0                                     1                                \n",
       "2  0                                     0                                \n",
       "3  0                                     1                                \n",
       "4  0                                     0                                \n",
       "5  0                                     0                                \n",
       "6  0                                     0                                \n",
       "7  0                                     1                                \n",
       "8  0                                     1                                \n",
       "9  0                                     1                                \n",
       "10 0                                     0                                \n",
       "11 0                                     0                                \n",
       "   Th17 cell differentiation TNF signaling pathway\n",
       "1  0                         1                    \n",
       "2  0                         0                    \n",
       "3  0                         0                    \n",
       "4  0                         0                    \n",
       "5  0                         0                    \n",
       "6  0                         0                    \n",
       "7  0                         1                    \n",
       "8  1                         0                    \n",
       "9  1                         0                    \n",
       "10 0                         0                    \n",
       "11 0                         1                    \n",
       "   Toll-like receptor signaling pathway\n",
       "1  1                                   \n",
       "2  0                                   \n",
       "3  0                                   \n",
       "4  0                                   \n",
       "5  0                                   \n",
       "6  0                                   \n",
       "7  1                                   \n",
       "8  0                                   \n",
       "9  0                                   \n",
       "10 0                                   \n",
       "11 0                                   \n",
       "   Viral protein interaction with cytokine and cytokine receptor sum\n",
       "1  0                                                             6  \n",
       "2  0                                                             1  \n",
       "3  0                                                             2  \n",
       "4  0                                                             1  \n",
       "5  0                                                             1  \n",
       "6  0                                                             3  \n",
       "7  0                                                             6  \n",
       "8  0                                                             4  \n",
       "9  0                                                             4  \n",
       "10 0                                                             2  \n",
       "11 1                                                             5  \n",
       "   pathway                         \n",
       "1  NA                              \n",
       "2  Regulation of actin cytoskeleton\n",
       "3  NA                              \n",
       "4  Regulation of actin cytoskeleton\n",
       "5  Regulation of actin cytoskeleton\n",
       "6  NA                              \n",
       "7  NA                              \n",
       "8  NA                              \n",
       "9  NA                              \n",
       "10 NA                              \n",
       "11 NA                              "
      ]
     },
     "metadata": {},
     "output_type": "display_data"
    }
   ],
   "source": [
    "dm_CF_NCF_Genes_in_CF_network.CF_network_df <- CF_PPI_network.pruned.nodes[which(CF_PPI_network.pruned.nodes$Symbol %in% dm_CF_NCF_Genes_in_CF_network.list),]\n",
    "\n",
    "dm_CF_NCF_Genes_in_CF_network.dm_CF_NCF_df <- merge(dm_CF_NCF_Genes_in_CF_network.dm_CF_NCF_df,\n",
    "                                                    CF_PPI_network.pruned.nodes[,1:18],\n",
    "                                                    by.x = \"Gene\",\n",
    "                                                    by.y = \"Symbol\",\n",
    "                                                   all.x = T)\n",
    "dm_CF_NCF_Genes_in_CF_network.dm_CF_NCF_df"
   ]
  },
  {
   "cell_type": "code",
   "execution_count": 58,
   "id": "b24a2f5a-a829-43f6-aade-d49648f71370",
   "metadata": {},
   "outputs": [],
   "source": [
    "write.table(dm_CF_NCF_Genes_in_CF_network.dm_CF_NCF_df,\n",
    "            file = \"../CFMethylomeSysbio/dm_CpG_CF_NCF_in_CF_network_analysis_20241009.tsv\",\n",
    "            sep = \"\\t\",\n",
    "            row.names = F,\n",
    "            quote = FALSE)"
   ]
  },
  {
   "cell_type": "markdown",
   "id": "6285d60d-8151-4074-8a07-f7767ebeaa49",
   "metadata": {},
   "source": [
    "## Adding a tag in the CF network"
   ]
  },
  {
   "cell_type": "code",
   "execution_count": 60,
   "id": "41c1395e-cb16-4735-b292-dd3f9d8aee95",
   "metadata": {},
   "outputs": [
    {
     "data": {
      "text/plain": [
       "\n",
       "FALSE  TRUE \n",
       "  329    10 "
      ]
     },
     "metadata": {},
     "output_type": "display_data"
    }
   ],
   "source": [
    "CF_PPI_network.pruned.nodes$diff_methylated <- CF_PPI_network.pruned.nodes$Symbol %in% dm_CF_NCF_Genes_in_CF_network.list\n"
   ]
  },
  {
   "cell_type": "code",
   "execution_count": 62,
   "id": "394672fb-0c13-4e91-84b4-411423e86927",
   "metadata": {},
   "outputs": [
    {
     "data": {
      "text/html": [
       "<style>\n",
       ".list-inline {list-style: none; margin:0; padding: 0}\n",
       ".list-inline>li {display: inline-block}\n",
       ".list-inline>li:not(:last-child)::after {content: \"\\00b7\"; padding: 0 .5ex}\n",
       "</style>\n",
       "<ol class=list-inline><li>'Symbol'</li><li>'C-type lectin receptor signaling pathway'</li><li>'Cytokine-cytokine receptor interaction'</li><li>'Cytosolic DNA-sensing pathway'</li><li>'Estrogen signaling pathway'</li><li>'IL-17 signaling pathway'</li><li>'NF-kappa B signaling pathway'</li><li>'NOD-like receptor signaling pathway'</li><li>'Osteoclast differentiation'</li><li>'Regulation of actin cytoskeleton'</li><li>'RIG-I-like receptor signaling pathway'</li><li>'T cell receptor signaling pathway'</li><li>'Th17 cell differentiation'</li><li>'TNF signaling pathway'</li><li>'Toll-like receptor signaling pathway'</li><li>'Viral protein interaction with cytokine and cytokine receptor'</li><li>'sum'</li><li>'pathway'</li><li>'CFTR_interactor'</li><li>'dorothea_tf'</li><li>'receptor_ligand'</li><li>'receptor'</li><li>'diff_methylated'</li></ol>\n"
      ],
      "text/latex": [
       "\\begin{enumerate*}\n",
       "\\item 'Symbol'\n",
       "\\item 'C-type lectin receptor signaling pathway'\n",
       "\\item 'Cytokine-cytokine receptor interaction'\n",
       "\\item 'Cytosolic DNA-sensing pathway'\n",
       "\\item 'Estrogen signaling pathway'\n",
       "\\item 'IL-17 signaling pathway'\n",
       "\\item 'NF-kappa B signaling pathway'\n",
       "\\item 'NOD-like receptor signaling pathway'\n",
       "\\item 'Osteoclast differentiation'\n",
       "\\item 'Regulation of actin cytoskeleton'\n",
       "\\item 'RIG-I-like receptor signaling pathway'\n",
       "\\item 'T cell receptor signaling pathway'\n",
       "\\item 'Th17 cell differentiation'\n",
       "\\item 'TNF signaling pathway'\n",
       "\\item 'Toll-like receptor signaling pathway'\n",
       "\\item 'Viral protein interaction with cytokine and cytokine receptor'\n",
       "\\item 'sum'\n",
       "\\item 'pathway'\n",
       "\\item 'CFTR\\_interactor'\n",
       "\\item 'dorothea\\_tf'\n",
       "\\item 'receptor\\_ligand'\n",
       "\\item 'receptor'\n",
       "\\item 'diff\\_methylated'\n",
       "\\end{enumerate*}\n"
      ],
      "text/markdown": [
       "1. 'Symbol'\n",
       "2. 'C-type lectin receptor signaling pathway'\n",
       "3. 'Cytokine-cytokine receptor interaction'\n",
       "4. 'Cytosolic DNA-sensing pathway'\n",
       "5. 'Estrogen signaling pathway'\n",
       "6. 'IL-17 signaling pathway'\n",
       "7. 'NF-kappa B signaling pathway'\n",
       "8. 'NOD-like receptor signaling pathway'\n",
       "9. 'Osteoclast differentiation'\n",
       "10. 'Regulation of actin cytoskeleton'\n",
       "11. 'RIG-I-like receptor signaling pathway'\n",
       "12. 'T cell receptor signaling pathway'\n",
       "13. 'Th17 cell differentiation'\n",
       "14. 'TNF signaling pathway'\n",
       "15. 'Toll-like receptor signaling pathway'\n",
       "16. 'Viral protein interaction with cytokine and cytokine receptor'\n",
       "17. 'sum'\n",
       "18. 'pathway'\n",
       "19. 'CFTR_interactor'\n",
       "20. 'dorothea_tf'\n",
       "21. 'receptor_ligand'\n",
       "22. 'receptor'\n",
       "23. 'diff_methylated'\n",
       "\n",
       "\n"
      ],
      "text/plain": [
       " [1] \"Symbol\"                                                       \n",
       " [2] \"C-type lectin receptor signaling pathway\"                     \n",
       " [3] \"Cytokine-cytokine receptor interaction\"                       \n",
       " [4] \"Cytosolic DNA-sensing pathway\"                                \n",
       " [5] \"Estrogen signaling pathway\"                                   \n",
       " [6] \"IL-17 signaling pathway\"                                      \n",
       " [7] \"NF-kappa B signaling pathway\"                                 \n",
       " [8] \"NOD-like receptor signaling pathway\"                          \n",
       " [9] \"Osteoclast differentiation\"                                   \n",
       "[10] \"Regulation of actin cytoskeleton\"                             \n",
       "[11] \"RIG-I-like receptor signaling pathway\"                        \n",
       "[12] \"T cell receptor signaling pathway\"                            \n",
       "[13] \"Th17 cell differentiation\"                                    \n",
       "[14] \"TNF signaling pathway\"                                        \n",
       "[15] \"Toll-like receptor signaling pathway\"                         \n",
       "[16] \"Viral protein interaction with cytokine and cytokine receptor\"\n",
       "[17] \"sum\"                                                          \n",
       "[18] \"pathway\"                                                      \n",
       "[19] \"CFTR_interactor\"                                              \n",
       "[20] \"dorothea_tf\"                                                  \n",
       "[21] \"receptor_ligand\"                                              \n",
       "[22] \"receptor\"                                                     \n",
       "[23] \"diff_methylated\"                                              "
      ]
     },
     "metadata": {},
     "output_type": "display_data"
    }
   ],
   "source": [
    "colnames(CF_PPI_network.pruned.nodes)"
   ]
  },
  {
   "cell_type": "markdown",
   "id": "5cb6f86e-4bc6-414e-8966-359e5fcc1ba2",
   "metadata": {},
   "source": [
    "# 3. Differentially methylated CpG sites between severe and mild dataframe"
   ]
  },
  {
   "cell_type": "code",
   "execution_count": null,
   "id": "ff68759a-31d3-4bc9-90fa-707b7b346a7d",
   "metadata": {},
   "outputs": [],
   "source": [
    "dm_severe_mild_sup_table4_189CpG <- \n",
    "  read.table(file = \"../CFMethylomeSysbio/dm_CpG_CF_severe_mild_Magalhaes_2018_sup_table_4.tsv\",\n",
    "             skip = 1,\n",
    "             quote = \"\\\"\",\n",
    "             sep = \"\\t\",\n",
    "             header = T,\n",
    "             check.names = F)\n",
    "\n",
    "dm_severe_mild_sup_table4_189CpG <- \n",
    "  dm_severe_mild_sup_table4_189CpG[order(dm_severe_mild_sup_table4_189CpG$`p-value`),]\n",
    "dm_severe_mild_sup_table4_189CpG$CpG_rank <- 1:dim(dm_severe_mild_sup_table4_189CpG)[1]"
   ]
  },
  {
   "cell_type": "markdown",
   "id": "acd4abc4-102f-410f-8bc9-9068c2e6dcbb",
   "metadata": {},
   "source": [
    "## 3.1 Keeping only CpG sites in the body of the genes"
   ]
  },
  {
   "cell_type": "code",
   "execution_count": null,
   "id": "65cd65c7-38db-4f57-b3a6-71f3693aec19",
   "metadata": {},
   "outputs": [],
   "source": [
    "dm_severe_mild_sup_table4_189CpG_onlyGenes <- \n",
    "  dm_severe_mild_sup_table4_189CpG[which(dm_severe_mild_sup_table4_189CpG$`Genomic location`==\"Body\"),]\n",
    "\n",
    "dm_severe_mild_sup_table4_189CpG_onlyGenes$Gene_rank <- 1:dim(dm_severe_mild_sup_table4_189CpG_onlyGenes)[1]"
   ]
  },
  {
   "cell_type": "markdown",
   "id": "a181a075-454a-4510-9190-07344d028368",
   "metadata": {},
   "source": [
    "# 3.2 Searching for dm genes in the CF network"
   ]
  },
  {
   "cell_type": "code",
   "execution_count": null,
   "id": "4cf214ad-d04e-47a0-b64d-20c56b6ce372",
   "metadata": {},
   "outputs": [],
   "source": [
    "dm_severe_mild_sup_table4_189CpG_Genes.list <- unique(dm_severe_mild_sup_table4_189CpG_onlyGenes$Gene)\n",
    "\n",
    "dm_CF_NCF_Genes_in_CF_network.list <- \n",
    "  dm_severe_mild_sup_table4_189CpG_Genes.list[which(dm_severe_mild_sup_table4_189CpG_Genes.list %in% CF_PPI_network.pruned.nodes$Symbol)]\n",
    "\n",
    "dm_CF_NCF_Genes_in_CF_network.CF_network_df <- \n",
    "  CF_PPI_network.lcc.node_type.nodes[which(CF_PPI_network.pruned.nodes$Symbol %in% dm_CF_NCF_Genes_in_CF_network.list),]\n",
    "\n",
    "dm_CF_NCF_Genes_in_CF_network.dm_CF_NCF_df <-\n",
    "  dm_severe_mild_sup_table4_189CpG[which(dm_severe_mild_sup_table4_189CpG$Gene %in% dm_CF_NCF_Genes_in_CF_network.list),]"
   ]
  },
  {
   "cell_type": "code",
   "execution_count": null,
   "id": "df94c2d4-62a4-4982-97c0-2ae4e8184ff6",
   "metadata": {},
   "outputs": [],
   "source": [
    "dm_CF_NCF_Genes_in_CF_network.list"
   ]
  },
  {
   "cell_type": "code",
   "execution_count": null,
   "id": "d019d501-12fa-4e3c-b1d6-dacd4c519f00",
   "metadata": {},
   "outputs": [],
   "source": []
  }
 ],
 "metadata": {
  "kernelspec": {
   "display_name": "R [conda env:r_venv_conda]",
   "language": "R",
   "name": "conda-env-r_venv_conda-r"
  },
  "language_info": {
   "codemirror_mode": "r",
   "file_extension": ".r",
   "mimetype": "text/x-r-source",
   "name": "R",
   "pygments_lexer": "r",
   "version": "4.4.1"
  }
 },
 "nbformat": 4,
 "nbformat_minor": 5
}
